{
 "cells": [
  {
   "cell_type": "markdown",
   "id": "5482a447",
   "metadata": {},
   "source": [
    "**Show all your work for full credit. Each source code you submit should include detailed comments and instructions on how to run it in order to confirm that it works as expected. If the program that does not run or throws runtime errors, it cannot be graded. You can refer to the programming guidelines from the TAs here: https://tinyurl.com/CPEG-472-672-Programming-Guide/**\n",
    "\n",
    "**This is an individual assignment and each student should work on their own. Ensure you don't share any code online or with others (note, using Replit, GitHub and similar online platforms can make your code accessible to others).**\n",
    "\n",
    "**To submit the assignment, you need to use Jupyter Notebook with the provided cell blocks and follow the naming conventions and instructions posted here: https://tinyurl.com/CPEG-472-672-Programming-Guide/**"
   ]
  },
  {
   "cell_type": "markdown",
   "id": "4cd5f139",
   "metadata": {},
   "source": [
    "Before you turn this problem in, make sure everything runs as expected. First, **restart the kernel** (in the menubar, select Kernel $\\rightarrow$ Restart) and then **run all cells** (in the menubar, select Cell $\\rightarrow$ Run All).\n",
    "\n",
    "Make sure you fill in any place that says `YOUR CODE HERE` or \"YOUR ANSWER HERE\", as well as your name and section below:"
   ]
  },
  {
   "cell_type": "code",
   "execution_count": null,
   "id": "704f2845",
   "metadata": {},
   "outputs": [],
   "source": [
    "NAME = \"Shruthilaya Arun\"\n",
    "#SECTION = \"472\"\n",
    "SECTION = \"672\""
   ]
  },
  {
   "cell_type": "markdown",
   "id": "ce2deaaa",
   "metadata": {},
   "source": [
    "---"
   ]
  },
  {
   "cell_type": "markdown",
   "id": "8d38e7be-bc5a-4650-ab2a-4855a3d16e4d",
   "metadata": {
    "deletable": false,
    "editable": false,
    "nbgrader": {
     "cell_type": "markdown",
     "checksum": "ff10ae3be4a6011d162a98ebb70f55ca",
     "grade": false,
     "grade_id": "cell-c171860518640a96",
     "locked": true,
     "schema_version": 3,
     "solution": false,
     "task": false
    }
   },
   "source": [
    "#### <font color='blue'> Q1 [40 points total - answer all parts] </font>"
   ]
  },
  {
   "cell_type": "markdown",
   "id": "b1c3fd5c-2497-4709-ace7-903c4dd1888b",
   "metadata": {
    "deletable": false,
    "editable": false,
    "nbgrader": {
     "cell_type": "markdown",
     "checksum": "ab504dfe31a5ba36ee40d823329bb55d",
     "grade": false,
     "grade_id": "cell-bfd1583ba51ef739",
     "locked": true,
     "schema_version": 3,
     "solution": false,
     "task": false
    }
   },
   "source": [
    "### <font color='blue'>  Q1 [40 points] Implement a CBC-MAC construction based on AES-128 as illustrated in the lecture and the book. Select two messages M1 and M2 and use your program to compute the corresponding tags T1 and T2. The size of M1 and M2 should be a multiple of the block size of the block cipher. Then, given (M1,T1) and (M2,T2), compute a valid forgery (M3,T3) for your CBC-MAC.\n",
    "\n",
    " "
   ]
  },
  {
   "cell_type": "code",
   "execution_count": null,
   "id": "59138bb2-bcdc-4f6e-90eb-7505518727e1",
   "metadata": {
    "deletable": false,
    "editable": false,
    "nbgrader": {
     "cell_type": "code",
     "checksum": "5a4b00f09e6a090de0c37ba3126fff1f",
     "grade": false,
     "grade_id": "cell-723e3d1935c8a5ac",
     "locked": true,
     "schema_version": 3,
     "solution": false,
     "task": false
    }
   },
   "outputs": [],
   "source": [
    "import string\n",
    "from Crypto.Cipher import AES\n",
    "\n",
    "BLOCK_SIZE = 16"
   ]
  },
  {
   "cell_type": "code",
   "execution_count": 1,
   "id": "b1f8541d",
   "metadata": {},
   "outputs": [],
   "source": [
    "import string\n",
    "from Cryptodome.Cipher import AES\n",
    "\n",
    "BLOCK_SIZE = 16"
   ]
  },
  {
   "cell_type": "code",
   "execution_count": 2,
   "id": "6dc9a3ad-a438-44e8-be6a-23df47697b73",
   "metadata": {
    "deletable": false,
    "editable": false,
    "nbgrader": {
     "cell_type": "code",
     "checksum": "a0ab88b56d9c57b1fcd7430a6298c891",
     "grade": false,
     "grade_id": "cell-8ab04afe01e6837b",
     "locked": true,
     "schema_version": 3,
     "solution": false,
     "task": false
    }
   },
   "outputs": [],
   "source": [
    "# you can use this function to xor two bytes, or two strings.\n",
    "def xor(x,y):\n",
    "    if type(x) == type(y) == str:\n",
    "        return \"\".join([chr(ord(a) ^ ord(b)) for a,b in zip(x,y)])\n",
    "    elif type(x) == type(y) == bytes:\n",
    "        return \"\".join([chr(a ^ b) for a,b in zip(x,y)]).encode('iso-8859-1')\n",
    "    else:\n",
    "        print(\"Error: type mismatch\")"
   ]
  },
  {
   "cell_type": "code",
   "execution_count": 3,
   "id": "6786b8fe-3dce-4376-a39b-9ea0716fe792",
   "metadata": {
    "deletable": false,
    "nbgrader": {
     "cell_type": "code",
     "checksum": "a2cd9bf24ad85825fdb3ae9f11b14f86",
     "grade": false,
     "grade_id": "cell-80e74608889f4fcd",
     "locked": false,
     "schema_version": 3,
     "solution": true,
     "task": false
    }
   },
   "outputs": [],
   "source": [
    "# 20 points\n",
    "def cbc_mac_aes_128(key: bytes, data: bytes) -> str:\n",
    "    \"\"\" Write a CBC-MAC using AES-128 with iv=0 \"\"\"\n",
    "    \"\"\" Return value as a hex string \"\"\"\n",
    "    assert len(key) == BLOCK_SIZE\n",
    "    assert len(data) % BLOCK_SIZE == 0\n",
    "    iv = b'\\0' * BLOCK_SIZE\n",
    "    macval = \"\" # mac as a hex string\n",
    "    # YOUR CODE HERE\n",
    "    iv=b'\\0'*BLOCK_SIZE # iv\n",
    "    cipher=AES.new(key,AES.MODE_ECB) \n",
    "    mac=iv # set initial value to iv\n",
    "    for i in range(0,len(data),BLOCK_SIZE):\n",
    "        block=data[i:i+BLOCK_SIZE] # get block\n",
    "        mac=cipher.encrypt(xor(mac,block)) # xor block with mac\n",
    "    #raise NotImplementedError()\n",
    "    return mac.hex()"
   ]
  },
  {
   "cell_type": "code",
   "execution_count": 4,
   "id": "df0fe1ef-604c-4081-b0dd-f48168a23fee",
   "metadata": {
    "deletable": false,
    "editable": false,
    "nbgrader": {
     "cell_type": "code",
     "checksum": "1bd70098ba0823e9d2f3970f2183b4f8",
     "grade": true,
     "grade_id": "cell-dc3a472aeb7df34d",
     "locked": true,
     "points": 5,
     "schema_version": 3,
     "solution": false,
     "task": false
    }
   },
   "outputs": [],
   "source": [
    "secret = b\"This is a secret\"\n",
    "m1 =     b\"This is a CBCMAC\"\n",
    "tag1 = cbc_mac_aes_128(secret, m1)\n",
    "assert all(c in string.hexdigits for c in tag1)  ##is hex string\n",
    "assert len(tag1) == 32 # Is 16 bytes (32 hex digits) long"
   ]
  },
  {
   "cell_type": "code",
   "execution_count": 5,
   "id": "495ebf45-7748-4fdc-b87f-9568aa747f6e",
   "metadata": {
    "deletable": false,
    "editable": false,
    "nbgrader": {
     "cell_type": "code",
     "checksum": "a39f4a539cae8ce28028c7df6e7b1f4a",
     "grade": true,
     "grade_id": "cell-aa7bece7696691c5",
     "locked": true,
     "points": 15,
     "schema_version": 3,
     "solution": false,
     "task": false
    }
   },
   "outputs": [],
   "source": [
    "secret = b\"This is a secret\"\n",
    "m1 =     b\"This is a CBCMAC\"\n",
    "tag1 = cbc_mac_aes_128(secret, m1)\n",
    "assert tag1 == \"03c30100ee85d03d467362724b2ec83f\"\n",
    "\n",
    "m2 = b\"This is Second Msg blah blah ...\"\n",
    "tag2 = cbc_mac_aes_128(secret, m2)\n",
    "assert tag2 == \"49f35e02ce4f6147d6260b17cc163a7f\""
   ]
  },
  {
   "cell_type": "code",
   "execution_count": 16,
   "id": "6bfd2936-6d8e-488d-b5d6-e76c40cb1f56",
   "metadata": {
    "deletable": false,
    "nbgrader": {
     "cell_type": "code",
     "checksum": "579482db9c4b34d04bd6f0006ea20370",
     "grade": false,
     "grade_id": "cell-31ef8cde4f2bb1d2",
     "locked": false,
     "schema_version": 3,
     "solution": true,
     "task": false
    }
   },
   "outputs": [],
   "source": [
    "# 20 points\n",
    "def forgery(M1:bytes,T1:str, M2:bytes, T2:str) -> (bytes, str):\n",
    "    \"\"\" Use this function to forge a message. \"\"\"\n",
    "    \"\"\" You cannot use the secret variable or cmac_aes_128 \"\"\"\n",
    "    M3 = b\"\"\n",
    "    T3 = \"\"\n",
    "    # YOUR CODE HERE\n",
    "    T1_bytes=bytes.fromhex(T1) # hex to bytes\n",
    "    M2_xor_T1=xor(M2[:BLOCK_SIZE],T1_bytes) #xor m2 first block with t1\n",
    "    M3=M1+M2_xor_T1+M2[BLOCK_SIZE:]# add m1 to modified block\n",
    "    T3=T2\n",
    "\n",
    "    #raise NotImplementedError()\n",
    "    return (M3,T3) \n"
   ]
  },
  {
   "cell_type": "code",
   "execution_count": 17,
   "id": "2e374788-e37e-403f-a1c8-e94cc42683ff",
   "metadata": {
    "deletable": false,
    "editable": false,
    "nbgrader": {
     "cell_type": "code",
     "checksum": "988fbbe21f03db0cfa0e4153ae699401",
     "grade": true,
     "grade_id": "cell-cd47222fb100e20e",
     "locked": true,
     "points": 20,
     "schema_version": 3,
     "solution": false,
     "task": false
    }
   },
   "outputs": [],
   "source": [
    "secret = b\"This is a secret\"\n",
    "m1 = b\"This is a CBCMAC\"\n",
    "m2 = b\"This is Second Msg blah blah ...\"\n",
    "tag1 = cbc_mac_aes_128(secret, m1)\n",
    "tag2 = cbc_mac_aes_128(secret, m2)\n",
    "(m3, tag3) = forgery(m1, tag1, m2, tag2)\n",
    "assert cbc_mac_aes_128(secret, m3) == tag3"
   ]
  },
  {
   "cell_type": "code",
   "execution_count": null,
   "id": "a51d3fb3",
   "metadata": {},
   "outputs": [],
   "source": []
  }
 ],
 "metadata": {
  "kernelspec": {
   "display_name": "Python 3 (ipykernel)",
   "language": "python",
   "name": "python3"
  },
  "language_info": {
   "codemirror_mode": {
    "name": "ipython",
    "version": 3
   },
   "file_extension": ".py",
   "mimetype": "text/x-python",
   "name": "python",
   "nbconvert_exporter": "python",
   "pygments_lexer": "ipython3",
   "version": "3.9.13"
  }
 },
 "nbformat": 4,
 "nbformat_minor": 5
}
