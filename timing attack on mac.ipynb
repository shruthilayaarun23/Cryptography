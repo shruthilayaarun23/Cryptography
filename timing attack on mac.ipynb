{
 "cells": [
  {
   "cell_type": "markdown",
   "id": "f7359bc9",
   "metadata": {},
   "source": [
    "**Show all your work for full credit. Each source code you submit should include detailed comments and instructions on how to run it in order to confirm that it works as expected. If the program that does not run or throws runtime errors, it cannot be graded. You can refer to the programming guidelines from the TAs here: https://tinyurl.com/CPEG-472-672-Programming-Guide/**\n",
    "\n",
    "**This is an individual assignment and each student should work on their own. Ensure you don't share any code online or with others (note, using Replit, GitHub and similar online platforms can make your code accessible to others).**\n",
    "\n",
    "**To submit the assignment, you need to use Jupyter Notebook with the provided cell blocks and follow the naming conventions and instructions posted here: https://tinyurl.com/CPEG-472-672-Programming-Guide/**"
   ]
  },
  {
   "cell_type": "markdown",
   "id": "9faf944e",
   "metadata": {},
   "source": [
    "Before you turn this problem in, make sure everything runs as expected. First, **restart the kernel** (in the menubar, select Kernel $\\rightarrow$ Restart) and then **run all cells** (in the menubar, select Cell $\\rightarrow$ Run All).\n",
    "\n",
    "Make sure you fill in any place that says `YOUR CODE HERE` or \"YOUR ANSWER HERE\", as well as your name and section below:"
   ]
  },
  {
   "cell_type": "code",
   "execution_count": 17,
   "id": "46231c15",
   "metadata": {},
   "outputs": [],
   "source": [
    "NAME = \"Shruthilaya Arun\"\n",
    "#SECTION = \"472\"\n",
    "SECTION = \"672\""
   ]
  },
  {
   "cell_type": "markdown",
   "id": "39c81af5",
   "metadata": {},
   "source": [
    "---"
   ]
  },
  {
   "cell_type": "markdown",
   "id": "4b0ae357-d5ff-43c7-9b0e-38488a28ed33",
   "metadata": {
    "deletable": false,
    "editable": false,
    "nbgrader": {
     "cell_type": "markdown",
     "checksum": "bc33953fa7e8e471adbf4bfdc88fed57",
     "grade": false,
     "grade_id": "cell-ecbe797cc76f683e",
     "locked": true,
     "schema_version": 3,
     "solution": false,
     "task": false
    }
   },
   "source": [
    "## Extra Credit: Optional Question 5 [35 extra points]"
   ]
  },
  {
   "cell_type": "markdown",
   "id": "2e646fd4-3448-49be-8230-efea50d39353",
   "metadata": {
    "deletable": false,
    "editable": false,
    "nbgrader": {
     "cell_type": "markdown",
     "checksum": "ea799b960809a8996bde90a0bc4c2d40",
     "grade": false,
     "grade_id": "cell-758cc53b3f5f8eb8",
     "locked": true,
     "schema_version": 3,
     "solution": false,
     "task": false
    }
   },
   "source": [
    "### Implement a timing attack to a MAC that uses byte-by-byte verification taking variable time. Modify Listing 7-1 to add a measurable delay before each by comparison. Then implement two programs P1 and P2 that communicate as follows: P1 creates a forged message/tag pair and sends it to P2 while measuring the response time. P2 knows the MAC secret key and performs byte-by-byte verification that is vulnerable to a timing attack. If the tag verification fails, P2 returns an error immediately. Your P1 program should be able to recover a valid tag for any random message using the timing vulnerability of P2."
   ]
  },
  {
   "cell_type": "code",
   "execution_count": 26,
   "id": "8824caee-adfa-4006-86a8-774c15ee1e35",
   "metadata": {
    "deletable": false,
    "nbgrader": {
     "cell_type": "code",
     "checksum": "1a2c1b7bcebb43f4f4255be11214f589",
     "grade": true,
     "grade_id": "cell-1caf4d0529b1e102",
     "locked": false,
     "points": 35,
     "schema_version": 3,
     "solution": true,
     "task": false
    }
   },
   "outputs": [],
   "source": [
    "# YOUR CODE HERE\n",
    "import hmac\n",
    "import hashlib\n",
    "import time\n",
    "SECRET_KEY = b'secret_key'\n",
    "def create_mac(message):\n",
    "    return hmac.new(SECRET_KEY,message,hashlib.sha1).digest() # create mac\n",
    "#listing 7-1\n",
    "def compare_mac(x, y, n, delay=0.05):\n",
    "    for i in range(n):\n",
    "        if x[i] != y[i]:\n",
    "            return False\n",
    "        time.sleep(delay)  # add delay\n",
    "    return True\n",
    "def verify_mac(message,tag):\n",
    "    expected_tag=create_mac(message)\n",
    "    return compare_mac(tag,expected_tag,len(expected_tag)) # verify mac\n",
    "#server response\n",
    "def server_verify(message,tag):\n",
    "    if verify_mac(message,tag):\n",
    "        return \"Valid MAC\"\n",
    "    else:\n",
    "        return \"Invalid MAC\""
   ]
  },
  {
   "cell_type": "code",
   "execution_count": 27,
   "id": "c087347e",
   "metadata": {},
   "outputs": [
    {
     "name": "stdout",
     "output_type": "stream",
     "text": [
      "Correct Tag: 4b3841002abaf742b4b1ff34fb1b7887f74a8eb4\n",
      "Valid MAC\n"
     ]
    }
   ],
   "source": [
    "message = b\"attack\"\n",
    "correct_tag = create_mac(message)\n",
    "print(f\"Correct Tag: {correct_tag.hex()}\")\n",
    "print(server_verify(message, correct_tag))  \n"
   ]
  },
  {
   "cell_type": "code",
   "execution_count": 28,
   "id": "c196ede2",
   "metadata": {},
   "outputs": [],
   "source": [
    "import time\n",
    "def send_to_server(message,tag):\n",
    "    start_time=time.time()\n",
    "    response=server_verify(message,tag) # call server\n",
    "    end_time=time.time()\n",
    "    time_taken=end_time-start_time # calculate time taken\n",
    "    return response,time_taken\n",
    "def forge_mac(message):\n",
    "    forged_tag=bytearray(32) #byte array for forged mac\n",
    "    for i in range(32):\n",
    "        best_time=0 # keep track of  longest response time\n",
    "        best_byte=0 # keep track of byte with longest response time\n",
    "        for byte_guess in range(256):\n",
    "            forged_tag[i]=byte_guess \n",
    "            response,response_time=send_to_server(message,forged_tag) # send forged mac\n",
    "            if response_time>best_time: \n",
    "                best_time=response_time # update response time\n",
    "                best_byte=byte_guess # set as best guess\n",
    "        forged_tag[i]=best_byte\n",
    "    return bytes(forged_tag)\n"
   ]
  },
  {
   "cell_type": "code",
   "execution_count": 29,
   "id": "e6ed270d",
   "metadata": {},
   "outputs": [
    {
     "name": "stdout",
     "output_type": "stream",
     "text": [
      "Forged MAC: 4b639fb66e57ddbda28eaa88472e16a467ef4eaa7f1e83983a0733f91adb0dcc\n",
      "Invalid MAC\n"
     ]
    }
   ],
   "source": [
    "message = b\"attack\"\n",
    "forged_mac = forge_mac(message)\n",
    "print(f\"Forged MAC: {forged_mac.hex()}\")\n",
    "print(server_verify(message, forged_mac))  # Verify forged MAC\n"
   ]
  },
  {
   "cell_type": "code",
   "execution_count": null,
   "id": "df6a5336",
   "metadata": {},
   "outputs": [],
   "source": []
  }
 ],
 "metadata": {
  "kernelspec": {
   "display_name": "Python 3 (ipykernel)",
   "language": "python",
   "name": "python3"
  },
  "language_info": {
   "codemirror_mode": {
    "name": "ipython",
    "version": 3
   },
   "file_extension": ".py",
   "mimetype": "text/x-python",
   "name": "python",
   "nbconvert_exporter": "python",
   "pygments_lexer": "ipython3",
   "version": "3.9.13"
  }
 },
 "nbformat": 4,
 "nbformat_minor": 5
}
