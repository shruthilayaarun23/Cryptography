{
 "cells": [
  {
   "cell_type": "markdown",
   "id": "5e33141b",
   "metadata": {},
   "source": [
    "**Show all your work for full credit. Each source code you submit should include detailed comments and instructions on how to run it in order to confirm that it works as expected. If the program that does not run or throws runtime errors, it cannot be graded. You can refer to the programming guidelines from the TAs here: https://tinyurl.com/CPEG-472-672-Programming-Guide/**\n",
    "\n",
    "**This is an individual assignment and each student should work on their own. Ensure you don't share any code online or with others (note, using Replit, GitHub and similar online platforms can make your code accessible to others).**\n",
    "\n",
    "**To submit the assignment, you need to use Jupyter Notebook with the provided cell blocks and follow the naming conventions and instructions posted here: https://tinyurl.com/CPEG-472-672-Programming-Guide/**"
   ]
  },
  {
   "cell_type": "markdown",
   "id": "681785ed",
   "metadata": {},
   "source": [
    "Before you turn this problem in, make sure everything runs as expected. First, **restart the kernel** (in the menubar, select Kernel $\\rightarrow$ Restart) and then **run all cells** (in the menubar, select Cell $\\rightarrow$ Run All).\n",
    "\n",
    "Make sure you fill in any place that says `YOUR CODE HERE` or \"YOUR ANSWER HERE\", as well as your name and section below:\n",
    "\n",
    "<font color='red' size=\"4\">Import any additional libraries you need in the same code block that you use it.</font>"
   ]
  },
  {
   "cell_type": "code",
   "execution_count": null,
   "id": "6c67dc58",
   "metadata": {},
   "outputs": [],
   "source": [
    "NAME = \"Shruthilaya Arun\"\n",
    "#SECTION = \"472\"\n",
    "SECTION = \"672\""
   ]
  },
  {
   "cell_type": "markdown",
   "id": "a3485d18",
   "metadata": {},
   "source": [
    "---"
   ]
  },
  {
   "cell_type": "markdown",
   "id": "b7c5ff8d-7900-4237-9a35-a4c7f9daf3c3",
   "metadata": {
    "deletable": false,
    "editable": false,
    "nbgrader": {
     "cell_type": "markdown",
     "checksum": "aa3cde60558502d6083d30fdc1cc2eab",
     "grade": false,
     "grade_id": "cell-d11d91527dc60e36",
     "locked": true,
     "schema_version": 3,
     "solution": false,
     "task": false
    }
   },
   "source": [
    "### Question 1 [45 points total - answer all parts]"
   ]
  },
  {
   "cell_type": "markdown",
   "id": "96bd90f5-da4a-487d-81aa-85b3dab59e23",
   "metadata": {
    "deletable": false,
    "editable": false,
    "nbgrader": {
     "cell_type": "markdown",
     "checksum": "7be0f574e9c9a9bd1b07c678f94395cb",
     "grade": false,
     "grade_id": "cell-0cbcfac6259b4c35",
     "locked": true,
     "schema_version": 3,
     "solution": false,
     "task": false
    }
   },
   "source": [
    "### Bob knows that the ElGamal cryptosystem is similar to Diffie-Hellman. To generate the ElGamal keys, Bob selects the cyclic group Z\\*_p with prime p=20876441 and generator g=5 as the public parameters (in decimal). Bob also selects his secret key X between 1 and p-1. The public parameters are p, g, and the value h=g^X mod p, while the private parameter is X. Bob’s ElGamal encryption uses a random nonce Y between 1 and p-1 and for a given message M between 1 and p-1, and it outputs a pair of values (C1,C2), so that C1=g^Y mod p, and C2=M*(h^Y) mod p. This pair of values is the ciphertext for M with nonce Y (i.e., the ciphertext is a tuple). Also, the value “h^Y mod p” is called the “shared secret” of Bob.\n",
    "\n",
    "### Bob’s ElGamal decryption receives ciphertext (C1,C2) and his secret key X as input and multiplies C2 with the modular multiplicative inverse of the shared secret. Specifically, if “D=C1^X=g^(X\\*Y) mod p” is the shared secret, and “E=D^(-1) mod p” is the modular multiplicative inverse of the shared secret, the plaintext is “M=E\\*C2 mod p”."
   ]
  },
  {
   "cell_type": "code",
   "execution_count": 3,
   "id": "637978d2-cd4e-4d2c-87ca-d419faadeb2f",
   "metadata": {
    "deletable": false,
    "editable": false,
    "nbgrader": {
     "cell_type": "code",
     "checksum": "19287828bc226ef7615070cc527035f4",
     "grade": false,
     "grade_id": "cell-33036e1b58ad9b39",
     "locked": true,
     "schema_version": 3,
     "solution": false,
     "task": false
    }
   },
   "outputs": [],
   "source": [
    "from math import ceil , sqrt"
   ]
  },
  {
   "cell_type": "code",
   "execution_count": 4,
   "id": "83f02bc0-e7d5-45e9-bd7e-54cdc71d9e47",
   "metadata": {
    "deletable": false,
    "editable": false,
    "nbgrader": {
     "cell_type": "code",
     "checksum": "1b1e78b3b81956573f0c77f3806c96aa",
     "grade": false,
     "grade_id": "cell-49258fe932a66aee",
     "locked": true,
     "schema_version": 3,
     "solution": false,
     "task": false
    }
   },
   "outputs": [],
   "source": [
    "def ShanksAlgorithm(alpha, beta, n):\n",
    "    '''\n",
    "    solve for x s.t. beta = alpha^(x) (mod n)\n",
    "    Used to solve the discrete log problem for non-composite moduli\n",
    "    '''\n",
    "    m = int(ceil(sqrt(n - 1)))\n",
    "    a = pow(alpha, m, n)\n",
    "    b = ExtendedGCD(alpha, n)[1]\n",
    "    L1 = [(j, pow(a, j, n)) for j in range(0, m)]\n",
    "    L2 = [(i, beta * pow(b,i,n) % n) for i in range(0, m)]\n",
    "    L1.sort(key = lambda tup: tup[1])\n",
    "    L2.sort(key = lambda tup: tup[1])\n",
    "    i, j, Found = 0, 0, False\n",
    "    while (not Found) and (i < m) and (j < m):\n",
    "        if L1[j][1] == L2[i][1]:\n",
    "            return m * L1[j][0] + L2[i][0] % n\n",
    "        elif abs(L1[j][1]) > abs(L2[i][1]):\n",
    "            i = i + 1\n",
    "        else:\n",
    "            j = j + 1\n",
    "def ExtendedGCD(a, b):\n",
    "    '''\n",
    "    Extended Euclidian algorithm for finding GCD\n",
    "\n",
    "    Compute gcd(a, b) and the coefficients of Bezout's identity:\n",
    "    a*x + b*y = gcd(a, b)\n",
    "    '''\n",
    "    a2, a1 = 1, 0\n",
    "    b2, b1 = 0, 1\n",
    "    while b:\n",
    "        q, r = divmod(a, b) # return quotient and remainder\n",
    "        a1, a2 = a2 - q * a1, a1\n",
    "        b1, b2 = b2 - q * b1, b1\n",
    "        a, b = b, r\n",
    "    return a, a2, b2"
   ]
  },
  {
   "cell_type": "markdown",
   "id": "1bfcc80d-adbc-4b54-a2df-28deecd1e23b",
   "metadata": {
    "deletable": false,
    "editable": false,
    "nbgrader": {
     "cell_type": "markdown",
     "checksum": "6f4e7f8cc0125210c48b7cc6c2bcb6e4",
     "grade": false,
     "grade_id": "cell-523bb8d34c91cd44",
     "locked": true,
     "schema_version": 3,
     "solution": false,
     "task": false
    }
   },
   "source": [
    "### Question 1a [20 points] Bob posts on the Internet the encryption of M=20192834 as (C1,C2)=(9916780, 5260862) using nonce Y1. Can you find Bob’s “shared secret” value? Show all you work."
   ]
  },
  {
   "cell_type": "code",
   "execution_count": 9,
   "id": "8ae32c9a-dfb7-4253-bb36-b6cf461b5911",
   "metadata": {
    "deletable": false,
    "nbgrader": {
     "cell_type": "code",
     "checksum": "f652a7a2a1c0b75a3f1f4ae63eaec1b6",
     "grade": false,
     "grade_id": "cell-9e27ff7705143d33",
     "locked": false,
     "schema_version": 3,
     "solution": true,
     "task": false
    }
   },
   "outputs": [],
   "source": [
    "def part_a () -> int:\n",
    "    \"\"\"\n",
    "    find Bob's shared secret and return it.\n",
    "    \"\"\"\n",
    "    \n",
    "    p = 20876441\n",
    "    g = 5\n",
    "    m = 20192834\n",
    "    c1 = 9916780\n",
    "    c2 = 5260862\n",
    "\n",
    "    shared_secret = 0\n",
    "    # YOUR CODE HERE\n",
    "    a,m_inv,b=ExtendedGCD(m, p) #mod inverse of m and p\n",
    "    shared_secret=(c2 * m_inv)%p #compute shared secret\n",
    "    return shared_secret\n",
    "    "
   ]
  },
  {
   "cell_type": "code",
   "execution_count": 10,
   "id": "f9d93bba-40ca-4c95-8b41-52ab9756cff8",
   "metadata": {
    "deletable": false,
    "editable": false,
    "nbgrader": {
     "cell_type": "code",
     "checksum": "ad27893b4634c395379b29a14e77167a",
     "grade": true,
     "grade_id": "cell-6c639b5c266866d2",
     "locked": true,
     "points": 20,
     "schema_version": 3,
     "solution": false,
     "task": false
    }
   },
   "outputs": [],
   "source": [
    "p = 20876441\n",
    "m = 20192834\n",
    "c2 = 5260862\n",
    "\n",
    "shared_secret = part_a()\n",
    "assert type(shared_secret) == int\n",
    "assert (shared_secret * m) % p == c2\n",
    "\n",
    "# hidden tests"
   ]
  },
  {
   "cell_type": "markdown",
   "id": "fd9aecd2-a352-449b-a07c-dcc7cd715ebd",
   "metadata": {
    "deletable": false,
    "editable": false,
    "nbgrader": {
     "cell_type": "markdown",
     "checksum": "4b24e74db15d3df79d854da9fc5f7aa9",
     "grade": false,
     "grade_id": "cell-a5acbad390040646",
     "locked": true,
     "schema_version": 3,
     "solution": false,
     "task": false
    }
   },
   "source": [
    "### Question 1b [15 points] Bob posts another ciphertext (C1,C2)= (7350174, 13786334) for a different message M2 using nonce Y2. What is Bob’s message M2? Implement a program that recovers Bob’s message M2."
   ]
  },
  {
   "cell_type": "code",
   "execution_count": 15,
   "id": "5985a53b-7392-4cf4-a670-5da2edd1088c",
   "metadata": {
    "deletable": false,
    "nbgrader": {
     "cell_type": "code",
     "checksum": "ae2e55494e5c8d449cd52625ec33b120",
     "grade": false,
     "grade_id": "cell-3ce82240da5f4c06",
     "locked": false,
     "schema_version": 3,
     "solution": true,
     "task": false
    }
   },
   "outputs": [],
   "source": [
    "from sympy import mod_inverse\n",
    "def part_b(shared_secret: int) -> int:\n",
    "    \"\"\"\n",
    "    Given shared_secret, Find message M2 and return it.\n",
    "    (hint): you need to find secret key X first.\n",
    "    \"\"\"\n",
    "    p = 20876441\n",
    "    g = 5\n",
    "    c1 = 7350174\n",
    "    c2 = 13786334\n",
    "\n",
    "    m2 = 0\n",
    "    # YOUR CODE HERE\n",
    "    inv_shared_secret=mod_inverse(shared_secret, p) # compute mod inverse of shared secret\n",
    "    m2=(c2 * inv_shared_secret)%p # compute m2\n",
    "    return m2\n"
   ]
  },
  {
   "cell_type": "code",
   "execution_count": 16,
   "id": "7b850eb9-2a8f-45a6-8858-03f8fec3e698",
   "metadata": {
    "deletable": false,
    "editable": false,
    "nbgrader": {
     "cell_type": "code",
     "checksum": "5c63abdee6fa534dedd1160f48f9530e",
     "grade": true,
     "grade_id": "cell-bd1d2f7e78716dd1",
     "locked": true,
     "points": 15,
     "schema_version": 3,
     "solution": false,
     "task": false
    }
   },
   "outputs": [],
   "source": [
    "p = 20876441\n",
    "g = 5\n",
    "c1 = 7350174\n",
    "c2 = 13786334\n",
    "\n",
    "m2 = part_b(part_a())\n",
    "assert type(m2) == int\n",
    "assert (part_a() * m2) % p == c2\n",
    "\n",
    "# hidden tests"
   ]
  },
  {
   "cell_type": "markdown",
   "id": "c8325f1e-6136-4069-8347-5e55bfb23853",
   "metadata": {
    "deletable": false,
    "editable": false,
    "nbgrader": {
     "cell_type": "markdown",
     "checksum": "82500e982629bc5b335985a57578a32a",
     "grade": false,
     "grade_id": "cell-97dc0693a4995322",
     "locked": true,
     "schema_version": 3,
     "solution": false,
     "task": false
    }
   },
   "source": [
    "### Question 1c [10 points] Bob notices that ElGamal encryption is malleable. If the encryption of M3=12345 is (C1,C2)= (8698838, 17288353), what is the encryption of M4=382695 (all numbers are decimal)? Show all your work."
   ]
  },
  {
   "cell_type": "code",
   "execution_count": 17,
   "id": "aa776537-6103-45d8-acc8-b31de2a83447",
   "metadata": {
    "deletable": false,
    "nbgrader": {
     "cell_type": "code",
     "checksum": "2b60d612ec5d7688e076e149c90a1319",
     "grade": false,
     "grade_id": "cell-0e25b26ac9d673dc",
     "locked": false,
     "schema_version": 3,
     "solution": true,
     "task": false
    }
   },
   "outputs": [],
   "source": [
    "from sympy import mod_inverse\n",
    "def part_c() -> (int,int):\n",
    "    \"\"\"\n",
    "    return encryption of M4.\n",
    "    \"\"\"\n",
    "    p = 20876441\n",
    "    m3 = 12345\n",
    "    c1 = 8698838\n",
    "    c2 = 17288353\n",
    "    m4 = 382695\n",
    "\n",
    "    c4 = (0,0)\n",
    "    # YOUR CODE HERE\n",
    "    #compute m4/m3 mod p\n",
    "    inv_m3=mod_inverse(m3, p)  # compute mod inverse of m3 mod p\n",
    "    a=(m4 * inv_m3)%p #m4/m3 mod p\n",
    "    c2_new=(a * c2)%p # compute c2\n",
    "    c4=(c1,c2_new) # c4=c1,c2'\n",
    "    return c4\n",
    "\n"
   ]
  },
  {
   "cell_type": "code",
   "execution_count": 18,
   "id": "b9152843-0665-463c-a907-f32de3a44b14",
   "metadata": {
    "deletable": false,
    "editable": false,
    "nbgrader": {
     "cell_type": "code",
     "checksum": "3b46dc8babb57cf75b80330f91784c44",
     "grade": true,
     "grade_id": "cell-5f91bb6fc90e1b34",
     "locked": true,
     "points": 10,
     "schema_version": 3,
     "solution": false,
     "task": false
    }
   },
   "outputs": [],
   "source": [
    "c1 = 8698838\n",
    "p = 20876441\n",
    "c4 = part_c()\n",
    "assert type(c4) == tuple\n",
    "assert type(c4[0]) == type(c4[1]) == int\n",
    "\n",
    "b = 9784370109832758631\n",
    "assert pow(b,c4[0],p) == 15050662\n",
    "assert pow(b,c4[1],p) == 15021330\n",
    "\n",
    "\n",
    "# hidden tests"
   ]
  },
  {
   "cell_type": "code",
   "execution_count": null,
   "id": "0f1861b1",
   "metadata": {},
   "outputs": [],
   "source": []
  }
 ],
 "metadata": {
  "kernelspec": {
   "display_name": "Python 3 (ipykernel)",
   "language": "python",
   "name": "python3"
  },
  "language_info": {
   "codemirror_mode": {
    "name": "ipython",
    "version": 3
   },
   "file_extension": ".py",
   "mimetype": "text/x-python",
   "name": "python",
   "nbconvert_exporter": "python",
   "pygments_lexer": "ipython3",
   "version": "3.9.13"
  }
 },
 "nbformat": 4,
 "nbformat_minor": 5
}
