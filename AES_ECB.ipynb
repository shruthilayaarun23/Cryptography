{
 "cells": [
  {
   "cell_type": "markdown",
   "id": "a999f70d",
   "metadata": {},
   "source": [
    "---"
   ]
  },
  {
   "cell_type": "markdown",
   "id": "216ba31a-9919-4bdd-8a5e-1b9103d6439c",
   "metadata": {
    "deletable": false,
    "editable": false,
    "nbgrader": {
     "cell_type": "markdown",
     "checksum": "02b43b22e7ed6b888e3e06d37e0c0c23",
     "grade": false,
     "grade_id": "cell-99a4a33ff4fa1580",
     "locked": true,
     "schema_version": 3,
     "solution": false,
     "task": false
    }
   },
   "source": [
    "## <font color='blue'> Scenario: Bob wants to encrypt 16 bytes with AES and send to Alice. First, Bob generates a random key as follows: </font>\n",
    "\n",
    "```\n",
    "from Crypto.Cipher import AES\n",
    "from Crypto.Random import get_random_bytes\n",
    "AES_key = 8*get_random_bytes(2)\n",
    "```\n",
    "## <font color='blue'> Then Bob encrypts two messages (ptxt1 and ptxt2) using the generated AES_key and sends to Alice using the following code: </font>\n",
    "\n",
    "```\n",
    "cipher = AES.new(AES_key, AES.MODE_ECB)\n",
    "ctxt1 = cipher.encrypt(ptxt1).hex()\n",
    "ctxt2 = cipher.encrypt(ptxt2).hex()\n",
    "```\n",
    "## <font color='blue'> However, Eve is monitoring Bob's communications and captures the two ciphertexts (ctxt1 and ctxt2): </font>\n",
    "\n",
    "```\n",
    "ctxt1 =  3012e00127813d5a563f775e0906d081\n",
    "ctxt2 =  79789673ec9cf766126751c0d7486604\n",
    "```\n",
    "## <font color='blue'>  program that recovers ptxt1 and ptxt2? </font>"
   ]
  },
  {
   "cell_type": "code",
   "execution_count": null,
   "id": "f73843ed",
   "metadata": {},
   "outputs": [],
   "source": [
    "\n",
    "from Cryptodome.Cipher import AES\n",
    "from Cryptodome.Random import get_random_bytes\n",
    "import string"
   ]
  },
  {
   "cell_type": "code",
   "execution_count": null,
   "id": "c48f49e6-a7a6-4770-98d6-210a70b16686",
   "metadata": {
    "deletable": false,
    "editable": false,
    "nbgrader": {
     "cell_type": "code",
     "checksum": "391fff155408609397ffaacfd90238ba",
     "grade": false,
     "grade_id": "cell-ac0389ba00d8c000",
     "locked": true,
     "schema_version": 3,
     "solution": false,
     "task": false
    }
   },
   "outputs": [],
   "source": [
    "\n",
    "from Crypto.Cipher import AES\n",
    "from Crypto.Random import get_random_bytes\n",
    "import string"
   ]
  },
  {
   "cell_type": "code",
   "execution_count": null,
   "id": "f9bb2a57-bbab-4dd0-ad53-d4465c2ff2e2",
   "metadata": {
    "deletable": false,
    "nbgrader": {
     "cell_type": "code",
     "checksum": "1f4222af7fe72902bea8f738f6ffdac2",
     "grade": false,
     "grade_id": "cell-ee77a78ea2f71eb5",
     "locked": false,
     "schema_version": 3,
     "solution": true,
     "task": false
    }
   },
   "outputs": [],
   "source": [
    "\n",
    "def generate_key(seed: int) -> bytes:\n",
    "   \n",
    "    key = b\"\"\n",
    "    key = (seed.to_bytes(2,byteorder='big') * 8) #converting seed to 16 byte\n",
    "    #raise NotImplementedError()\n",
    "    return key\n",
    "\n",
    "def AES_decrypt(key: bytes, ctxt: bytes) -> str:\n",
    "   \n",
    "    ptxt = \"\"\n",
    "    cipher=AES.new(key, AES.MODE_ECB) # enrcryption\n",
    "    ptxt=cipher.decrypt(ctxt)  # decryption\n",
    "    return ptxt.decode('iso-8859-1')\n",
    "\n",
    "\n",
    "def printable(ptxt: str) -> bool:\n",
    "   \n",
    "    answer = False\n",
    "    l = string.printable\n",
    "    answer=all(i in l for i in ptxt) # checking each index of ptxt with l\n",
    "    #raise NotImplementedError()\n",
    "\n",
    "    return answer\n",
    "\n",
    "\n",
    "def get_plaintexts(ctxt1: str, ctxt2: str) -> tuple:\n",
    "    ptxt1 = \"\"\n",
    "    ptxt2 = \"\"\n",
    "\n",
    "    ctxt1_bytes=bytes.fromhex(ctxt1) # converting ctxt1 to bytes\n",
    "    ctxt2_bytes=bytes.fromhex(ctxt2) # converting ctxt2 to bytes\n",
    "    for seed in range(65536):\n",
    "        key=generate_key(seed)#generate key\n",
    "        try:\n",
    "            ptxt1=AES_decrypt(key,ctxt1_bytes) # decrypt ctxt1\n",
    "            ptxt2=AES_encrypt(key,ctxt2_bytes) # decrypt ctxt2\n",
    "            if printable(ptxt1) and printable(ptxt2): #if containing all english characters print\n",
    "                    return (ptxt1, ptxt2)\n",
    "        except Exception: # handling None\n",
    "            continue"
   ]
  },
  {
   "cell_type": "code",
   "execution_count": 10,
   "id": "ce73a658-ab01-4827-b43f-82a62195f24a",
   "metadata": {
    "deletable": false,
    "editable": false,
    "nbgrader": {
     "cell_type": "code",
     "checksum": "86172c1b16e5fd8035c61dc358462e24",
     "grade": true,
     "grade_id": "cell-5160b531c3f2ba23",
     "locked": true,
     "points": 5,
     "schema_version": 3,
     "solution": false,
     "task": false
    }
   },
   "outputs": [],
   "source": [
    "key1 = generate_key(432)\n",
    "key2 = generate_key(2**16-1)\n",
    "assert key1 == b'\\x01\\xb0\\x01\\xb0\\x01\\xb0\\x01\\xb0\\x01\\xb0\\x01\\xb0\\x01\\xb0\\x01\\xb0'\n",
    "assert key2 == b'\\xff\\xff\\xff\\xff\\xff\\xff\\xff\\xff\\xff\\xff\\xff\\xff\\xff\\xff\\xff\\xff'"
   ]
  },
  {
   "cell_type": "code",
   "execution_count": 11,
   "id": "f362f7dc-15e0-4ff7-aef3-ad1639c4a35e",
   "metadata": {
    "deletable": false,
    "editable": false,
    "nbgrader": {
     "cell_type": "code",
     "checksum": "604637ac285246d126a77e8dc483f600",
     "grade": true,
     "grade_id": "cell-d21d3f20f052308e",
     "locked": true,
     "points": 5,
     "schema_version": 3,
     "solution": false,
     "task": false
    }
   },
   "outputs": [
    {
     "name": "stdout",
     "output_type": "stream",
     "text": [
      "f8a29e8998663f024297d30cae922d0c f033055f92b698c2b715ed64bdc5a909\n"
     ]
    }
   ],
   "source": [
    "ctxt1 = \"3012e00127813d5a563f775e0906d081\"\n",
    "ctxt2 = \"79789673ec9cf766126751c0d7486604\"\n",
    "\n",
    "ptxt1 = AES_decrypt(key1,bytes.fromhex(ctxt1))\n",
    "ptxt2 = AES_decrypt(key1,bytes.fromhex(ctxt2))\n",
    "\n",
    "hex1 = ptxt1.encode('iso-8859-1').hex()\n",
    "hex2 = ptxt2.encode('iso-8859-1').hex()\n",
    "print(hex1,hex2)\n",
    "assert hex1 == \"f8a29e8998663f024297d30cae922d0c\"\n",
    "assert hex2 == \"f033055f92b698c2b715ed64bdc5a909\""
   ]
  },
  {
   "cell_type": "code",
   "execution_count": 12,
   "id": "66368c61-ed36-4f3a-88a4-52cb4bd1a05b",
   "metadata": {
    "deletable": false,
    "editable": false,
    "nbgrader": {
     "cell_type": "code",
     "checksum": "8a3b7eedf63a1188c637dd388bdc1187",
     "grade": true,
     "grade_id": "cell-9a9e68ee3dc794c7",
     "locked": true,
     "points": 5,
     "schema_version": 3,
     "solution": false,
     "task": false
    }
   },
   "outputs": [],
   "source": [
    "ans1 = printable(\"Isthis,printable!!\")\n",
    "ans2 = printable(bytes.fromhex(\"f033055f92b698c2b715ed64bdc5a9\").decode('iso-8859-1'))\n",
    "assert ans1 == True\n",
    "assert ans2 == False"
   ]
  },
  {
   "cell_type": "code",
   "execution_count": null,
   "id": "fb83f215-da70-4c6d-9723-c1573e43016b",
   "metadata": {
    "deletable": false,
    "editable": false,
    "nbgrader": {
     "cell_type": "code",
     "checksum": "48ba20a6f5f4fa0411c62c5e88ee7286",
     "grade": true,
     "grade_id": "cell-72df4c8bb32f11eb",
     "locked": true,
     "points": 5,
     "schema_version": 3,
     "solution": false,
     "task": false
    }
   },
   "outputs": [
    {
     "name": "stdout",
     "output_type": "stream",
     "text": [
      "my key is weak!! Eve cant read it\n"
     ]
    }
   ],
   "source": [
    "ctxt1 = \"3012e00127813d5a563f775e0906d081\"\n",
    "ctxt2 = \"79789673ec9cf766126751c0d7486604\"\n",
    "\n",
    "ptxt1, ptxt2 = get_plaintexts(ctxt1, ctxt2)\n",
    "print(ptxt1,ptxt2)"
   ]
  },
  {
   "cell_type": "code",
   "execution_count": null,
   "id": "49feaf2f",
   "metadata": {},
   "outputs": [],
   "source": []
  }
 ],
 "metadata": {
  "kernelspec": {
   "display_name": "Python 3 (ipykernel)",
   "language": "python",
   "name": "python3"
  },
  "language_info": {
   "codemirror_mode": {
    "name": "ipython",
    "version": 3
   },
   "file_extension": ".py",
   "mimetype": "text/x-python",
   "name": "python",
   "nbconvert_exporter": "python",
   "pygments_lexer": "ipython3",
   "version": "3.9.13"
  }
 },
 "nbformat": 4,
 "nbformat_minor": 5
}
