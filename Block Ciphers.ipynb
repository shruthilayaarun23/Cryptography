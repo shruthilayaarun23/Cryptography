{
 "cells": [
  {
   "cell_type": "markdown",
   "id": "b30e84f1",
   "metadata": {},
   "source": [
    "**Show all your work for full credit. Each source code you submit should include detailed comments and instructions on how to run it in order to confirm that it works as expected. If the program that does not run or throws runtime errors, it cannot be graded. You can refer to the programming guidelines from the TAs here: https://tinyurl.com/CPEG-472-672-Programming-Guide/**\n",
    "\n",
    "**This is an individual assignment and each student should work on their own. Ensure you don't share any code online or with others (note, using Replit, GitHub and similar online platforms can make your code accessible to others).**\n",
    "\n",
    "**To submit the assignment, you need to use Jupyter Notebook with the provided cell blocks and follow the naming conventions and instructions posted here: https://tinyurl.com/CPEG-472-672-Programming-Guide/**"
   ]
  },
  {
   "cell_type": "markdown",
   "id": "2222621f",
   "metadata": {},
   "source": [
    "Before you turn this problem in, make sure everything runs as expected. First, **restart the kernel** (in the menubar, select Kernel $\\rightarrow$ Restart) and then **run all cells** (in the menubar, select Cell $\\rightarrow$ Run All).\n",
    "\n",
    "Make sure you fill in any place that says `YOUR CODE HERE` or \"YOUR ANSWER HERE\", as well as your name and section below:"
   ]
  },
  {
   "cell_type": "code",
   "execution_count": 3,
   "id": "d7df6ba9",
   "metadata": {},
   "outputs": [],
   "source": [
    "NAME = \"Shruthilaya Arun\"\n",
    "#SECTION = \"472\"\n",
    "SECTION = \"672\""
   ]
  },
  {
   "cell_type": "markdown",
   "id": "2d3a2033",
   "metadata": {},
   "source": [
    "---"
   ]
  },
  {
   "cell_type": "markdown",
   "id": "216ba31a-9919-4bdd-8a5e-1b9103d6439c",
   "metadata": {
    "deletable": false,
    "editable": false,
    "nbgrader": {
     "cell_type": "markdown",
     "checksum": "611805d538f3fbc3bb776de97d7a512f",
     "grade": false,
     "grade_id": "cell-ab976da25f16ee80",
     "locked": true,
     "schema_version": 3,
     "solution": false,
     "task": false
    }
   },
   "source": [
    "## <font color='blue'> Q3: [40 points total - answer all parts] </font>\n"
   ]
  },
  {
   "cell_type": "markdown",
   "id": "6db44a1e-0b3b-494c-8426-13dc39e8c453",
   "metadata": {
    "deletable": false,
    "editable": false,
    "nbgrader": {
     "cell_type": "markdown",
     "checksum": "a82c79569cfe687af437134c71635c65",
     "grade": false,
     "grade_id": "cell-30607b1150908d00",
     "locked": true,
     "schema_version": 3,
     "solution": false,
     "task": false
    }
   },
   "source": [
    "### <font color='blue'> Q3-a: [10 points] Implement both the encryption and decryption operation for a block cipher called BH (BlueHen) that is based on a Feistel network. Assume BH has a block size of 128 bits, its symmetric key is 128 bits and the number of rounds is 5. For the PRF of the Feistel network of BH you should adopt the GGM89 construction (see week3_GGM_PRF.zip under Files => Code Samples). What is the size of each subkey of BH? How many different subkeys are needed in the Feistel network of BH? For key expansion, use a secure PRNG seeded with the 128-bit key of BH to generate all required subkeys. Demonstrate correct operation of BH encryption and decryption using 2 ciphertext/plaintext pairs. **Note, this sub-question focuses on the block cipher itself, not any modes of operation for BH. </font>\n"
   ]
  },
  {
   "cell_type": "code",
   "execution_count": 4,
   "id": "c48f49e6-a7a6-4770-98d6-210a70b16686",
   "metadata": {
    "deletable": false,
    "editable": false,
    "nbgrader": {
     "cell_type": "code",
     "checksum": "3e079b0172b917aeead07d59149d68d6",
     "grade": false,
     "grade_id": "cell-681f9d31019a30e9",
     "locked": true,
     "schema_version": 3,
     "solution": false,
     "task": false
    }
   },
   "outputs": [],
   "source": [
    "# Import the libraries here ...\n",
    "import secrets"
   ]
  },
  {
   "cell_type": "code",
   "execution_count": 5,
   "id": "b527a9ca-5495-4cdb-9661-7ceac76329d9",
   "metadata": {
    "deletable": false,
    "editable": false,
    "nbgrader": {
     "cell_type": "code",
     "checksum": "aff9956b109a2f2f17c84822f6cb3987",
     "grade": false,
     "grade_id": "cell-d14a8e0e05e4afb5",
     "locked": true,
     "schema_version": 3,
     "solution": false,
     "task": false
    }
   },
   "outputs": [],
   "source": [
    "# Code from https://github.com/davidlazar/python-drbg\n",
    "# Implements HMAC_DRBG (SHA-512) from NIST SP 800-90A\n",
    "\n",
    "import hashlib\n",
    "import hmac\n",
    "\n",
    "class DRBG(object):\n",
    "    def __init__(self, seed):\n",
    "        self.key = b'\\x00' * 64\n",
    "        self.val = b'\\x01' * 64\n",
    "        self.reseed(seed)\n",
    "\n",
    "    def hmac(self, key, val):\n",
    "        return hmac.new(key, val, hashlib.sha512).digest()\n",
    "\n",
    "    def reseed(self, data=b''):\n",
    "        self.key = self.hmac(self.key, self.val + b'\\x00' + data)\n",
    "        self.val = self.hmac(self.key, self.val)\n",
    "\n",
    "        if data:\n",
    "            self.key = self.hmac(self.key, self.val + b'\\x01' + data)\n",
    "            self.val = self.hmac(self.key, self.val)\n",
    "\n",
    "    def generate(self, n):\n",
    "        xs = b''\n",
    "        while len(xs) < n:\n",
    "            self.val = self.hmac(self.key, self.val)\n",
    "            xs += self.val\n",
    "\n",
    "        self.reseed()\n",
    "\n",
    "        return xs[:n]"
   ]
  },
  {
   "cell_type": "code",
   "execution_count": 6,
   "id": "2bdd50bf-4fa6-4376-8fec-36beaaec29ec",
   "metadata": {
    "deletable": false,
    "editable": false,
    "nbgrader": {
     "cell_type": "code",
     "checksum": "69ebe6eb39e4a65aba92b6a0c3f8f01b",
     "grade": false,
     "grade_id": "cell-ccbcd254f38cc587",
     "locked": true,
     "schema_version": 3,
     "solution": false,
     "task": false
    }
   },
   "outputs": [],
   "source": [
    "# you can use this function to xor two bytes, or two strings.\n",
    "def xor(x,y):\n",
    "    if type(x) == type(y) == str:\n",
    "        return \"\".join([chr(ord(a) ^ ord(b)) for a,b in zip(x,y)])\n",
    "    elif type(x) == type(y) == bytes:\n",
    "        return \"\".join([chr(a ^ b) for a,b in zip(x,y)]).encode('iso-8859-1')\n",
    "    else:\n",
    "        print(\"Error: type mismatch\")"
   ]
  },
  {
   "cell_type": "markdown",
   "id": "b10df743-be01-4ef6-86c9-f26b585b51b6",
   "metadata": {
    "deletable": false,
    "editable": false,
    "nbgrader": {
     "cell_type": "markdown",
     "checksum": "0b20cbf57513931a2a00c62d87a0f23d",
     "grade": false,
     "grade_id": "cell-8710615f8017173f",
     "locked": true,
     "schema_version": 3,
     "solution": false,
     "task": false
    }
   },
   "source": [
    "# [1 points] What is the size of each subkey of BH? How many different subkeys are needed in the Feistel network of BH?"
   ]
  },
  {
   "cell_type": "markdown",
   "id": "d5253d2f",
   "metadata": {
    "deletable": false,
    "nbgrader": {
     "cell_type": "markdown",
     "checksum": "ba7f80ecd5d1047e0ef63089f35636fa",
     "grade": true,
     "grade_id": "cell-40126db1ab9983fc",
     "locked": false,
     "points": 1,
     "schema_version": 3,
     "solution": true,
     "task": false
    }
   },
   "source": [
    "The size of each subkey is 16 bytes and 5 subkeys are needed for the 5 rounds of the Feistal network."
   ]
  },
  {
   "cell_type": "code",
   "execution_count": 7,
   "id": "f9bb2a57-bbab-4dd0-ad53-d4465c2ff2e2",
   "metadata": {
    "deletable": false,
    "nbgrader": {
     "cell_type": "code",
     "checksum": "edf5d52860d3f850389dac6cbdc7d079",
     "grade": false,
     "grade_id": "cell-40b45357bd98b265",
     "locked": false,
     "schema_version": 3,
     "solution": true,
     "task": false
    }
   },
   "outputs": [],
   "source": [
    "def generate_key() -> bytes:\n",
    "    \"\"\"\n",
    "    generate random 128 bit key. You can use secrets library\n",
    "    \"\"\"\n",
    "    key = b\"\"\n",
    "    # YOUR CODE HERE\n",
    "    key=secrets.token_bytes(16) # generate 16 bytes\n",
    "    #raise NotImplementedError()\n",
    "    return key\n",
    "    \n",
    "# 1 points\n",
    "def key_expansion(key: bytes)-> list:\n",
    "    \"\"\"\n",
    "    Implement the key_expansion based on the blueprint asked in the question. You can\n",
    "    use the DRBG class provided as a secure PRNG. The input key should be 128 bits.\n",
    "    Return subkeys which is a list of bytes.\n",
    "    \"\"\"\n",
    "    subkeys = []\n",
    "    # YOUR CODE HERE\n",
    "    drbg=DRBG(key)  \n",
    "    expanded_key=drbg.generate(80)  # generate 80 bytes\n",
    "    for i in range(0, 80, 16):\n",
    "        subkey=expanded_key[i:i+16] # divide the 80 bytes among 5 subkeys of 16 bytes each\n",
    "        subkeys.append(subkey) # add to list\n",
    "    return subkeys\n",
    "# GGM89\n",
    "def PRG(seed):\n",
    "    assert isinstance(seed, bytes)\n",
    "    drbg = DRBG(seed)\n",
    "    rnd = drbg.generate(2*len(seed))\n",
    "    return rnd[:len(seed)], rnd[len(seed):]\n",
    "\n",
    "def PRF(key, msg):\n",
    "    assert isinstance(key, bytes)\n",
    "    assert isinstance(msg, bytes)\n",
    "  # convert data into sequence of bits\n",
    "    msgBits = \"\".join(format(byte, '08b') for byte in msg)\n",
    "    seed = key # initialize the seed with the key\n",
    "    for b in msgBits:\n",
    "        rnd = PRG(seed)[int(b)]\n",
    "        seed = rnd\n",
    "    return rnd\n",
    "    \n",
    "# 2 points\n",
    "def feistel_function(ptxt: bytes, subkey: bytes) -> bytes:\n",
    "    \"\"\"\n",
    "    Based on the blueprint given in the question, implement the feistel function\n",
    "    and generate random_string and return it.\n",
    "    \"\"\"\n",
    "    random_string = b\"\"\n",
    "    # YOUR CODE HERE\n",
    "    random_string = PRF(subkey, ptxt) # Use GGM89\n",
    "    #raise NotImplementedError()\n",
    "    return random_string\n",
    "\n",
    "# 2 points\n",
    "def BH_encrypt(ptxt: bytes, key: bytes = b\"\") -> bytes:\n",
    "    \"\"\"\n",
    "    Implement the BlueHen encryption function. The function takes the plaintext\n",
    "    and key in bytes and returns the ciphertext in bytes format.\n",
    "    You must call the key_expansion and feistel_function functions.\n",
    "    \"\"\"\n",
    "    if key == b\"\":\n",
    "        key = gen_key()\n",
    "    ctxt = b''\n",
    "    # YOUR CODE HERE\n",
    "    original_length=len(ptxt)\n",
    "    if original_length % 2 != 0: \n",
    "        ptxt += b'\\x00'# add padding if not even length\n",
    "    left=ptxt[:len(ptxt) // 2] # divide ptxt into left and right half\n",
    "    right=ptxt[len(ptxt) // 2:]\n",
    "    subkeys=key_expansion(key) # get subkeys\n",
    "\n",
    "    for i in range(len(subkeys)):\n",
    "        #feistel network\n",
    "        feistel_result = feistel_function(right, subkeys[i]) \n",
    "        left, right = right, xor(left, feistel_result)\n",
    "\n",
    "    ctxt= left + right # add both halves to get ctxt\n",
    "    return ctxt\n",
    "\n",
    "# 2 points\n",
    "def BH_decrypt(ctxt: bytes, key: bytes = b\"\") -> bytes:\n",
    "    \"\"\"\n",
    "    Implement the BlueHen encryption function. The function takes the ciphertext\n",
    "    and key in bytes and returns the plaintext in bytes format.\n",
    "    You must call the key_expansion and feistel_function functions.\n",
    "    \"\"\"\n",
    "    if key == b\"\":\n",
    "        key = gen_key()\n",
    "    ptxt = b''\n",
    "\n",
    "    # YOUR CODE HERE\n",
    "    left=ctxt[:len(ctxt) // 2]\n",
    "    right=ctxt[len(ctxt) // 2:]\n",
    "    subkeys=key_expansion(key)\n",
    "    # reverse order for decryption\n",
    "    for i in range(len(subkeys) - 1, -1, -1):\n",
    "        feistel_result = feistel_function(left, subkeys[i])\n",
    "        right, left = left, xor(right, feistel_result)\n",
    "\n",
    "    ptxt=left + right\n",
    "    return ptxt.rstrip(b'\\x00') # remove padding\n",
    "    return ptxt\n"
   ]
  },
  {
   "cell_type": "markdown",
   "id": "2bea5e0e-2f52-415d-baa9-bd26a42d21eb",
   "metadata": {
    "deletable": false,
    "editable": false,
    "nbgrader": {
     "cell_type": "markdown",
     "checksum": "eda93858af80346e7b61fe5f26d6344c",
     "grade": false,
     "grade_id": "cell-3bf54d209b44e3ca",
     "locked": true,
     "schema_version": 3,
     "solution": false,
     "task": false
    }
   },
   "source": [
    "### [1 points] Demonstrate correct operation of BH encryption and decryption using 2 ciphertext/plaintext pairs."
   ]
  },
  {
   "cell_type": "code",
   "execution_count": 8,
   "id": "5900b903-69b6-46ee-a3e5-1e8cfbaea471",
   "metadata": {
    "deletable": false,
    "editable": false,
    "nbgrader": {
     "cell_type": "code",
     "checksum": "f976b74dc4e2d53cc73acf8d5f9dc315",
     "grade": true,
     "grade_id": "cell-e4b5c6920c863961",
     "locked": true,
     "points": 1,
     "schema_version": 3,
     "solution": false,
     "task": false
    }
   },
   "outputs": [
    {
     "name": "stdout",
     "output_type": "stream",
     "text": [
      "b'd\\xf5=\\x0c\\x8dz);&\\\\\\xae7\\xe8\\x14\\xc4\\xde'\n",
      "b'myname' b'myname'\n",
      "b'\\xf9\\xe9\\xe8sC o\\xce,\\xbc/S\\xab\\xc6\\x04\\xb4'\n",
      "b'hello' b'hello'\n"
     ]
    }
   ],
   "source": [
    "ptxt = b\"myname\"\n",
    "key = generate_key()\n",
    "ctxt = BH_encrypt(ptxt, key)\n",
    "print(key)\n",
    "ptxt_test = BH_decrypt(ctxt, key)\n",
    "print(ptxt,ptxt_test)\n",
    "assert ptxt == ptxt_test\n",
    "\n",
    "\n",
    "ptxt = b\"hello\"\n",
    "key = generate_key()\n",
    "ctxt = BH_encrypt(ptxt, key)\n",
    "print(key)\n",
    "ptxt_test = BH_decrypt(ctxt, key)\n",
    "print(ptxt,ptxt_test)\n",
    "assert ptxt == ptxt_test\n"
   ]
  },
  {
   "cell_type": "code",
   "execution_count": 9,
   "id": "9c8add15-bc0a-400c-ad13-f5e06aaaca8a",
   "metadata": {
    "deletable": false,
    "editable": false,
    "nbgrader": {
     "cell_type": "code",
     "checksum": "8cc125ba5b130abfc943d59697c526d7",
     "grade": true,
     "grade_id": "cell-e360ff032b8c2dbd",
     "locked": true,
     "points": 1,
     "schema_version": 3,
     "solution": false,
     "task": false
    }
   },
   "outputs": [],
   "source": [
    "key = generate_key()\n",
    "assert len(key) == 16\n",
    "assert type(key) == bytes"
   ]
  },
  {
   "cell_type": "code",
   "execution_count": 10,
   "id": "c86cc6a9-0f9c-4a4a-a350-0ecab47a471b",
   "metadata": {
    "deletable": false,
    "editable": false,
    "nbgrader": {
     "cell_type": "code",
     "checksum": "b1508622be45d9f8b614e7cce1a84a70",
     "grade": true,
     "grade_id": "cell-a6fa0e53503e08ef",
     "locked": true,
     "points": 1,
     "schema_version": 3,
     "solution": false,
     "task": false
    }
   },
   "outputs": [],
   "source": [
    "key = b\"this is a test!!\"\n",
    "subkeys = key_expansion(key)\n",
    "assert subkeys == [b'\\x0e\\xaeW\\x08\\xc3*\\x83\\xc3d\\xe8Y\\xf7\\xbfr\\x07\\xb0', b\"\\xb6\\xa0,jg\\xf4;\\xda\\xb6\\xbeV\\x05'\\x93if\", b'9\\x16\\xbf*\\xed\\xbbs\\xd4\\xe8\\xf8w6Fs\\xb4\\xe6', b'\\xa6\\xa5\\xc7\\xbc|\\xf92\\x1fy\\xfev\\x9f\\x12\\xbeT\\x80', b'\\xf1:\\x18i\\xac\\x97%\\x97\\\\\\xd5\\x9c\\x14\\xdc\\xf6\\x90\\xcb']\n"
   ]
  },
  {
   "cell_type": "code",
   "execution_count": 11,
   "id": "6c4b66be-e7d0-41a4-a465-cf29c9b03a36",
   "metadata": {
    "deletable": false,
    "editable": false,
    "nbgrader": {
     "cell_type": "code",
     "checksum": "577f075c5109ba0a06ba95612f802e50",
     "grade": true,
     "grade_id": "cell-ac5dd691e6585e5e",
     "locked": true,
     "points": 1,
     "schema_version": 3,
     "solution": false,
     "task": false
    }
   },
   "outputs": [],
   "source": [
    "random_string = feistel_function(b\"hello\",b\"this is a test!!\")\n",
    "assert random_string == b'\\x07\\x8c\\x90\\xad\\xfeP[\\x1e\\xd0Xn-vf\\x88>'"
   ]
  },
  {
   "cell_type": "code",
   "execution_count": 12,
   "id": "28e30c6e-7cee-4435-8908-099b0b8d3cdd",
   "metadata": {
    "deletable": false,
    "editable": false,
    "nbgrader": {
     "cell_type": "code",
     "checksum": "1bd2953016b1045d429f0d298e1b3641",
     "grade": true,
     "grade_id": "cell-514d9d33c0510b80",
     "locked": true,
     "points": 1,
     "schema_version": 3,
     "solution": false,
     "task": false
    }
   },
   "outputs": [],
   "source": [
    "# hidden tests"
   ]
  },
  {
   "cell_type": "code",
   "execution_count": 13,
   "id": "05c0391a-41d6-47f9-a3c2-c0dfcd332313",
   "metadata": {
    "deletable": false,
    "editable": false,
    "nbgrader": {
     "cell_type": "code",
     "checksum": "196ce0903102a24c1624c3eaf16938fd",
     "grade": true,
     "grade_id": "cell-56499a9261360350",
     "locked": true,
     "points": 1,
     "schema_version": 3,
     "solution": false,
     "task": false
    }
   },
   "outputs": [],
   "source": [
    "k1 = b'O\\xce)m\\xb8\\xb3K\\xfa\\xb6J%W\\x87\\n\\xab\\xf9'\n",
    "p1 = b'abcdef  abcdef'\n",
    "c1 = BH_encrypt(p1, k1) \n",
    "assert c1 == b'z\\xeb\\xb4\\x04\\x17\\xbdk\\xb3X\\xa0\\x8a\\xbf\\xc4\\xf1' "
   ]
  },
  {
   "cell_type": "code",
   "execution_count": 14,
   "id": "64fb5fcd-9017-4904-bb57-3302d2612d54",
   "metadata": {
    "deletable": false,
    "editable": false,
    "nbgrader": {
     "cell_type": "code",
     "checksum": "2367635c7a1e7f86abc98391dac5ab90",
     "grade": true,
     "grade_id": "cell-3ab0f0f8fd8c4048",
     "locked": true,
     "points": 1,
     "schema_version": 3,
     "solution": false,
     "task": false
    }
   },
   "outputs": [],
   "source": [
    "# hidden tests"
   ]
  },
  {
   "cell_type": "code",
   "execution_count": 15,
   "id": "25a45291-7a44-4c63-a597-ecbce83bf275",
   "metadata": {
    "deletable": false,
    "editable": false,
    "nbgrader": {
     "cell_type": "code",
     "checksum": "30b9e164cee1e049cdeb9ed379d83702",
     "grade": true,
     "grade_id": "cell-ba8e96507deedf40",
     "locked": true,
     "points": 1,
     "schema_version": 3,
     "solution": false,
     "task": false
    }
   },
   "outputs": [],
   "source": [
    "k1 = b'O\\xce)m\\xb8\\xb3K\\xfa\\xb6J%W\\x87\\n\\xab\\xf9'\n",
    "c1 = b'z\\xeb\\xb4\\x04\\x17\\xbdk\\xb3X\\xa0\\x8a\\xbf\\xc4\\xf1'\n",
    "p1 = BH_decrypt(c1, k1) \n",
    "assert p1 == b'abcdef  abcdef'"
   ]
  },
  {
   "cell_type": "code",
   "execution_count": 16,
   "id": "aae9b263-4f91-49a2-a00f-c856491e7cfc",
   "metadata": {
    "deletable": false,
    "editable": false,
    "nbgrader": {
     "cell_type": "code",
     "checksum": "069a0d19b1bcfcc7a354cce57cbddfa2",
     "grade": true,
     "grade_id": "cell-b5dde6f6742a9d30",
     "locked": true,
     "points": 1,
     "schema_version": 3,
     "solution": false,
     "task": false
    }
   },
   "outputs": [],
   "source": [
    "# hidden test cases"
   ]
  },
  {
   "cell_type": "markdown",
   "id": "56ac43d0-b7c2-4058-a9f3-b07ece5325a4",
   "metadata": {
    "deletable": false,
    "editable": false,
    "nbgrader": {
     "cell_type": "markdown",
     "checksum": "7a59ec66af22c3f1d78da683872ffdfc",
     "grade": false,
     "grade_id": "cell-ba81ac98829f5ca9",
     "locked": true,
     "schema_version": 3,
     "solution": false,
     "task": false
    }
   },
   "source": [
    "### <font color='blue'> Q3-b: [10 points] Implement the counter (CTR) mode decryption for the BH block cipher described above. Assume nonce size of 64 bits and counter size of 64 bits. Ensure the counter restarts from zero in every new message. Do you need a different nonce for each message or you can use the same? What are the inputs needed to implement BH-CTR decryption? Demonstrate correct operation of BH-CTR decryption using a ciphertext comprising at least 4 blocks and any other necessary inputs. Do you need to use padding in this mode of operation? </font>"
   ]
  },
  {
   "cell_type": "markdown",
   "id": "f3922e02-9d48-42b0-b596-74dac0271ed7",
   "metadata": {
    "deletable": false,
    "editable": false,
    "nbgrader": {
     "cell_type": "markdown",
     "checksum": "d6101189b2f3cf17d6db43e16a11baf6",
     "grade": false,
     "grade_id": "cell-294fa50a0a34ccc1",
     "locked": true,
     "schema_version": 3,
     "solution": false,
     "task": false
    }
   },
   "source": [
    "### [3 points] Do you need a different nonce for each message or you can use the same? What are the inputs needed to implement BH-CTR decryption? Do you need to use padding in this mode of operation?"
   ]
  },
  {
   "cell_type": "markdown",
   "id": "ef3756ee",
   "metadata": {
    "deletable": false,
    "nbgrader": {
     "cell_type": "markdown",
     "checksum": "10bc5a5d02c8680da19ca6f45106daec",
     "grade": true,
     "grade_id": "cell-cc4709b93c4ae2db",
     "locked": false,
     "points": 3,
     "schema_version": 3,
     "solution": true,
     "task": false
    }
   },
   "source": [
    "A different nonce is required for each message, you cannot use the same nonce for different messages. \n",
    "The inputs needed for the BH_CTR decryption are the nonce, key and the ciphertext. \n",
    "Counter mode does not require padding."
   ]
  },
  {
   "cell_type": "code",
   "execution_count": 17,
   "id": "44ccfdb1-f5cf-4ab9-99ba-b99033b54c41",
   "metadata": {
    "deletable": false,
    "nbgrader": {
     "cell_type": "code",
     "checksum": "c1dddb719b3d6f37adab25303320b1d2",
     "grade": false,
     "grade_id": "cell-b0f4516fe280dded",
     "locked": false,
     "schema_version": 3,
     "solution": true,
     "task": false
    }
   },
   "outputs": [],
   "source": [
    "# 2 points\n",
    "def generate_nonce() -> bytes:\n",
    "    \"\"\"\n",
    "    Must generate 64 bit random nonce. You can use secrets library.\n",
    "    \"\"\"\n",
    "\n",
    "    nonce = b\"\"\n",
    "    \n",
    "    # YOUR CODE HERE\n",
    "    nonce=secrets.token_bytes(8)\n",
    "    #raise NotImplementedError()\n",
    "\n",
    "    return nonce\n",
    "\n",
    "# 5 points\n",
    "def BH_CTR_decrypt(ctxt: bytes, key: bytes = b\"\", nonce: bytes = b\"\") -> bytes:\n",
    "    \"\"\"\n",
    "    Implement the CTR mode decryption of BH cipher. Input ctxt should be at least\n",
    "    4 blocks, or 64 bytes\"\n",
    "    The function should return the result as bytes.\n",
    "    You must utilize the previous functions implemented in part a.\n",
    "    \"\"\"\n",
    "    if key == b\"\":\n",
    "        key = generate_key()\n",
    "    if nonce == b\"\":\n",
    "        nonce = generate_nonce()\n",
    "    \n",
    "    ptxt = b''\n",
    "    counter = 0\n",
    "    # YOUR CODE HERE\n",
    "    block_size=16 # AES block size\n",
    "    for i in range(0,len(ctxt),block_size):\n",
    "        counter_block=nonce+counter.to_bytes(8,byteorder='big')# concatinate nonce and counter \n",
    "        encryption=BH_encrypt(counter_block,key) # encrypt contantinated counter and nonce with key\n",
    "        current_block=ctxt[i:i+block_size] # get current_block\n",
    "        decrypted_block=xor(encryption,current_block)#decrypted block\n",
    "        ptxt += decrypted_block\n",
    "        counter += 1\n",
    "    return ptxt"
   ]
  },
  {
   "cell_type": "code",
   "execution_count": 18,
   "id": "57dc0b33-af0b-4981-b585-da23ea0c328b",
   "metadata": {
    "deletable": false,
    "editable": false,
    "nbgrader": {
     "cell_type": "code",
     "checksum": "f7debf2b8a761f177fadb8115e78580f",
     "grade": true,
     "grade_id": "cell-1a7b5404ce5286ed",
     "locked": true,
     "points": 2,
     "schema_version": 3,
     "solution": false,
     "task": false
    }
   },
   "outputs": [],
   "source": [
    "nonce = generate_nonce()\n",
    "assert len(nonce) == 8\n",
    "assert type(nonce) == bytes"
   ]
  },
  {
   "cell_type": "code",
   "execution_count": 19,
   "id": "f042f753-6672-44f0-accf-7cc8fecc96e5",
   "metadata": {
    "deletable": false,
    "editable": false,
    "nbgrader": {
     "cell_type": "code",
     "checksum": "a29b00acfa20a10fc734f1e15ed75ece",
     "grade": true,
     "grade_id": "cell-d14e6fda0739f3a4",
     "locked": true,
     "points": 3,
     "schema_version": 3,
     "solution": false,
     "task": false
    }
   },
   "outputs": [],
   "source": [
    "txt1 = b'abcdabcdabcdabcdabcdabcdabcdabcdabcdabcdabcdabcdabcdabcdabcdabcdabcdabcdab'\n",
    "key1 = b'\\xaf;S\"\\x06\\xca\\x1b\\xeb]\\x85\\xab :^\\xf8\\x86'\n",
    "nonce1 = b'\\x98\\xae\\xbfR\\x9c[4\\xb2'\n",
    "res1 = BH_CTR_decrypt(txt1, key1, nonce1)\n",
    "assert res1 == b'\\xaa\\x8do]\\r\\xddo~\\x883t\\xf4\\xab\\xdc\\x94\\xdd\\xa9\\xc3\\xe2\\xd9\\xe1\\x03\\x06\\xab&\\xa3\\x9f\\xe5i\\x9eKM\\xab\\xd3\\x0brq\\xc3;\\x8b}\\xc9\\x89\\xa7\\xff\\xdbY2\\xe2\\xe9t\\xe9 \\x1f\\xbct\"zU\\xcd\\x9dt\\xe7\\xe8\\xe6\\xb3\\x87]%\\x90\\x87\\x88\\xd78'\n",
    "assert txt1 == BH_CTR_decrypt(res1, key1, nonce1)\n",
    "\n",
    "txt2 = b'Hello World, this is applied cryptography. Welcome to a world full of encryption'\n",
    "key2 = b'\\xbe\\t/!\\xe2qz\\xad\\x10DhQ\\x90l\\xd3i'\n",
    "nonce2 = b'\\xd8^\\xceIc\\xc0\\xe0\\xf6'\n",
    "res2 = BH_CTR_decrypt(txt2, key2, nonce2)\n",
    "assert res2 == b'\\xa8#9\\x8eFda\\xa4\\x94EY\\x8e(Q32a/\\xbd\\x90\\xeef\\xb5\\xfa\\x14\\x03X\\xe8%\\xe0\\x05\\xa3\\x89\\xe8\\xb0:\\xf21\\x87\\xb9)\\xc0\\xe3\\x90\\\\\\xdc?\\xf7Z\\xeb\\xaf\\xa5G\\x95\\x91i\\xcc\\x90\\xf7\\\\.\\xe3\\xa0\\xcaAo\\x8fka\\\\-\\x82e\\xa3\\xf2\\x1e\\xf5,\\xff\\xe1'\n",
    "assert txt2 == BH_CTR_decrypt(res2, key2, nonce2)"
   ]
  },
  {
   "cell_type": "code",
   "execution_count": 20,
   "id": "36480fca-bee9-4809-b9cd-1b4968c573c2",
   "metadata": {
    "deletable": false,
    "editable": false,
    "nbgrader": {
     "cell_type": "code",
     "checksum": "4b27e220e2ae5e5d3aabf1da083a8e4f",
     "grade": true,
     "grade_id": "cell-d520ae138748f7d9",
     "locked": true,
     "points": 2,
     "schema_version": 3,
     "solution": false,
     "task": false
    }
   },
   "outputs": [],
   "source": [
    "# hidden test cases"
   ]
  },
  {
   "cell_type": "markdown",
   "id": "926d2803-99e0-4518-83a7-4b6b1b6f411a",
   "metadata": {
    "deletable": false,
    "editable": false,
    "nbgrader": {
     "cell_type": "markdown",
     "checksum": "2531f3615ff619fd76ce11c62e3fe37a",
     "grade": false,
     "grade_id": "cell-12179385e542c3d0",
     "locked": true,
     "schema_version": 3,
     "solution": false,
     "task": false
    }
   },
   "source": [
    "### <font color='blue'> Q3-c: [10 points] Implement the cipher block chaining (CBC) mode encryption for the BH block cipher described above. What are the inputs needed to implement BH-CBC decryption? Demonstrate correct operation of BH-CBC encryption using a message of size equal to 3 blocks and any other necessary inputs. **Note, no need to worry about plaintext alignment to the block size in this sub-question.\n",
    "</font>"
   ]
  },
  {
   "cell_type": "markdown",
   "id": "a1b46b87-e2d0-4bf5-9808-b291f03604c2",
   "metadata": {
    "deletable": false,
    "editable": false,
    "nbgrader": {
     "cell_type": "markdown",
     "checksum": "cd9ac64d8c70dd9c5a602041d196c37f",
     "grade": false,
     "grade_id": "cell-7aa96cc90ad3358c",
     "locked": true,
     "schema_version": 3,
     "solution": false,
     "task": false
    }
   },
   "source": [
    "### [2 points] What are the inputs needed to implement BH-CBC decryption?"
   ]
  },
  {
   "cell_type": "markdown",
   "id": "ff778f84",
   "metadata": {
    "deletable": false,
    "nbgrader": {
     "cell_type": "markdown",
     "checksum": "ab4fd02e455d4ad79a193417b81c666a",
     "grade": true,
     "grade_id": "cell-ffed2dbdc0e80b55",
     "locked": false,
     "points": 2,
     "schema_version": 3,
     "solution": true,
     "task": false
    }
   },
   "source": [
    "The inputs needed are the ciphertext,the IV and the key."
   ]
  },
  {
   "cell_type": "code",
   "execution_count": 21,
   "id": "bd7a7cc9-ed76-4667-bd3e-f69365fc65e7",
   "metadata": {
    "deletable": false,
    "nbgrader": {
     "cell_type": "code",
     "checksum": "531c0a03b82ff34cc1c5e74910e431bb",
     "grade": false,
     "grade_id": "cell-f4337c581751bc07",
     "locked": false,
     "schema_version": 3,
     "solution": true,
     "task": false
    }
   },
   "outputs": [],
   "source": [
    "# 2 points\n",
    "def generate_iv() -> bytes:\n",
    "    \"\"\"\n",
    "    generate 128 bit random IV. You can use secrets library.\n",
    "    \"\"\"\n",
    "\n",
    "    iv = b\"\"\n",
    "    # YOUR CODE HERE\n",
    "    iv=secrets.token_bytes(16)\n",
    "    #raise NotImplementedError()\n",
    "\n",
    "    return iv\n",
    "def pad(ptxt,block_size):\n",
    "    padding_length = block_size - (len(ptxt) % block_size) # calculate required padding length\n",
    "    padding = bytes([padding_length] * padding_length)  # get the byte to add and number of bytes to add\n",
    "    return ptxt + padding\n",
    "\n",
    "# 6 points\n",
    "def BH_CBC_encrypt(ptxt: bytes, key: bytes = b\"\", iv: bytes = b\"\") -> bytes:\n",
    "    \"\"\"\n",
    "    Implement the BH CBC encryption mode.\n",
    "    The function should return ctxt as bytes.\n",
    "    You must utilize the previous functions implemented in part a.\n",
    "    \"\"\"\n",
    "\n",
    "    if key == b\"\":\n",
    "        key = generate_key()\n",
    "\n",
    "    if iv == b\"\":\n",
    "        iv = generate_iv()\n",
    "\n",
    "    ctxt = b\"\"\n",
    "    # YOUR CODE HERE\n",
    "    block_size=16\n",
    "    padded_ptxt=pad(ptxt,block_size) # add padding\n",
    "    previous_ctxt=iv # for 1st block\n",
    "    for i in range(0,len(padded_ptxt),block_size):\n",
    "        block=padded_ptxt[i:i+block_size] # get the blocks\n",
    "        xor_block=xor(block,previous_ctxt) # xor input for encryption\n",
    "        encryption=BH_encrypt(xor_block,key) # encrypting xor_bloxk and key\n",
    "        ctxt += encryption\n",
    "        previous_ctxt=encryption\n",
    "    \n",
    "    #raise NotImplementedError()\n",
    "\n",
    "    return ctxt"
   ]
  },
  {
   "cell_type": "code",
   "execution_count": 22,
   "id": "64604aea-960a-40d6-8aeb-5720ea5722a8",
   "metadata": {
    "deletable": false,
    "editable": false,
    "nbgrader": {
     "cell_type": "code",
     "checksum": "b7bb7afafc7319139e27ce315847cb9b",
     "grade": true,
     "grade_id": "cell-abe4300d6b6d1a64",
     "locked": true,
     "points": 2,
     "schema_version": 3,
     "solution": false,
     "task": false
    }
   },
   "outputs": [],
   "source": [
    "iv = generate_iv()\n",
    "assert len(iv) == 16\n",
    "assert type(iv) == bytes"
   ]
  },
  {
   "cell_type": "code",
   "execution_count": 23,
   "id": "d97731b4-ebc6-42cc-8226-0d130832ceb0",
   "metadata": {
    "deletable": false,
    "editable": false,
    "nbgrader": {
     "cell_type": "code",
     "checksum": "088efbc3df1ed88d882de8de7881fd1b",
     "grade": true,
     "grade_id": "cell-6514af505f74e1ed",
     "locked": true,
     "points": 4,
     "schema_version": 3,
     "solution": false,
     "task": false
    }
   },
   "outputs": [
    {
     "ename": "AssertionError",
     "evalue": "",
     "output_type": "error",
     "traceback": [
      "\u001b[1;31m---------------------------------------------------------------------------\u001b[0m",
      "\u001b[1;31mAssertionError\u001b[0m                            Traceback (most recent call last)",
      "\u001b[1;32m~\\AppData\\Local\\Temp\\ipykernel_15524\\3941162152.py\u001b[0m in \u001b[0;36m<module>\u001b[1;34m\u001b[0m\n\u001b[0;32m      3\u001b[0m \u001b[0mkey1\u001b[0m \u001b[1;33m=\u001b[0m \u001b[1;34mb'\\xda\\x10\\x82\\xa2\\x15\\xa9\\xf4\\xbdt\"\\xae\\x98NJ#\\x0c'\u001b[0m\u001b[1;33m\u001b[0m\u001b[1;33m\u001b[0m\u001b[0m\n\u001b[0;32m      4\u001b[0m \u001b[0mctxt1\u001b[0m \u001b[1;33m=\u001b[0m \u001b[0mBH_CBC_encrypt\u001b[0m\u001b[1;33m(\u001b[0m\u001b[0mptxt1\u001b[0m\u001b[1;33m,\u001b[0m \u001b[0mkey1\u001b[0m\u001b[1;33m,\u001b[0m \u001b[0miv1\u001b[0m\u001b[1;33m)\u001b[0m\u001b[1;33m\u001b[0m\u001b[1;33m\u001b[0m\u001b[0m\n\u001b[1;32m----> 5\u001b[1;33m \u001b[1;32massert\u001b[0m \u001b[0mctxt1\u001b[0m \u001b[1;33m==\u001b[0m \u001b[1;34mb'\\xf2\\xef\\x1e\\x9b\\xaaA$\\xd4\\xed\\x00b\\xcb\\x05\\xfb\\x91K\\x0b\\xf1\\xfaD\\xb1|\\x0eJ!\\xf6\\xfc\\x1d_~\\xb3l\\xef\\x1ah\\xff\\xf9s\\xd0\\xd5Qa\\xfa>&\\xd6\\xef\\x8ck\\xb0y(h'\u001b[0m\u001b[1;33m\u001b[0m\u001b[1;33m\u001b[0m\u001b[0m\n\u001b[0m\u001b[0;32m      6\u001b[0m \u001b[1;33m\u001b[0m\u001b[0m\n\u001b[0;32m      7\u001b[0m \u001b[0mptxt2\u001b[0m \u001b[1;33m=\u001b[0m \u001b[1;34mb'Crypto is AWESOME Crypto is AWESOME Crypto is AWESOME Crypto is AWESOME Crypto is AWESOME Crypto is AWESOME Crypto is AWESOME Crypto is AWESOME '\u001b[0m\u001b[1;33m\u001b[0m\u001b[1;33m\u001b[0m\u001b[0m\n",
      "\u001b[1;31mAssertionError\u001b[0m: "
     ]
    }
   ],
   "source": [
    "ptxt1 = b'abcdabcdabcdabcdabcdabcdabcdabcdcdabcdabcdabcdbcdabcd'\n",
    "iv1 = b'\\xe0\\xc1\\x81\\xfbJ]\\x02\\x16V\\x99\\xef!\\xef+\\xf0\\xdb'\n",
    "key1 = b'\\xda\\x10\\x82\\xa2\\x15\\xa9\\xf4\\xbdt\"\\xae\\x98NJ#\\x0c'\n",
    "ctxt1 = BH_CBC_encrypt(ptxt1, key1, iv1)\n",
    "assert ctxt1 == b'\\xf2\\xef\\x1e\\x9b\\xaaA$\\xd4\\xed\\x00b\\xcb\\x05\\xfb\\x91K\\x0b\\xf1\\xfaD\\xb1|\\x0eJ!\\xf6\\xfc\\x1d_~\\xb3l\\xef\\x1ah\\xff\\xf9s\\xd0\\xd5Qa\\xfa>&\\xd6\\xef\\x8ck\\xb0y(h'\n",
    "\n",
    "ptxt2 = b'Crypto is AWESOME Crypto is AWESOME Crypto is AWESOME Crypto is AWESOME Crypto is AWESOME Crypto is AWESOME Crypto is AWESOME Crypto is AWESOME '\n",
    "iv2 = b'9\\x16\\x03\\xcf\\xcf\\xacP\\xc3\\x99\\r\\x15y\\xf0\\xca\\x1b\\xae'\n",
    "key2 = b'1\\xe2\\xf0s\\x9fh#\\xd42\\x0f>\\xb2\\xcd\\r\\xd9~'\n",
    "ctxt2 = BH_CBC_encrypt(ptxt2, key2, iv2)\n",
    "assert ctxt2 ==  b'\\xd6\\x85\\x96\\xd0\\x15V\\x81V[\\xe9\\x0e\\xc8\\xb6\\x82\\x13\\x9c\\x135]\\xde\\xc6\\x99\\xd6\\xfd\\x0c\\xc6\\x80=0eC\\xfe^\\xda\\xe3\\x07\\x1a-\\xf0V\\xfb|\\x03_\\xe8\\xe1\\x01\\xac\\x19\\x8aK\\xfe\\xee\\xdf3\"h\\x89\\x96\\xf2\\x1f\\x99\\xfd~\\x00\\x05A\\xa0\\x07\\x00c\\xfb\\x8a\\x04\\xdez\\x83\\x06\\xe1f}_.P\\xc2\\xd1\\xfa%\\xb6\\xca4Bz\\x0e\\xc8A\\x02\\x9e\\xc45h:)\\x03D<\\xe1\\xe6\\xb8\\x14\\x04\\x81\\xf4\\xc2\\xd4F\\xd2\\xf6\\xa1\\x85R\\xeb\\x0b\\x88\\x1bY\\xd0\\xd2\\x16\\x02\\xf3v\\x03!\\xc1?m\\x10\\x96\\x1dB\\x12w{'\n"
   ]
  },
  {
   "cell_type": "code",
   "execution_count": 24,
   "id": "59842004-e3ff-4670-93fa-a707011c5acc",
   "metadata": {
    "deletable": false,
    "editable": false,
    "nbgrader": {
     "cell_type": "code",
     "checksum": "7258ece4005a69d3c2011a4eae583e65",
     "grade": true,
     "grade_id": "cell-1ffc4dfc80ada6a9",
     "locked": true,
     "points": 2,
     "schema_version": 3,
     "solution": false,
     "task": false
    }
   },
   "outputs": [],
   "source": [
    "# hidden test cases"
   ]
  },
  {
   "cell_type": "markdown",
   "id": "6c746c17-18dc-400e-9c66-fb98ddb10fe7",
   "metadata": {
    "deletable": false,
    "editable": false,
    "nbgrader": {
     "cell_type": "markdown",
     "checksum": "5eab5fc495a52ff057cae32507f2d2b8",
     "grade": false,
     "grade_id": "cell-73f37aa9b3ef993c",
     "locked": true,
     "schema_version": 3,
     "solution": false,
     "task": false
    }
   },
   "source": [
    "### <font color='blue'> Q3-d: [10 points] For the BH-CBC mode above, assume the input message does not align to a multiple of the block size. Extend BH-CBC to BH-CBC-CS that supports ciphertext stealing, as discussed in class and in the book. Implement the BH-CBC-CS encryption and decryption functions. Demonstrate correct operation by encrypting a 40-byte plaintext message with BH-CBC-CS and then by correctly decrypting the corresponding 40-byte ciphertext.\n",
    "</font>"
   ]
  },
  {
   "cell_type": "code",
   "execution_count": 29,
   "id": "c6e12cf0-cdb0-4804-975a-0191a59b7d9d",
   "metadata": {
    "deletable": false,
    "nbgrader": {
     "cell_type": "code",
     "checksum": "b3ba5fe09099b5ec71cf010870841629",
     "grade": false,
     "grade_id": "cell-6218b6035427eb68",
     "locked": false,
     "schema_version": 3,
     "solution": true,
     "task": false
    }
   },
   "outputs": [],
   "source": [
    "# worth 10 points\n",
    "def BH_CBC_CS_encrypt(ptxt: bytes, key: bytes = b\"\", iv: bytes = b\"\") -> bytes:\n",
    "    \"\"\"\n",
    "    Implement the encryption function of CBC mode that supports ciphertext stealing. Implement based\n",
    "    on the blueprint provided in the lecture. return ctxt in bytes\n",
    "    \"\"\"\n",
    "\n",
    "    if key == b\"\":\n",
    "        key = generate_key()\n",
    "\n",
    "    if iv == b\"\":\n",
    "        iv = generate_iv()\n",
    "\n",
    "    ctxt = b''\n",
    "    # YOUR CODE HERE\n",
    "    block_size=16\n",
    "    no_of_block=len(ptxt)//block_size\n",
    "    remainder=len(ptxt)%block_size\n",
    "    if remainder == 0:\n",
    "        return BH_CBC_encrypt(ptxt,key,iv)\n",
    "    previous_ctxt=iv\n",
    "    for i in range(no_of_block-1):\n",
    "        block=ptxt[i*block_size:(i+1)*block_size]\n",
    "        xor_block=xor(block,previous_ctxt) # xor input for encryption\n",
    "        encryption=BH_encrypt(xor_block,key) # encrypting xor_bloxk and key\n",
    "        ctxt += encryption\n",
    "        previous_ctxt=encryption\n",
    "        \n",
    "    penultimate_block=ptxt[(no_of_block-1)*block_size:no_of_block*block_size] #getting the penultimate block\n",
    "    final_block=ptxt[no_of_block*block_size:] # getting last block\n",
    "    # encrypting penultimate block\n",
    "    xor_block=xor(penultimate_block,previous_ctxt) \n",
    "    encrypted_penultimate_block=BH_encrypt(xor_block,key)\n",
    "    # getting the remaining from the penultimate block\n",
    "    stolen_ctxt= encrypted_penultimate_block[:remainder]\n",
    "    xor_final_block=xor(final_block,stolen_ctxt) # xor with the final block\n",
    "    encrypted_final_block=BH_encrypt(xor_final_block,key) # encrypt final block\n",
    "    ctxt += encrypted_final_block + encrypted_penultimate_block[:remainder]\n",
    "\n",
    "    \n",
    "    #raise NotImplementedError()\n",
    "\n",
    "    return ctxt"
   ]
  },
  {
   "cell_type": "code",
   "execution_count": 30,
   "id": "1fed14d1-78c5-4b7f-afe5-30c93970fdac",
   "metadata": {
    "deletable": false,
    "editable": false,
    "nbgrader": {
     "cell_type": "code",
     "checksum": "d9de6c5107ee2fd034ef691ba29d95f6",
     "grade": true,
     "grade_id": "cell-1249026d4b9ebb29",
     "locked": true,
     "points": 6,
     "schema_version": 3,
     "solution": false,
     "task": false
    }
   },
   "outputs": [
    {
     "ename": "AssertionError",
     "evalue": "",
     "output_type": "error",
     "traceback": [
      "\u001b[1;31m---------------------------------------------------------------------------\u001b[0m",
      "\u001b[1;31mAssertionError\u001b[0m                            Traceback (most recent call last)",
      "\u001b[1;32m~\\AppData\\Local\\Temp\\ipykernel_15524\\3435691146.py\u001b[0m in \u001b[0;36m<module>\u001b[1;34m\u001b[0m\n\u001b[0;32m      3\u001b[0m \u001b[0mkey\u001b[0m \u001b[1;33m=\u001b[0m \u001b[1;34mb'\\xda\\x10\\x82\\xa2\\x15\\xa9\\xf4\\xbdt\"\\xae\\x98NJ#\\x0c'\u001b[0m\u001b[1;33m\u001b[0m\u001b[1;33m\u001b[0m\u001b[0m\n\u001b[0;32m      4\u001b[0m \u001b[0mctxt\u001b[0m \u001b[1;33m=\u001b[0m \u001b[0mBH_CBC_CS_encrypt\u001b[0m\u001b[1;33m(\u001b[0m\u001b[0mptxt\u001b[0m\u001b[1;33m,\u001b[0m\u001b[0mkey\u001b[0m\u001b[1;33m,\u001b[0m\u001b[0miv\u001b[0m\u001b[1;33m)\u001b[0m\u001b[1;33m\u001b[0m\u001b[1;33m\u001b[0m\u001b[0m\n\u001b[1;32m----> 5\u001b[1;33m \u001b[1;32massert\u001b[0m \u001b[0mctxt\u001b[0m \u001b[1;33m==\u001b[0m \u001b[1;34mb'\\xca\\xb5\\xe5\\xb0k\\xdcv\\xa2,\\x99\\x07pCP\\x81\\xb4\\xd3\\x8aT\\xa7\\xa3\\xba\\x1d\\x7f\\xb4\\xf5\\x03\\xbc\\xe8]+\\xbe\\xb7q\\xbe\\xde\\xd5\\x12\\xd6\\xa0\\xb1\\x11\\xac1u/\\xcd\\x17\\xf9\\x07\\xdf\\xe78\\x18U\\xed{'\u001b[0m\u001b[1;33m\u001b[0m\u001b[1;33m\u001b[0m\u001b[0m\n\u001b[0m\u001b[0;32m      6\u001b[0m \u001b[1;33m\u001b[0m\u001b[0m\n\u001b[0;32m      7\u001b[0m \u001b[0mptxt2\u001b[0m \u001b[1;33m=\u001b[0m \u001b[1;34mb'crypto <3 crypto <3 crypto <3 crypto <3 crypto <3 crypto <3 crypto <3 crypto <3'\u001b[0m\u001b[1;33m\u001b[0m\u001b[1;33m\u001b[0m\u001b[0m\n",
      "\u001b[1;31mAssertionError\u001b[0m: "
     ]
    }
   ],
   "source": [
    "ptxt = b'Say my name then write it on a paper and store it forever'\n",
    "iv = b'\\xe0\\xc1\\x81\\xfbJ]\\x02\\x16V\\x99\\xef!\\xef+\\xf0\\xda'\n",
    "key = b'\\xda\\x10\\x82\\xa2\\x15\\xa9\\xf4\\xbdt\"\\xae\\x98NJ#\\x0c'\n",
    "ctxt = BH_CBC_CS_encrypt(ptxt,key,iv)\n",
    "assert ctxt == b'\\xca\\xb5\\xe5\\xb0k\\xdcv\\xa2,\\x99\\x07pCP\\x81\\xb4\\xd3\\x8aT\\xa7\\xa3\\xba\\x1d\\x7f\\xb4\\xf5\\x03\\xbc\\xe8]+\\xbe\\xb7q\\xbe\\xde\\xd5\\x12\\xd6\\xa0\\xb1\\x11\\xac1u/\\xcd\\x17\\xf9\\x07\\xdf\\xe78\\x18U\\xed{'\n",
    "\n",
    "ptxt2 = b'crypto <3 crypto <3 crypto <3 crypto <3 crypto <3 crypto <3 crypto <3 crypto <3'\n",
    "iv2 = b'\\x155F\\x84m\\x0e\\xb5\\x18\\x14W\\xf0\\xa6N\\x85\\xab\\x00'\n",
    "key2 = b'\\x1e\\xc9\\xb3\\x9aU\\xf6p\\xda,\\xae\\x8a\\x8b\\xa0Q\\xff\\xb2'\n",
    "ctxt2 = BH_CBC_CS_encrypt(ptxt2, key2, iv2)\n",
    "print(ctxt2)\n",
    "assert ctxt2 == b\"\\xc4\\x8ft\\xfc\\xabBo\\x84\\xb4\\x03\\x98|'e:\\xfc\\x89N\\x90\\xe2\\xcc\\x18p\\xce#\\xcc\\xa1\\xf0\\x03A5m\\xe9\\x9fSjT\\xd6][ \\x87yR4\\xb7i+b,2\\xc8\\xcc\\xa9zy-\\xf9Q\\xc9\\x93\\xc4\\x9epwW:\\x005}\\x08('\\x83MjK\\xb4\\xe0\"\n"
   ]
  },
  {
   "cell_type": "code",
   "execution_count": null,
   "id": "f56ee241",
   "metadata": {
    "deletable": false,
    "editable": false,
    "nbgrader": {
     "cell_type": "code",
     "checksum": "c9656a765a254bce4610e13c1ab9acb6",
     "grade": true,
     "grade_id": "cell-698dfe11604539c6",
     "locked": true,
     "points": 4,
     "schema_version": 3,
     "solution": false,
     "task": false
    }
   },
   "outputs": [],
   "source": [
    "# hidden tests"
   ]
  }
 ],
 "metadata": {
  "kernelspec": {
   "display_name": "Python 3 (ipykernel)",
   "language": "python",
   "name": "python3"
  },
  "language_info": {
   "codemirror_mode": {
    "name": "ipython",
    "version": 3
   },
   "file_extension": ".py",
   "mimetype": "text/x-python",
   "name": "python",
   "nbconvert_exporter": "python",
   "pygments_lexer": "ipython3",
   "version": "3.9.13"
  }
 },
 "nbformat": 4,
 "nbformat_minor": 5
}
