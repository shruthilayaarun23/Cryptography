{
 "cells": [
  {
   "cell_type": "markdown",
   "id": "bd52e552",
   "metadata": {},
   "source": [
    "**Show all your work for full credit. Each source code you submit should include detailed comments and instructions on how to run it in order to confirm that it works as expected. If the program that does not run or throws runtime errors, it cannot be graded. You can refer to the programming guidelines from the TAs here: https://tinyurl.com/CPEG-472-672-Programming-Guide/**\n",
    "\n",
    "**This is an individual assignment and each student should work on their own. Ensure you don't share any code online or with others (note, using Replit, GitHub and similar online platforms can make your code accessible to others).**\n",
    "\n",
    "**To submit the assignment, you need to use Jupyter Notebook with the provided cell blocks and follow the naming conventions and instructions posted here: https://tinyurl.com/CPEG-472-672-Programming-Guide/**"
   ]
  },
  {
   "cell_type": "markdown",
   "id": "08b401ed",
   "metadata": {},
   "source": [
    "Before you turn this problem in, make sure everything runs as expected. First, **restart the kernel** (in the menubar, select Kernel $\\rightarrow$ Restart) and then **run all cells** (in the menubar, select Cell $\\rightarrow$ Run All).\n",
    "\n",
    "Make sure you fill in any place that says `YOUR CODE HERE` or \"YOUR ANSWER HERE\", as well as your name and section below:"
   ]
  },
  {
   "cell_type": "code",
   "execution_count": null,
   "id": "241027eb",
   "metadata": {},
   "outputs": [],
   "source": [
    "NAME = \"Shruthilaya Arun\"\n",
    "#SECTION = \"472\"\n",
    "SECTION = \"672\""
   ]
  },
  {
   "cell_type": "markdown",
   "id": "ec65cb67",
   "metadata": {},
   "source": [
    "---"
   ]
  },
  {
   "cell_type": "markdown",
   "id": "6c87ad0b-1140-4597-8c47-5b57ac4e533d",
   "metadata": {
    "deletable": false,
    "editable": false,
    "nbgrader": {
     "cell_type": "markdown",
     "checksum": "1df7655b8550223b87c03ced0e610dbc",
     "grade": false,
     "grade_id": "cell-bf59654169379e34",
     "locked": true,
     "schema_version": 3,
     "solution": false,
     "task": false
    }
   },
   "source": [
    "## <font color='blue'> (optional) Question 3 [35 points total extra credit] </font>\n",
    "In this question you will implement a software-oriented counter-based stream cipher called babySalsa, which resembles a scaled-down version of Salsa20 stream cipher (see https://cr.yp.to/snuffle/spec.pdf to an external site.). Our babySalsa stream cipher receives a key K, nonce N, counter Ctr and plaintext P and returns a ciphertext C, similar to Salsa20 presented in the lecture and the reading. The main part of babySalsa is the core, which transforms its internal state based on inputs K, N and Ctr (each one of these inputs is 32 bits).\n",
    "\n",
    "The babySalsa core internal state is a 3x3 array A of 16-bit values and is initialized as follows: The array diagonal A[1,1] to A[3,3] are initialized with the bytes of string 'bSalsa', A[1,2] and A[1,3] are initialized with the most significant and least significant bytes of K respectively, A[2,1] and A[2,3] are initialized with the most significant and least significant bytes of N respectively, and A[3,1] and A[3,2] are initialized with the most significant and least significant bytes of Ctr respectively.\n",
    "\n",
    "The Third-Round (TR) function of babySalsa transforms three 16-bit input values (y0,y1,y2) into three 16-bit output values as follows:\n",
    "\n",
    "(z0, z1, z2) = TR (y0,y1,y2), where:\n",
    "z1 = y1 xor ((y0+y2) <<< 5),\n",
    "z2 = y2 xor ((z1+y0) <<< 7),\n",
    "z0 = y0 xor ((z2+z1) <<< 11),\n",
    "so that <<< denotes bitwise rotation by the given number of bit positions within a 16-bit value, and + denotes addition modulo 0x10000.\n",
    "\n",
    "The Column-Round (CR) function of babySalsa transforms the three columns of the internal state array as follows: For the leftmost column of the state array, TR is applied to the three values in the column starting with the value in the top row as y0 towards the bottom. For the middle column of state array, TR is applied to the three values starting from the value in the middle row as y0 and continuing to the bottom and then the top row. For the rightmost column of state array, TR is applied to the three values starting from the value at the bottom row as y0 and continuing to the top and then the middle row.\n",
    "\n",
    "The Row-Round (RR) function of babySalsa transforms the three rows of the internal state array as follows: For the top row of the state array, TR is applied to the three row values starting from the value on the left as y0 towards the right. For the middle row of the state array, TR is applied to the three row values starting from the middle value as y0 and continuing to the right value and then the leftmost value. For the bottom row of the state array, TR is applied to the row values starting from the rightmost value as y0 and continuing to the leftmost and then the middle value.\n",
    "\n",
    "We define as a Double-Round (DR) the sequence of applying one CR followed by one RR to the state array.\n",
    "\n",
    "To transform the initial 3x3 state array, the babySalsa core applies DR four times. At the DR step, the original matrix A is added to the permated matrix A'. The resulting matrix is flattened to become the keystream output for encryption. "
   ]
  },
  {
   "cell_type": "code",
   "execution_count": 16,
   "id": "4ba72ad1-60e6-42a0-9df8-9bc85ca0149a",
   "metadata": {
    "deletable": false,
    "editable": false,
    "nbgrader": {
     "cell_type": "code",
     "checksum": "0a22bb6bd7201a533c6f0a72170737ae",
     "grade": false,
     "grade_id": "cell-8e13b45347e40bc6",
     "locked": true,
     "schema_version": 3,
     "solution": false,
     "task": false
    }
   },
   "outputs": [],
   "source": [
    "# helper functions\n",
    "def xor(x,y):\n",
    "    if type(x) == str:\n",
    "        return \"\".join([chr(ord(a) ^ ord(b)) for a,b in zip(x,y)])\n",
    "    elif type(x) == bytes:\n",
    "        return \"\".join([chr(a ^ b) for a,b in zip(x,y)]).encode('iso-8859-1')"
   ]
  },
  {
   "cell_type": "markdown",
   "id": "60cf8339-111e-4ff6-9fdc-af34362b0d93",
   "metadata": {
    "deletable": false,
    "editable": false,
    "nbgrader": {
     "cell_type": "markdown",
     "checksum": "4641e41f43e7dea419ac34f70caaa8ee",
     "grade": false,
     "grade_id": "cell-cabea0cf3baae465",
     "locked": true,
     "schema_version": 3,
     "solution": false,
     "task": false
    }
   },
   "source": [
    "### <font color='blue'> (a) [10 extra credit points] Implement the TR function of babySalsa core as described above. </font>"
   ]
  },
  {
   "cell_type": "code",
   "execution_count": 17,
   "id": "79dac2b4-41cb-43e4-885b-c9367164e0b3",
   "metadata": {
    "deletable": false,
    "nbgrader": {
     "cell_type": "code",
     "checksum": "b484fcb462277468724e51fa7ca1e8af",
     "grade": false,
     "grade_id": "cell-a2d84ed5b476742c",
     "locked": false,
     "schema_version": 3,
     "solution": true,
     "task": false
    }
   },
   "outputs": [],
   "source": [
    "def rotate(val:int, pos:int) -> int:\n",
    "    \"\"\" Rotate (left) val by pos bits \"\"\"\n",
    "    rotated=0\n",
    "    # YOUR CODE HERE\n",
    "    rotated=((val<<pos)& 0xFFFF) | (val >> (16-pos)) # rotating by pos bits\n",
    "    #raise NotImplementedError()\n",
    "    return rotated\n",
    "    \n",
    "def TR(y0:int, y1:int, y2:int) -> (int, int, int):\n",
    "    \"\"\" Implement the TR function \"\"\"\n",
    "    z0=0\n",
    "    z1=0\n",
    "    z2=0\n",
    "    # YOUR CODE HERE\n",
    "    z1=y1^rotate((y0+y2)%0x10000,5) # z1 equation\n",
    "    z2=y2^rotate((z1+y0)%0x10000,7) # z2 equation\n",
    "    z0=y0^rotate((z2+z1)%0x10000,11) # z0 equation\n",
    "    #raise NotImplementedError()\n",
    "    return z0, z1, z2\n"
   ]
  },
  {
   "cell_type": "code",
   "execution_count": 18,
   "id": "c66cffe7-45e1-4c6f-999c-b5c660b0db0a",
   "metadata": {
    "deletable": false,
    "nbgrader": {
     "cell_type": "code",
     "checksum": "79539346d1dd9dacadd375fdd30e08ff",
     "grade": false,
     "grade_id": "cell-fd2c3a6e7337ce3c",
     "locked": false,
     "schema_version": 3,
     "solution": true,
     "task": false
    }
   },
   "outputs": [],
   "source": [
    "# YOUR CODE HERE\n",
    "#raise NotImplementedError()"
   ]
  },
  {
   "cell_type": "code",
   "execution_count": 19,
   "id": "51c417a7-7585-4be6-8504-39a22bfa4f11",
   "metadata": {
    "deletable": false,
    "editable": false,
    "nbgrader": {
     "cell_type": "code",
     "checksum": "da419abd105b5e248ae8f10f1722f4bb",
     "grade": true,
     "grade_id": "cell-e5d4a1dafc2a0376",
     "locked": true,
     "points": 2,
     "schema_version": 3,
     "solution": false,
     "task": false
    }
   },
   "outputs": [],
   "source": [
    "# EMPTY CELL FOR GRADING - PLEASE DO NOT EDIT"
   ]
  },
  {
   "cell_type": "code",
   "execution_count": 20,
   "id": "25a45291-7a44-4c63-a597-ecbce83bf275",
   "metadata": {
    "deletable": false,
    "editable": false,
    "nbgrader": {
     "cell_type": "code",
     "checksum": "0312d3616e54c85669584e94a43e15a2",
     "grade": true,
     "grade_id": "cell-12257ded5ad4cc50",
     "locked": true,
     "points": 5,
     "schema_version": 3,
     "solution": false,
     "task": false
    }
   },
   "outputs": [],
   "source": [
    "assert TR(8, 16, 10) == (55674, 592, 11275)\n",
    "assert TR(1, 2, 3) == (10769, 130, 16771)"
   ]
  },
  {
   "cell_type": "code",
   "execution_count": 21,
   "id": "68a513f3-c061-4e33-a71a-fc43e0fa9406",
   "metadata": {
    "deletable": false,
    "editable": false,
    "nbgrader": {
     "cell_type": "code",
     "checksum": "92c1e934877d5b32dc995d1eebe61d87",
     "grade": true,
     "grade_id": "cell-a65b2f1ebb4899c0",
     "locked": true,
     "points": 3,
     "schema_version": 3,
     "solution": false,
     "task": false
    }
   },
   "outputs": [],
   "source": [
    "# EMPTY CELL FOR GRADING - PLEASE DO NOT EDIT"
   ]
  },
  {
   "cell_type": "markdown",
   "id": "4353e336-2061-43b8-acae-91108e4ef522",
   "metadata": {
    "deletable": false,
    "editable": false,
    "nbgrader": {
     "cell_type": "markdown",
     "checksum": "1e6d00c3d7e314a904c7555a060eb075",
     "grade": false,
     "grade_id": "cell-d335d2ffa2773a53",
     "locked": true,
     "schema_version": 3,
     "solution": false,
     "task": false
    }
   },
   "source": [
    "### <font color='blue'> (b) [10 extra credit points] Implement the DR function of babySalsa core as described above, comprising one transformation of the state implemented using CR followed by one transformation of the state implemented using RR. </font>"
   ]
  },
  {
   "cell_type": "code",
   "execution_count": 22,
   "id": "83c9c22d-74d5-47c7-a226-14348f2b0a97",
   "metadata": {
    "deletable": false,
    "nbgrader": {
     "cell_type": "code",
     "checksum": "93b68e452896749f8e585f86ed053f91",
     "grade": false,
     "grade_id": "cell-2ebc63fe0eb1350d",
     "locked": false,
     "schema_version": 3,
     "solution": true,
     "task": false
    }
   },
   "outputs": [],
   "source": [
    "def init_state(k:int, n:int, ctr:int) -> [int, int]:\n",
    "    \"\"\" Implement the inialization function of babySalsa, using the key, nonce and block counter. \"\"\"\n",
    "    # YOUR CODE HERE\n",
    "    A=[[0,0,0],[0,0,0],[0,0,0]] # initialise 3x3 array\n",
    "    A[0][0],A[1][1],A[2][2]=25171,24940,29537 # ascii values for bSalsa\n",
    "    A[0][1],A[0][2]=(k>>16)&0xFFFF,k&0xFFFF #split key by most and lest significant byte\n",
    "    A[1][0],A[1][2]=(n>>16)&0xFFFF,n&0xFFFF#split nonce by most and lest significant byte\n",
    "    A[2][0],A[2][1]=(ctr>>16)&0xFFFF,ctr&0xFFFF#split counter by most and lest significant byte\n",
    "    return A"
   ]
  },
  {
   "cell_type": "code",
   "execution_count": 23,
   "id": "ef8baf32-b7e3-4c32-b88f-3d09086e6bb8",
   "metadata": {
    "deletable": false,
    "nbgrader": {
     "cell_type": "code",
     "checksum": "403afb4cdea31a4b52258adad537ca80",
     "grade": false,
     "grade_id": "cell-f459548509ec8974",
     "locked": false,
     "schema_version": 3,
     "solution": true,
     "task": false
    }
   },
   "outputs": [],
   "source": [
    "# YOUR CODE HERE\n",
    "#raise NotImplementedError()"
   ]
  },
  {
   "cell_type": "code",
   "execution_count": 24,
   "id": "e9f2b848-960b-456d-b1c2-5887fcee3db1",
   "metadata": {
    "deletable": false,
    "editable": false,
    "nbgrader": {
     "cell_type": "code",
     "checksum": "7fd7321a8bd1cc0d24a2a69f29d93302",
     "grade": true,
     "grade_id": "cell-aee5f16405d96886",
     "locked": true,
     "points": 2,
     "schema_version": 3,
     "solution": false,
     "task": false
    }
   },
   "outputs": [
    {
     "name": "stdout",
     "output_type": "stream",
     "text": [
      "[[25171, 21730, 61829], [1716, 24940, 6713], [0, 1, 29537]]\n"
     ]
    }
   ],
   "source": [
    "key = int(\"0x54e2f185\",0)\n",
    "nonce = int(\"0x06b41a39\",0)\n",
    "ctr = 1\n",
    "A_i = init_state(key, nonce, ctr)\n",
    "print(A_i)\n",
    "assert A_i == [[25171, 21730, 61829], [1716, 24940, 6713], [0, 1, 29537]]"
   ]
  },
  {
   "cell_type": "code",
   "execution_count": 27,
   "id": "7a674f8b-8d48-444a-b7a4-ad3629371e9f",
   "metadata": {
    "deletable": false,
    "nbgrader": {
     "cell_type": "code",
     "checksum": "a4efc0e968b79d508f616feb437c1dac",
     "grade": false,
     "grade_id": "cell-f198446f0d37fbb2",
     "locked": false,
     "schema_version": 3,
     "solution": true,
     "task": false
    }
   },
   "outputs": [],
   "source": [
    "def CR(A: [int, int]) -> [int, int]:\n",
    "    \"\"\" Implement the Column-Round function of babySalsa.\"\"\"\n",
    "    res = [[0, 0, 0], [0, 0, 0], [0, 0, 0]]\n",
    "    \n",
    "    # YOUR CODE HERE\n",
    "    res[0][0],res[1][0],res[2][0]=TR(A[0][0],A[1][0],A[2][0]) #leftmost column tranformation\n",
    "    res[0][1],res[1][1],res[2][1]=TR(A[1][1],A[2][1],A[0][1]) #middle coulumn transformation\n",
    "    res[0][2],res[1][2],res[2][2]=TR(A[2][2],A[0][2],A[1][2]) #rightmost column transformation\n",
    "    \n",
    "    #raise NotImplementedError()\n",
    "    return res\n"
   ]
  },
  {
   "cell_type": "code",
   "execution_count": 28,
   "id": "1534d9dc-2943-4578-b091-8e7a41ea17fe",
   "metadata": {
    "deletable": false,
    "editable": false,
    "nbgrader": {
     "cell_type": "code",
     "checksum": "203c117df5a490f919a58cd14c2fa3eb",
     "grade": true,
     "grade_id": "cell-a1a3596982df6bd0",
     "locked": true,
     "points": 2,
     "schema_version": 3,
     "solution": false,
     "task": false
    }
   },
   "outputs": [],
   "source": [
    "A = [[25171, 21730, 61829], [1716, 24940, 6713], [0, 1, 29537]]\n",
    "A_i = CR(A)\n",
    "assert A_i == [[7494, 5270, 49532], [19672, 51671, 17108], [38359, 62839, 226]]\n",
    "\n",
    "\n",
    "A = [[28271, 65278, 61829], [65204, 30561, 6713], [0, 0, 121]]\n",
    "A_i = CR(A)\n",
    "assert A_i == [[9938, 7755, 40212], [13145, 52206, 42950], [58448, 22879, 1517]]\n",
    "\n"
   ]
  },
  {
   "cell_type": "code",
   "execution_count": 31,
   "id": "ab2c2215-1cc4-4b83-80de-bbf0361ab971",
   "metadata": {
    "deletable": false,
    "nbgrader": {
     "cell_type": "code",
     "checksum": "fcbe197811b9acd151dd22e3ae41a30c",
     "grade": false,
     "grade_id": "cell-b0d22f0e81663308",
     "locked": false,
     "schema_version": 3,
     "solution": true,
     "task": false
    }
   },
   "outputs": [],
   "source": [
    "def RR(A: [int, int]) -> [int, int]:\n",
    "    \"\"\" Implement the Row-Round function of babySalsa.\"\"\"\n",
    "    res = [[0, 0, 0], [0, 0, 0], [0, 0, 0]]\n",
    "    \n",
    "    # YOUR CODE HERE\n",
    "    res[0][0],res[0][1],res[0][2]=TR(A[0][0],A[0][1],A[0][2]) # top row transformation\n",
    "    res[1][0],res[1][1],res[1][2]=TR(A[1][1],A[1][2],A[1][0]) # middle row transformation\n",
    "    res[2][0],res[2][1],res[2][2]=TR(A[2][2],A[2][0],A[2][1]) # bottom row transformation\n",
    "    \n",
    "    \n",
    "    return res"
   ]
  },
  {
   "cell_type": "code",
   "execution_count": 32,
   "id": "ecc297b1-21ae-45cf-8f85-5e56b6df0541",
   "metadata": {
    "deletable": false,
    "editable": false,
    "nbgrader": {
     "cell_type": "code",
     "checksum": "859af8df8cac2c6f93e53bd0bba81154",
     "grade": true,
     "grade_id": "cell-fd10741a7eafa782",
     "locked": true,
     "points": 3,
     "schema_version": 3,
     "solution": false,
     "task": false
    }
   },
   "outputs": [],
   "source": [
    "A = [[25171, 21730, 61829], [1716, 24940, 6713], [0, 1, 29537]]\n",
    "A_i = RR(A)\n",
    "assert A_i == [[49842, 12264, 60492], [40649, 7732, 54923], [37184, 27726, 55278]]\n",
    "\n",
    "A = [[28271, 65278, 61829], [65204, 30561, 6713], [0, 0, 121]]\n",
    "A_i = RR(A)\n",
    "assert A_i == [[21070, 117, 33714], [8632, 55447, 659], [16036, 3872, 52359]]\n"
   ]
  },
  {
   "cell_type": "code",
   "execution_count": 35,
   "id": "5abcbdef-aa3e-4c74-9eb3-9ee9a034a575",
   "metadata": {
    "deletable": false,
    "nbgrader": {
     "cell_type": "code",
     "checksum": "7705332089ef50747f42cd3ca065cdf4",
     "grade": false,
     "grade_id": "cell-a99e41f76f5acb72",
     "locked": false,
     "schema_version": 3,
     "solution": true,
     "task": false
    }
   },
   "outputs": [],
   "source": [
    "def DR(arr):\n",
    "    \"\"\" Implement the Double-Round function of babySalsa.\"\"\"\n",
    "    res = [[0, 0, 0], [0, 0, 0], [0, 0, 0]]\n",
    "    \n",
    "    # YOUR CODE HERE\n",
    "    col_round=CR(A) # apply column round\n",
    "    res=RR(col_round) #apply row round\n",
    "    #raise NotImplementedError()\n",
    "    return res"
   ]
  },
  {
   "cell_type": "code",
   "execution_count": 36,
   "id": "c2ee6d8e-8737-4a13-ac46-f2b75bb3cd88",
   "metadata": {
    "deletable": false,
    "editable": false,
    "nbgrader": {
     "cell_type": "code",
     "checksum": "60d62c803c30fd8daffc7a74709e8f41",
     "grade": true,
     "grade_id": "cell-a3525c9f04471e2c",
     "locked": true,
     "points": 3,
     "schema_version": 3,
     "solution": false,
     "task": false
    }
   },
   "outputs": [],
   "source": [
    "A = [[25171, 21730, 61829], [1716, 24940, 6713], [0, 1, 29537]]\n",
    "A_i = DR(A)\n",
    "assert A_i == [[43500, 52429, 51337], [15067, 38710, 51816], [2972, 24297, 4312]]\n",
    "\n",
    "A = [[28271, 65278, 61829], [65204, 30561, 6713], [0, 0, 121]]\n",
    "A_i = DR(A)\n",
    "assert A_i == [[14913, 25235, 12240], [42094, 20281, 41172], [35764, 3547, 48470]]\n"
   ]
  },
  {
   "cell_type": "markdown",
   "id": "3ff7a978-f6e9-4a59-bc5b-ecc1b7fb2312",
   "metadata": {
    "deletable": false,
    "editable": false,
    "nbgrader": {
     "cell_type": "markdown",
     "checksum": "184a615b37d3517f5bd516a6d04fd650",
     "grade": false,
     "grade_id": "ce-a3525c9f04471e2c",
     "locked": true,
     "schema_version": 3,
     "solution": false,
     "task": false
    }
   },
   "source": [
    "### <font color='blue'> (c) [15 extra credit points] Implement the encryption function of the babySalsa stream cipher for plaintexts of arbitrary bitsize. Clearly describe what are the inputs to the cipher, and what are the additional operations required in addition to the transformations using the core. Demonstrate correct operation by encrypting the message \"Stream ciphers generate pseudorandom bits from a key and a nonce and encrypt the plaintext by XORing it with these pseudorandom bits, similar to the one time pad\".</font>"
   ]
  },
  {
   "cell_type": "code",
   "execution_count": null,
   "id": "5f81c96d-0774-4caa-abc0-8a05b3b75314",
   "metadata": {
    "deletable": false,
    "nbgrader": {
     "cell_type": "code",
     "checksum": "7d32ae147673d16fc92b5a51a2f70d3e",
     "grade": false,
     "grade_id": "cell-e9e20136ca7a69bc",
     "locked": false,
     "schema_version": 3,
     "solution": true,
     "task": false
    }
   },
   "outputs": [],
   "source": [
    "def babySalsa_encrypt(ptxt: bytes, key: int, nonce: int, ctr: int) -> bytes:\n",
    "    \"\"\" Implement the encryption function of the babySalsa stream cipher for plaintexts of arbitrary bitsize. \"\"\"\n",
    "    ctxt = b''\n",
    "    \n",
    "    # YOUR CODE HERE\n",
    "    raise NotImplementedError()\n",
    "    return ctxt"
   ]
  },
  {
   "cell_type": "code",
   "execution_count": null,
   "id": "57de8231-1b8b-494d-a84a-71373cb30db0",
   "metadata": {
    "deletable": false,
    "nbgrader": {
     "cell_type": "code",
     "checksum": "838edd13d9689a7045c00febefb5be62",
     "grade": false,
     "grade_id": "cell-ed55b3195f12f18a",
     "locked": false,
     "schema_version": 3,
     "solution": true,
     "task": false
    }
   },
   "outputs": [],
   "source": [
    "# YOUR CODE HERE\n",
    "raise NotImplementedError()"
   ]
  },
  {
   "cell_type": "code",
   "execution_count": null,
   "id": "dedbeb36-b3c6-4458-8018-6d7b80e1b8a4",
   "metadata": {
    "deletable": false,
    "editable": false,
    "nbgrader": {
     "cell_type": "code",
     "checksum": "e37b6575b7c58c1ed1b592c9839bd0d9",
     "grade": true,
     "grade_id": "cell-08a5a199dae652c8",
     "locked": true,
     "points": 15,
     "schema_version": 3,
     "solution": false,
     "task": false
    }
   },
   "outputs": [],
   "source": [
    "key = int(\"0x54e2f185\",0)\n",
    "nonce = int(\"0x06b41a39\",0)\n",
    "ctr = 1\n",
    "ptxt = b'HelloHelloHelloHi!'\n",
    "ctxt = babySalsa_encrypt(ptxt, key, nonce, ctr)\n",
    "\n",
    "assert ctxt == b'\\x17b,D#u\\x87n\\xed\\xf2\\x11h\\xf8\\xb8\\xd2w\\xa6\\x1f'\n",
    "\n",
    "key = int(\"0x54e2f185\",0)\n",
    "nonce = int(\"0x06b41a39\",0)\n",
    "ctr = 1\n",
    "ptxt = b'Stream ciphers generate pseudorandom bits from a key and a nonce and encrypt the plaintext by XORing it with these pseudorandom bits, similar to the one time pad'\n",
    "ctxt = babySalsa_encrypt(ptxt, key, nonce, ctr)\n",
    "\n",
    "assert ctxt == b'\\x0cs2M-P\\xc2a\\xe8\\xed1h\\xe6\\xa7\\x9dX\\xaaP\\xc7\\x8f\\xa8\\xf1Uq\\xa7\\x15,\\xd1\\x97\\x89\\x84\\r\\'\\xc6\\xadR\\xfe{Rkf\\xf4\\xc4\\x08\\xbf\\xe6\\x95 <\\xd8\\x1ca\\xb0,\\x80\\xd9a\\xda\\x15e\\x8e\\xd3\\x96jA\\x0f\\x145z\\x06\\xe4k\\xecou$\\xb9\\xc4\\xc5\\xfd\\xe77\\x80\\xd7L\\xf2\\x8b1\\xddpLO\\x13\\xd6(\\x08\\xbc\\x85V\\x93\\xef\\xfd\\x8c\\xc6DO\\x90V\\xdfB`\\x0f\\xa4\\xca(\\xba\\x8d\"I\\x96\\x88\\x98\\x97\\xd0\\x85\\x1cIM5\\xfa\\x9c\\x11\\x15\\x03l\\xcd\\x17n\\x10\\xd9\\xbc/\\xbe\\xcc\\xf3\\x9bw9\\xb1\\xf8q4\\xf3/&tj\\x8e\\x11 M'"
   ]
  }
 ],
 "metadata": {
  "kernelspec": {
   "display_name": "Python 3 (ipykernel)",
   "language": "python",
   "name": "python3"
  },
  "language_info": {
   "codemirror_mode": {
    "name": "ipython",
    "version": 3
   },
   "file_extension": ".py",
   "mimetype": "text/x-python",
   "name": "python",
   "nbconvert_exporter": "python",
   "pygments_lexer": "ipython3",
   "version": "3.9.13"
  }
 },
 "nbformat": 4,
 "nbformat_minor": 5
}
