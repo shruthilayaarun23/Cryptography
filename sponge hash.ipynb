{
 "cells": [
  {
   "cell_type": "markdown",
   "id": "34085322",
   "metadata": {},
   "source": [
    "**Show all your work for full credit. Each source code you submit should include detailed comments and instructions on how to run it in order to confirm that it works as expected. If the program that does not run or throws runtime errors, it cannot be graded. You can refer to the programming guidelines from the TAs here: https://tinyurl.com/CPEG-472-672-Programming-Guide/**\n",
    "\n",
    "**This is an individual assignment and each student should work on their own. Ensure you don't share any code online or with others (note, using Replit, GitHub and similar online platforms can make your code accessible to others).**\n",
    "\n",
    "**To submit the assignment, you need to use Jupyter Notebook with the provided cell blocks and follow the naming conventions and instructions posted here: https://tinyurl.com/CPEG-472-672-Programming-Guide/**"
   ]
  },
  {
   "cell_type": "markdown",
   "id": "c502543c",
   "metadata": {},
   "source": [
    "Before you turn this problem in, make sure everything runs as expected. First, **restart the kernel** (in the menubar, select Kernel $\\rightarrow$ Restart) and then **run all cells** (in the menubar, select Cell $\\rightarrow$ Run All).\n",
    "\n",
    "Make sure you fill in any place that says `YOUR CODE HERE` or \"YOUR ANSWER HERE\", as well as your name and section below:"
   ]
  },
  {
   "cell_type": "code",
   "execution_count": null,
   "id": "879e53ca",
   "metadata": {},
   "outputs": [],
   "source": [
    "NAME = \"Shruthilaya Arun\"\n",
    "#SECTION = \"472\"\n",
    "SECTION = \"672\""
   ]
  },
  {
   "cell_type": "markdown",
   "id": "8dc3b33a",
   "metadata": {},
   "source": [
    "---"
   ]
  },
  {
   "cell_type": "markdown",
   "id": "a19e267e-efe3-4e0d-a794-e2444aeb877f",
   "metadata": {
    "deletable": false,
    "editable": false,
    "nbgrader": {
     "cell_type": "markdown",
     "checksum": "cb85d340e56c9a09c99e7a0d7cff6068",
     "grade": false,
     "grade_id": "cell-b161c6f59d8a2c94",
     "locked": true,
     "schema_version": 3,
     "solution": false,
     "task": false
    }
   },
   "source": [
    "## <font color='blue'> Q2 [20 points total] </font>"
   ]
  },
  {
   "cell_type": "markdown",
   "id": "70ded52f-2e8a-41f5-a28e-fe9decef0b92",
   "metadata": {
    "deletable": false,
    "editable": false,
    "nbgrader": {
     "cell_type": "markdown",
     "checksum": "770c0fc335a6f16ab05000fc5f1a4aca",
     "grade": false,
     "grade_id": "cell-a0a2c84091e5ed19",
     "locked": true,
     "schema_version": 3,
     "solution": false,
     "task": false
    }
   },
   "source": [
    "### <font color='blue'> Implement a sponge hash function H with a 256 bit output that is based on AES-128 with a fixed key input as the permutation P. Assume c=112 most significant bits of the internal state are not modified by message blocks and H0=0xFFFF...FFFF is the initial input. Use proper padding for incomplete input blocks. Showcase your program by hashing the message \"The Sponge construction is simpler than the Merkle-Damgard construction\"."
   ]
  },
  {
   "cell_type": "code",
   "execution_count": null,
   "id": "10145ffa-560d-4f44-9ba0-d7edebf301fa",
   "metadata": {
    "deletable": false,
    "editable": false,
    "nbgrader": {
     "cell_type": "code",
     "checksum": "64f05c99111e0ccdae8db9f3658453f2",
     "grade": false,
     "grade_id": "cell-bdbaae52938fdad7",
     "locked": true,
     "schema_version": 3,
     "solution": false,
     "task": false
    }
   },
   "outputs": [],
   "source": [
    "from Crypto.Cipher import AES"
   ]
  },
  {
   "cell_type": "code",
   "execution_count": 3,
   "id": "92564c2c",
   "metadata": {},
   "outputs": [],
   "source": [
    "from Cryptodome.Cipher import AES\n"
   ]
  },
  {
   "cell_type": "code",
   "execution_count": 4,
   "id": "94d6c260-b577-488b-80b8-f95e6e00d103",
   "metadata": {
    "deletable": false,
    "editable": false,
    "nbgrader": {
     "cell_type": "code",
     "checksum": "13f9dd05878933284762033bc04e329a",
     "grade": false,
     "grade_id": "cell-6700827945b1d831",
     "locked": true,
     "schema_version": 3,
     "solution": false,
     "task": false
    }
   },
   "outputs": [],
   "source": [
    "# you can use this function to xor two bytes, or two strings.\n",
    "def xor(x,y):\n",
    "    if type(x) == type(y) == str:\n",
    "        return \"\".join([chr(ord(a) ^ ord(b)) for a,b in zip(x,y)])\n",
    "    elif type(x) == type(y) == bytes:\n",
    "        return \"\".join([chr(a ^ b) for a,b in zip(x,y)]).encode('iso-8859-1')\n",
    "    else:\n",
    "        print(\"Error: type mismatch\")"
   ]
  },
  {
   "cell_type": "code",
   "execution_count": 5,
   "id": "cd4402d3-b791-44c8-9b7d-3deb998603db",
   "metadata": {
    "deletable": false,
    "editable": false,
    "nbgrader": {
     "cell_type": "code",
     "checksum": "7526d656daaf095c9cc5825349e7fb76",
     "grade": false,
     "grade_id": "cell-451f9e8ed5c282b0",
     "locked": true,
     "schema_version": 3,
     "solution": false,
     "task": false
    }
   },
   "outputs": [],
   "source": [
    "BLOCK_SIZE = 16\n",
    "SPONGE_C_BYTES = 112//8"
   ]
  },
  {
   "cell_type": "code",
   "execution_count": 39,
   "id": "12b17e3a-8420-451c-bfae-8095b3653de2",
   "metadata": {
    "deletable": false,
    "nbgrader": {
     "cell_type": "code",
     "checksum": "575cb6a229f022096f5cede86c3af08f",
     "grade": false,
     "grade_id": "cell-cfaea2b2b19cb64a",
     "locked": false,
     "schema_version": 3,
     "solution": true,
     "task": false
    }
   },
   "outputs": [],
   "source": [
    "# 5 points\n",
    "def sponge_digest(cipher, state: bytes, message: bytes) -> bytes:\n",
    "    \"\"\" Implement the digest part of the hash function. The first\n",
    "    112 bits of state should no be modified by message blocks. return\n",
    "    the updated state in bytes format.\n",
    "    \"\"\"\n",
    "    # YOUR CODE HERE\n",
    "    r=BLOCK_SIZE*8-112 #rate \n",
    "    r=r//8 # convert to bytes\n",
    "    for i in range(0,len(message),r):\n",
    "        message_block=message[i:i+r] # message block\n",
    "        if len(message_block)<r:\n",
    "            pad_len=(r-len(message_block))*8 # get padding length\n",
    "            pad='0'*(pad_len) \n",
    "            pad=int('1'+pad[1:],2) # add padding\n",
    "            message_block += pad.to_bytes(pad_len//8,'big') # add to message block\n",
    "        state=state[:-r]+xor(state[-r:],message_block) # update state\n",
    "        state=cipher.encrypt(state) #encrypt state\n",
    "    return state[-BLOCK_SIZE:]\n",
    "\n",
    "# 5 points\n",
    "def sponge_squeeze(cipher, state: bytes) -> bytes:\n",
    "    \"\"\" Implement the squeeze part of the hash function \"\"\"\n",
    "    output = b\"\"\n",
    "    # YOUR CODE HERE\n",
    "    r=BLOCK_SIZE*8-112\n",
    "    r=r//8\n",
    "    output += state[:r]\n",
    "    #encrypt state \n",
    "    while len(output) < BLOCK_SIZE*2:\n",
    "        state=cipher.encrypt(state)\n",
    "        output += state[:r]\n",
    "    \n",
    "    return output\n",
    "\n",
    "# 10 points\n",
    "def sponge_hash(key: bytes, message: bytes) -> str:\n",
    "    \"\"\" The sponge based hash function. The output should\n",
    "    be in hex string format.\n",
    "    \"\"\"\n",
    "\n",
    "    ouptut = b\"\"\n",
    "    # YOUR CODE HERE\n",
    "    state=b'ff'*BLOCK_SIZE # initialise state\n",
    "    cipher=AES.new(key,AES.MODE_ECB)\n",
    "    state=sponge_digest(cipher,state,message) # absorb state\n",
    "    output=sponge_squeeze(cipher,state) # squeeze state\n",
    "    \n",
    "    \n",
    "    return output.hex()"
   ]
  },
  {
   "cell_type": "code",
   "execution_count": 40,
   "id": "ddeac047-39d8-42c5-a7c5-0dc282cb5860",
   "metadata": {
    "deletable": false,
    "editable": false,
    "nbgrader": {
     "cell_type": "code",
     "checksum": "51f5c7e8e52e12ca5f7e3cecd0403585",
     "grade": true,
     "grade_id": "cell-df718fc5a1e10166",
     "locked": true,
     "points": 5,
     "schema_version": 3,
     "solution": false,
     "task": false
    }
   },
   "outputs": [],
   "source": [
    "state = b\"ff\" * BLOCK_SIZE\n",
    "key = b\"a5\" * 16\n",
    "cipher = AES.new(key, AES.MODE_ECB)\n",
    "state = sponge_digest(cipher, state, b\"This is a test message\")\n",
    "assert type(state) == bytes\n",
    "assert state.hex() == \"6aa4086babb6e210e5c51a06a318fe62\""
   ]
  },
  {
   "cell_type": "code",
   "execution_count": 41,
   "id": "eeca380a-92b4-47fb-982d-193c340f0d62",
   "metadata": {
    "deletable": false,
    "editable": false,
    "nbgrader": {
     "cell_type": "code",
     "checksum": "e7524b801360d55fa5c9421a48e4f845",
     "grade": true,
     "grade_id": "cell-00ba6942c4cf407e",
     "locked": true,
     "points": 5,
     "schema_version": 3,
     "solution": false,
     "task": false
    }
   },
   "outputs": [],
   "source": [
    "state = b\"ff\" * BLOCK_SIZE\n",
    "key = b\"a5\" * 16\n",
    "cipher = AES.new(key, AES.MODE_ECB)\n",
    "state = sponge_digest(cipher, state, b\"This is a test message\")\n",
    "output = sponge_squeeze(cipher, state)\n",
    "assert type(output) == bytes\n",
    "assert output.hex() == \"6aa4b33cce01b32b11460b444410e3765e9e80785b380786b7321f62c8ced76b\""
   ]
  },
  {
   "cell_type": "code",
   "execution_count": 42,
   "id": "00c2e1d1-400d-4829-8fa6-0f83569b2564",
   "metadata": {
    "deletable": false,
    "editable": false,
    "nbgrader": {
     "cell_type": "code",
     "checksum": "94a66734b95a1948490115969233724b",
     "grade": true,
     "grade_id": "cell-e7d8dd89d4e3fc29",
     "locked": true,
     "points": 10,
     "schema_version": 3,
     "solution": false,
     "task": false
    }
   },
   "outputs": [],
   "source": [
    "msg = b\"The Sponge construction is simpler than the Merkle-Damgard construction\"\n",
    "key = b\"a5\" * 16\n",
    "hashval = sponge_hash(key, msg)\n",
    "assert hashval == \"83d4e1f3efff639d7113d880e8745ee18c5be5b5b68edcbea587a351e1752b09\""
   ]
  },
  {
   "cell_type": "code",
   "execution_count": null,
   "id": "82199b08",
   "metadata": {},
   "outputs": [],
   "source": []
  }
 ],
 "metadata": {
  "kernelspec": {
   "display_name": "Python 3 (ipykernel)",
   "language": "python",
   "name": "python3"
  },
  "language_info": {
   "codemirror_mode": {
    "name": "ipython",
    "version": 3
   },
   "file_extension": ".py",
   "mimetype": "text/x-python",
   "name": "python",
   "nbconvert_exporter": "python",
   "pygments_lexer": "ipython3",
   "version": "3.9.13"
  }
 },
 "nbformat": 4,
 "nbformat_minor": 5
}
