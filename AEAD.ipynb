{
 "cells": [
  {
   "cell_type": "markdown",
   "id": "60e22819",
   "metadata": {},
   "source": [
    "**Show all your work for full credit. Each source code you submit should include detailed comments and instructions on how to run it in order to confirm that it works as expected. If the program that does not run or throws runtime errors, it cannot be graded. You can refer to the programming guidelines from the TAs here: https://tinyurl.com/CPEG-472-672-Programming-Guide/**\n",
    "\n",
    "**This is an individual assignment and each student should work on their own. Ensure you don't share any code online or with others (note, using Replit, GitHub and similar online platforms can make your code accessible to others).**\n",
    "\n",
    "**To submit the assignment, you need to use Jupyter Notebook with the provided cell blocks and follow the naming conventions and instructions posted here: https://tinyurl.com/CPEG-472-672-Programming-Guide/**"
   ]
  },
  {
   "cell_type": "markdown",
   "id": "4bf44687",
   "metadata": {},
   "source": [
    "Before you turn this problem in, make sure everything runs as expected. First, **restart the kernel** (in the menubar, select Kernel $\\rightarrow$ Restart) and then **run all cells** (in the menubar, select Cell $\\rightarrow$ Run All).\n",
    "\n",
    "Make sure you fill in any place that says `YOUR CODE HERE` or \"YOUR ANSWER HERE\", as well as your name and section below:\n",
    "\n",
    "<font color='red' size=\"4\">Import any additional libraries you need in the same code block that you use it.</font>"
   ]
  },
  {
   "cell_type": "code",
   "execution_count": null,
   "id": "dc575207",
   "metadata": {},
   "outputs": [],
   "source": [
    "NAME = \"Shruthilaya Arun\"\n",
    "#SECTION = \"472\"\n",
    "SECTION = \"672\""
   ]
  },
  {
   "cell_type": "markdown",
   "id": "3c2ad1c1",
   "metadata": {},
   "source": [
    "---"
   ]
  },
  {
   "cell_type": "markdown",
   "id": "4a985df4-bc5f-4b9e-b38a-386cc26d89dd",
   "metadata": {
    "deletable": false,
    "editable": false,
    "nbgrader": {
     "cell_type": "markdown",
     "checksum": "3ebb5aa0dfdc17ac2e3eb04882ccf849",
     "grade": false,
     "grade_id": "cell-65aa7d488dff876d",
     "locked": true,
     "schema_version": 3,
     "solution": false,
     "task": false
    }
   },
   "source": [
    "## Question 2 [50 points total - answer all parts] In this question you will implement a variant of the GCM-SIV cipher mode (see https://eprint.iacr.org/2015/102.pdf, especially page 8) using Simon64/128 as the block cipher, as well as a C-W MAC based on a PRP (use Simon64/128) and a poly-based UH (a 64-bit variant of GHASH that we will call BHASH64 for clarity). </font>"
   ]
  },
  {
   "cell_type": "code",
   "execution_count": null,
   "id": "787f32ec-4de6-40e8-9aa4-fa184d6d32d1",
   "metadata": {
    "deletable": false,
    "editable": false,
    "nbgrader": {
     "cell_type": "code",
     "checksum": "bdb169cafb847e304062509a6e9eae97",
     "grade": false,
     "grade_id": "cell-3ac52be831cccd98",
     "locked": true,
     "schema_version": 3,
     "solution": false,
     "task": false
    }
   },
   "outputs": [],
   "source": [
    "from Crypto.Random import get_random_bytes\n",
    "from simon import SimonCipher\n",
    "from Crypto.Util.number import bytes_to_long , long_to_bytes\n",
    "\n",
    "from numpy.polynomial import polynomial as Poly\n",
    "import numpy as np"
   ]
  },
  {
   "cell_type": "code",
   "execution_count": 61,
   "id": "74e8246c",
   "metadata": {},
   "outputs": [],
   "source": [
    "from Cryptodome.Random import get_random_bytes\n",
    "from simon import SimonCipher\n",
    "from Cryptodome.Util.number import bytes_to_long , long_to_bytes\n",
    "\n",
    "from numpy.polynomial import polynomial as Poly\n",
    "import numpy as np"
   ]
  },
  {
   "cell_type": "markdown",
   "id": "b1e854dc-2b18-4c91-8ba4-0b9945a7a017",
   "metadata": {
    "deletable": false,
    "editable": false,
    "nbgrader": {
     "cell_type": "markdown",
     "checksum": "ade727399c8ce5f7d53b2b88a89320bc",
     "grade": false,
     "grade_id": "cell-8d007e9eb5463655",
     "locked": true,
     "schema_version": 3,
     "solution": false,
     "task": false
    }
   },
   "source": [
    "## (a) [15 points] Implement Simon64/128-CTR(K1,N1,M) using a python crypto library in a secure way. Your implementation should support multiple plaintext blocks and also receive a nonce N1 and key K1 as inputs. Include decryption support."
   ]
  },
  {
   "cell_type": "markdown",
   "id": "696503e2-2e92-4101-9e74-2b44b8099e3c",
   "metadata": {
    "deletable": false,
    "editable": false,
    "nbgrader": {
     "cell_type": "markdown",
     "checksum": "5c1a218e3825a03e2397d2d182cd3485",
     "grade": false,
     "grade_id": "cell-c73e737029950cad",
     "locked": true,
     "schema_version": 3,
     "solution": false,
     "task": false
    }
   },
   "source": [
    "## What are the bitsizes of N1 and K1? Implement the correct sizes in code"
   ]
  },
  {
   "cell_type": "code",
   "execution_count": 83,
   "id": "cb052471",
   "metadata": {
    "deletable": false,
    "nbgrader": {
     "cell_type": "code",
     "checksum": "3cafea8ff9c7d201319d96237119553c",
     "grade": false,
     "grade_id": "cell-29cb77b321846ffd",
     "locked": false,
     "schema_version": 3,
     "solution": true,
     "task": false
    }
   },
   "outputs": [],
   "source": [
    "# 2 points\n",
    "def gen_nonce() -> bytes:\n",
    "    \"\"\"\n",
    "    generate nonce of correct size.\n",
    "    \"\"\"\n",
    "    nonce = b\"\"\n",
    "    # YOUR CODE HERE\n",
    "    nonce=get_random_bytes(8) # geneate nonce\n",
    "    return nonce\n",
    "\n",
    "# 2 points\n",
    "def gen_key() -> bytes:\n",
    "    \"\"\"\n",
    "    generate key of correct size.\n",
    "    \"\"\"\n",
    "    key = b\"\"\n",
    "    # YOUR CODE HERE \n",
    "    key=get_random_bytes(16) # generate key\n",
    "    return key"
   ]
  },
  {
   "cell_type": "code",
   "execution_count": 84,
   "id": "527dc2c7",
   "metadata": {
    "deletable": false,
    "editable": false,
    "nbgrader": {
     "cell_type": "code",
     "checksum": "000951062fdd43cf40c4fe1561ef16b8",
     "grade": true,
     "grade_id": "cell-5325bec788983ba3",
     "locked": true,
     "points": 2,
     "schema_version": 3,
     "solution": false,
     "task": false
    }
   },
   "outputs": [],
   "source": [
    "nonce = gen_nonce()\n",
    "assert type(nonce) == bytes\n",
    "\n",
    "# hidden tests"
   ]
  },
  {
   "cell_type": "code",
   "execution_count": 85,
   "id": "d2a761fa",
   "metadata": {
    "deletable": false,
    "editable": false,
    "nbgrader": {
     "cell_type": "code",
     "checksum": "c461d1a66520d837a101aa0c1b9a2a37",
     "grade": true,
     "grade_id": "cell-5e438c0c68ada189",
     "locked": true,
     "points": 2,
     "schema_version": 3,
     "solution": false,
     "task": false
    }
   },
   "outputs": [],
   "source": [
    "key = gen_key()\n",
    "assert type(key) == bytes\n",
    "\n",
    "# hidden tests"
   ]
  },
  {
   "cell_type": "code",
   "execution_count": 86,
   "id": "fe78322a-0a50-427b-bc10-bbedacb4e2b8",
   "metadata": {
    "deletable": false,
    "nbgrader": {
     "cell_type": "code",
     "checksum": "8300574b54aa3d6ef9be8e0b2681d2ed",
     "grade": false,
     "grade_id": "cell-034f081e6cd63bbb",
     "locked": false,
     "schema_version": 3,
     "solution": true,
     "task": false
    }
   },
   "outputs": [],
   "source": [
    "# 6 points\n",
    "def simon_encrypt(key: int, nonce: int, ptxt: bytes) -> bytes:\n",
    "    \"\"\"\n",
    "    Implement Simon64/128-CTR encryption. Initialize counter to 1.\n",
    "    Return ctxt.\n",
    "    Use long_to_bytes() and bytes_to_long() for bytes <-> int conversions\n",
    "    \"\"\"\n",
    "    ctxt = b\"\"\n",
    "    #nonce = b\"\"\n",
    "    # YOUR CODE HERE\n",
    "    cipher=SimonCipher(key, key_size=128, block_size=64, mode='CTR',init=nonce,counter=1) # simon 64/128 ctr mode\n",
    "    block_size=8 # block\n",
    "    for i in range(0, len(ptxt), block_size):\n",
    "        block=ptxt[i:i + block_size] # get block\n",
    "        ctxt+=long_to_bytes(cipher.encrypt(bytes_to_long(block)))\n",
    "    return ctxt\n",
    "# 5 points\n",
    "def simon_decrypt(key: int, nonce: int, ctxt: bytes) -> bytes:\n",
    "    \"\"\"\n",
    "    Implement Simon64/128-CTR decryption. Initialize counter to 1.\n",
    "    Return ptxt.\n",
    "    Use long_to_bytes() and bytes_to_long() for bytes <-> int conversions\n",
    "    \"\"\"\n",
    "    ptxt = b\"\"\n",
    "    # YOUR CODE HERE\n",
    "    cipher=SimonCipher(key,key_size=128,block_size=64,mode='CTR',init=nonce,counter=1) \n",
    "    block_size=8# block size\n",
    "    for i in range(0,len(ctxt),block_size):\n",
    "        block=ctxt[i:i+block_size] # get block\n",
    "        decrypted_block=long_to_bytes(cipher.decrypt(bytes_to_long(block)),block_size) # decrypt block and add to ptxt\n",
    "        #print(f\"Block {i // block_size + 1}: Counter = {cipher.counter}, Decrypted block = {decrypted_block}\")\n",
    "        ptxt+=decrypted_block\n",
    "    return ptxt\n"
   ]
  },
  {
   "cell_type": "code",
   "execution_count": 87,
   "id": "d7e86136",
   "metadata": {
    "deletable": false,
    "editable": false,
    "nbgrader": {
     "cell_type": "code",
     "checksum": "9303d838d6f2d9ba18ecc49895c2c15e",
     "grade": true,
     "grade_id": "cell-df4fcf3cd58d6c65",
     "locked": true,
     "points": 6,
     "schema_version": 3,
     "solution": false,
     "task": false
    }
   },
   "outputs": [],
   "source": [
    "ptxt = b\"I'm a good student that createsptxtsize of more than 16\"\n",
    "key = 333349676194713905035426349908913194778\n",
    "nonce = 17345587175309373759\n",
    "\n",
    "ctxt = simon_encrypt(key, nonce, ptxt)\n",
    "assert ctxt == b'*t\\xf2\\xb7\\r\\xb1\\x00fp\\x8a \\xa5 \\x0eh#q\\xf1\\x1e?[\\xc1\\x03\\x08\\x87nG\\xea\\xb2E\\xf7\\x80Y\\t`c\\x80\\xfa6\\x1b\\x1e\\x18\\xf8\\xd2\\xe8\\xcd\\xebR\\xb7y\\xeb\\xa8\\xef3\\x07/'"
   ]
  },
  {
   "cell_type": "code",
   "execution_count": 88,
   "id": "8202529d",
   "metadata": {
    "deletable": false,
    "editable": false,
    "nbgrader": {
     "cell_type": "code",
     "checksum": "99d847d25595fe93736f73822e841286",
     "grade": true,
     "grade_id": "cell-5cc25887827e0c99",
     "locked": true,
     "points": 5,
     "schema_version": 3,
     "solution": false,
     "task": false
    }
   },
   "outputs": [],
   "source": [
    "ctxt = b'\\xfb\\xa3\\rJD1\\x94r\\xf6;_\\x92\\xddM\\xab\\xfa%h\\xfcu'\n",
    "key = 333349676194713905035426349908913194778\n",
    "nonce = 17345587175309373759\n",
    "ptxt = simon_decrypt(key, nonce, ctxt)\n",
    "assert ptxt == b'\\x98\\xf0\\x92\\xdd(\\xa0\\xf3{\\xe9\\xd5_D\\x896\\xa7\\xbc\\x1f\\x85>K\\x16\\xc8\\x8b]'"
   ]
  },
  {
   "cell_type": "markdown",
   "id": "ce7e0850-a50d-4fa6-ada3-96f45b19d9f9",
   "metadata": {
    "deletable": false,
    "editable": false,
    "nbgrader": {
     "cell_type": "markdown",
     "checksum": "3bebafee8a335393ecb15efa5caf48bb",
     "grade": false,
     "grade_id": "cell-b134e30f9e5ca592",
     "locked": true,
     "schema_version": 3,
     "solution": false,
     "task": false
    }
   },
   "source": [
    "## (b) [15 points] Review the relevant code samples on Canvas and implement the universal hash BHASH64(s,A,M) that uses the irreducible polynomial P(X)=X^64+1 and s=Simon64/128(K2,0x00) (Single block ECB). Input A is the associated data blocks and input M is the plaintext blocks. After processing A and M, BHASH64 processes one additional 64-bit block so that the 32MSBs encode the number of blocks of A and the 32 LSBs encode the number of blocks of M."
   ]
  },
  {
   "cell_type": "code",
   "execution_count": 89,
   "id": "afa88843-9369-45c1-8a0d-82bb894cf245",
   "metadata": {
    "deletable": false,
    "editable": false,
    "nbgrader": {
     "cell_type": "code",
     "checksum": "90514a2607afbd9277d8c319710897e2",
     "grade": false,
     "grade_id": "cell-b716d6a65ec44ff6",
     "locked": true,
     "schema_version": 3,
     "solution": false,
     "task": false
    }
   },
   "outputs": [],
   "source": [
    "# Given helper functions from Canvas\n",
    "def modCoeffs(poly, n):\n",
    "    '''\n",
    "    Apply a \"mod n\" operation to each coefficient in a list\n",
    "    The polynomial is expressed as a list of coefficients\n",
    "    '''\n",
    "    for i in range(len(poly)):\n",
    "        poly[i] %= n\n",
    "    return poly\n",
    "\n",
    "def poly_xor (poly_1,poly_2):\n",
    "    return modCoeffs(poly_1+poly_2,2)\n",
    "\n",
    "def poly_mul(poly_1, poly_2, gf_degree, modulus):\n",
    "\n",
    "    # if len(poly_1)!=gf_degree:\n",
    "    #     poly_1+=(gf_degree-len(poly_1))*[0]\n",
    "    \n",
    "    # if len(poly_2)!=gf_degree:\n",
    "    #     poly_2+=(gf_degree-len(poly_2))*[0]\n",
    "\n",
    "\n",
    "    # perform regular polynomial multiplication\n",
    "    # cast to integer coefficients\n",
    "    poly_prod = Poly.polymul(poly_1, poly_2).astype(int)\n",
    "\n",
    "    # apply \"mod 2\" operation to each coefficient\n",
    "    poly_prod = modCoeffs(poly_prod, 2)\n",
    "\n",
    "    # perform division between polynomials\n",
    "    # use the corresponding irreducible polynomial \n",
    "    # as the divisor polynomial\n",
    "    # this returns a quotient polynomial and \n",
    "    # a remainder polynomial\n",
    "    temp, poly_mod = Poly.polydiv(poly_prod, modulus)\n",
    "\n",
    "    # apply \"mod 2\" operation to each coefficient\n",
    "    poly_mod = modCoeffs(poly_mod, 2).astype(int)\n",
    "\n",
    "\n",
    "    if len(poly_mod)!=gf_degree:\n",
    "        i = len(poly_mod)\n",
    "        while i!=gf_degree:\n",
    "            poly_mod = np.append(poly_mod, 0)\n",
    "            i+=1\n",
    "\n",
    "    return poly_mod\n",
    "\n",
    "def xor(x,y):\n",
    "    if type(x) == str:\n",
    "        return \"\".join([chr(ord(a) ^ ord(b)) for a,b in zip(x,y)])\n",
    "    elif type(x) == bytes:\n",
    "        return \"\".join([chr(a ^ b) for a,b in zip(x,y)]).encode('iso-8859-1')\n",
    "\n",
    "def pad(ptxt):\n",
    "    # we add padding so each block is 64bits.\n",
    "    if len(ptxt)% 8 !=0:\n",
    "        size = 8 - (len(ptxt)%8)\n",
    "        ptxt += size*b'\\x00'\n",
    "    return ptxt\n",
    "    \n",
    "def bytes_to_poly(block):\n",
    "    # Converts block into galois field polynomial array\n",
    "    # Each index is one bit of the 64 bit number\n",
    "    assert (len(block) ==  8)\n",
    "    binary_string = ''.join(format(byte, '08b') for byte in block)\n",
    "    poly = [int(bit) for bit in binary_string]\n",
    "    return poly\n",
    "\n",
    "def poly_to_bytes(poly):\n",
    "     binary_string = ''.join(map(str, poly))\n",
    "     return bytes(int(binary_string[i:i+8], 2) for i in range(0, len(binary_string), 8))\n",
    "    "
   ]
  },
  {
   "cell_type": "code",
   "execution_count": 90,
   "id": "2194703c",
   "metadata": {
    "deletable": false,
    "nbgrader": {
     "cell_type": "code",
     "checksum": "b77d50b757be81ec7a26c071717f557e",
     "grade": false,
     "grade_id": "cell-c7b98b0e1ae5175d",
     "locked": false,
     "schema_version": 3,
     "solution": true,
     "task": false
    }
   },
   "outputs": [],
   "source": [
    "# 3 points\n",
    "def generate_s(K2: int) -> int:\n",
    "    \"\"\"\n",
    "    Compute s = Simon64/128(K2,0x00) and return it.\n",
    "    Use the correct mode of operation for a single block.\n",
    "    \"\"\"\n",
    "    s = 0\n",
    "    # YOUR CODE HERE\n",
    "    cipher=SimonCipher(K2,key_size=128,block_size=64,mode='ECB') # simon cipher for single block\n",
    "    zero_block=b'\\x00' * 16 # zero block\n",
    "    encrypted_block=cipher.encrypt(bytes_to_long(zero_block)) # encrypt block\n",
    "    s=encrypted_block \n",
    "\n",
    "    return s\n",
    "\n",
    "# 2 points\n",
    "def length_encoding(lengthA: int, lengthM: int) -> bytes:\n",
    "    \"\"\"\n",
    "    The 32 MSBs (most significant bits) of length_block \n",
    "    encode the number of blocks of A, and the 32 LSBs (least significant bits)\n",
    "    of length_block encode the number of blocks of M.\n",
    "    Encode each as big endian.\n",
    "    \"\"\"\n",
    "    length_block = b\"\"\n",
    "    # YOUR CODE HERE\n",
    "    length_block=(lengthA << 32 | lengthM).to_bytes(8, byteorder='big') #replace A with block of M\n",
    "    return length_block\n",
    "\n",
    "# 10 points\n",
    "def bhash64(s: int, A: bytes, M: bytes) -> bytes:\n",
    "    \"\"\"\n",
    "    Implement BHASH64.\n",
    "    Use the poly helper functions provided above. return digest\n",
    "    in bytes format.\n",
    "    Hints: \n",
    "    convert s to poly using bytes_to_poly()\n",
    "    The initial value (X0) should be all 0s.\n",
    "    First hash a padded A, then hash a padded M. Use bytes_to_poly() on each block\n",
    "    Finally, hash a length encoding block using length_encoding()\n",
    "    Finally, convert the digest back to bytes using the poly_to_bytes function\n",
    "    \"\"\"\n",
    "    digest = b\"\"\n",
    "    # YOUR CODE HERE\n",
    "    gf_degree=64 \n",
    "    modulus=[1] + [0] * 63 + [1]  #p(x)=x^64+1\n",
    "    s_poly=bytes_to_poly(s.to_bytes(8, byteorder='big')) # s is converted polynomial\n",
    "    hash_poly=[0] * gf_degree # initialise hash to zero\n",
    "    A_pad=pad(A) # pad A\n",
    "    for i in range(0, len(A_pad), 8):\n",
    "        block=A_pad[i:i+8] # get block of A padded\n",
    "        block_poly=bytes_to_poly(block) #convert block to polynomial\n",
    "        hash_poly=poly_xor(hash_poly, block_poly) #xor hash polynomial with block polynomial\n",
    "        hash_poly=poly_mul(hash_poly, s_poly, gf_degree, modulus) #muliply hash polynomial with s and take modulas \n",
    "    M_pad=pad(M) # pad M\n",
    "    for i in range(0, len(M_pad), 8):\n",
    "        block=M_pad[i:i+8]\n",
    "        block_poly=bytes_to_poly(block) #convert block to polynomial\n",
    "        hash_poly=poly_xor(hash_poly, block_poly) #xor hash polynomial with block polynomial\n",
    "        hash_poly=poly_mul(hash_poly, s_poly, gf_degree, modulus) #muliply hash polynomial with s and take modulas \n",
    "    lengthA=len(A) # get length of A\n",
    "    lengthM=len(M) # get length of M\n",
    "    length_block=length_encoding(lengthA, lengthM) #encode lengths of A and M\n",
    "    length_block_poly=bytes_to_poly(length_block) # convert to polynomial\n",
    "    hash_poly=poly_xor(hash_poly, length_block_poly) # xor hash polynomial with length encoding polynomial\n",
    "    hash_poly=poly_mul(hash_poly, s_poly, gf_degree, modulus) # multiply with s and take modulas\n",
    "    digest=poly_to_bytes(hash_poly) #convert to bytes\n",
    "    return digest"
   ]
  },
  {
   "cell_type": "code",
   "execution_count": 91,
   "id": "9c49362f",
   "metadata": {
    "deletable": false,
    "editable": false,
    "nbgrader": {
     "cell_type": "code",
     "checksum": "3b31d811ddcbf8eb610a2beda121e351",
     "grade": true,
     "grade_id": "cell-4ec3f6691c0f8f4d",
     "locked": true,
     "points": 3,
     "schema_version": 3,
     "solution": false,
     "task": false
    }
   },
   "outputs": [],
   "source": [
    "K2 = 1023452506668115623771221871214768225\n",
    "s = generate_s(K2)\n",
    "assert s == 15063836755188045411"
   ]
  },
  {
   "cell_type": "code",
   "execution_count": 92,
   "id": "00cf8551-35c2-4e72-b903-bbdf365cb601",
   "metadata": {
    "deletable": false,
    "editable": false,
    "nbgrader": {
     "cell_type": "code",
     "checksum": "9fa91b58740c51fec58331203b79e116",
     "grade": true,
     "grade_id": "cell-cf392b0930dbbb84",
     "locked": true,
     "points": 2,
     "schema_version": 3,
     "solution": false,
     "task": false
    }
   },
   "outputs": [],
   "source": [
    "assert length_encoding(472, 672) == b'\\x00\\x00\\x01\\xd8\\x00\\x00\\x02\\xa0'"
   ]
  },
  {
   "cell_type": "code",
   "execution_count": 93,
   "id": "45a8b9db",
   "metadata": {
    "deletable": false,
    "editable": false,
    "nbgrader": {
     "cell_type": "code",
     "checksum": "d491aa5dbe141bc8956b10d0af031338",
     "grade": true,
     "grade_id": "cell-11b1091a10cbe6a9",
     "locked": true,
     "points": 10,
     "schema_version": 3,
     "solution": false,
     "task": false
    }
   },
   "outputs": [],
   "source": [
    "M = b\"I'm a good student that createsptxtsize of more than 16\"\n",
    "A = b\"extra data\"\n",
    "K2 = 1023452506668115623771221871214768225\n",
    "digest = bhash64(generate_s(K2), A, M)\n",
    "assert digest == b'\\x9b\\xfa\\xfc\\xb7\\x8bl6v'"
   ]
  },
  {
   "cell_type": "markdown",
   "id": "c0bdcac2-366f-461d-a1b1-d4f55a06be35",
   "metadata": {
    "deletable": false,
    "editable": false,
    "nbgrader": {
     "cell_type": "markdown",
     "checksum": "fb1428e96511b0d58ce69abcd6ea4e4a",
     "grade": false,
     "grade_id": "cell-e0446e39f3c6df06",
     "locked": true,
     "schema_version": 3,
     "solution": false,
     "task": false
    }
   },
   "source": [
    "## (c) [10 points] Implement the C-W MAC(K2,N,A,M) that generates tags T = Simon64/128-ECB(K2, N xor BHASH64(s,A,M)), where K2 is a key, N is a nonce, A is associated data blocks and M is plaintext blocks."
   ]
  },
  {
   "cell_type": "markdown",
   "id": "8133eaee",
   "metadata": {
    "deletable": false,
    "editable": false,
    "nbgrader": {
     "cell_type": "markdown",
     "checksum": "4073683c93a6a5d5b0ad98c18f25150f",
     "grade": false,
     "grade_id": "cell-5a27f183ee830292",
     "locked": true,
     "schema_version": 3,
     "solution": false,
     "task": false
    }
   },
   "source": [
    "## [2 points] Why did we choose to define T = Simon64/128(K2, N xor BHASH64(s,A,M) ) instead of T = BHASH64(s,A,M) xor Simon64/128(K2, N || 0x0000…00)? Why the former definition is better?"
   ]
  },
  {
   "cell_type": "markdown",
   "id": "5ab49847",
   "metadata": {
    "deletable": false,
    "nbgrader": {
     "cell_type": "markdown",
     "checksum": "f4a537f19a6d4108ccd44cb5e233d51a",
     "grade": true,
     "grade_id": "cell-cc628eeeb7cae88f",
     "locked": false,
     "points": 2,
     "schema_version": 3,
     "solution": true,
     "task": false
    }
   },
   "source": [
    "Xoring the nonce with the hash makes it harder to forge or predict the tag hence why we chose to define T = Simon64/128-ECB(K2, N xor BHASH64(s,A,M))"
   ]
  },
  {
   "cell_type": "code",
   "execution_count": 94,
   "id": "727c1fb4",
   "metadata": {
    "deletable": false,
    "nbgrader": {
     "cell_type": "code",
     "checksum": "e8707d400d1cb37f7f21d32a84b5ec6a",
     "grade": false,
     "grade_id": "cell-1f1ed4b1fe1c68bf",
     "locked": false,
     "schema_version": 3,
     "solution": true,
     "task": false
    }
   },
   "outputs": [],
   "source": [
    "# 8 points\n",
    "def CWMAC(K2: int, N: int, A: bytes, M: bytes) -> bytes:\n",
    "    \"\"\"\n",
    "    Implement the C-W MAC. Call the bhash64(s, A, M) function and use \n",
    "    the Simon cipher to generate the tag based on the question\n",
    "    description. Return tag in bytes.\n",
    "    Hints: Use bytes_to_long and long_to_bytes.\n",
    "    \"\"\"\n",
    "    tag = b\"\"\n",
    "    # YOUR CODE HERE\n",
    "    s=generate_s(K2) # generate s\n",
    "    bhash_result=bhash64(s, A, M) # compute bhash\n",
    "    nonce_bytes=long_to_bytes(N, 8)  #convert nonce to bytes\n",
    "    xor=bytes_to_long(bhash_result) ^ bytes_to_long(nonce_bytes) # xor bhash with nonce\n",
    "    cipher=SimonCipher(K2, key_size=128, block_size=64, mode='ECB') # initialise Simon cipher\n",
    "    tag=long_to_bytes(cipher.encrypt(xor), 8) #compute tag\n",
    "    \n",
    "    return tag"
   ]
  },
  {
   "cell_type": "code",
   "execution_count": 95,
   "id": "bcdb5d00",
   "metadata": {
    "deletable": false,
    "editable": false,
    "nbgrader": {
     "cell_type": "code",
     "checksum": "23566d0fc684042a4a45dcb8ebe12a59",
     "grade": true,
     "grade_id": "cell-f92a2b875e9866a2",
     "locked": true,
     "points": 8,
     "schema_version": 3,
     "solution": false,
     "task": false
    }
   },
   "outputs": [],
   "source": [
    "M = b\"I'm a good student that createsptxtsize of more than 16\"\n",
    "A = b\"extra data\"\n",
    "N = 4347369957267604693\n",
    "K2 = 92421660963770782211016436480228233283\n",
    "tag = CWMAC(K2, N, A, M)\n",
    "assert tag == b'\\xfeV\\xf11\\xd8\\xee\\xf3+'"
   ]
  },
  {
   "cell_type": "markdown",
   "id": "b2ca55e9-8320-45e6-b917-e6a3abbfcb64",
   "metadata": {
    "deletable": false,
    "editable": false,
    "nbgrader": {
     "cell_type": "markdown",
     "checksum": "2cde85b53240b511139443f3ef8e74d0",
     "grade": false,
     "grade_id": "cell-a1ab0737bcf316ab",
     "locked": true,
     "schema_version": 3,
     "solution": false,
     "task": false
    }
   },
   "source": [
    "## (d) [10 points] Implement the GCM-SIV mode variant for AEAD that combines the cipher from part (a) with the tag from part (c) ensuring correct SIV combination of the two primitives (i.e., as described in construction 3.1 of the paper cited above). Include decryption & tag verification support. Finally, state any necessary assumptions you made regarding the counters."
   ]
  },
  {
   "cell_type": "code",
   "execution_count": 96,
   "id": "0f8b9808",
   "metadata": {
    "deletable": false,
    "nbgrader": {
     "cell_type": "code",
     "checksum": "35f82c392622079f83faed24f207ea01",
     "grade": false,
     "grade_id": "cell-3a65516287022e48",
     "locked": false,
     "schema_version": 3,
     "solution": true,
     "task": false
    }
   },
   "outputs": [],
   "source": [
    "# 5 points\n",
    "def gcm_encrypt(K1: int, K2: int, N: int, A: bytes, M: bytes) -> (bytes,bytes):\n",
    "    \"\"\"\n",
    "    Implement the encryption function of GCM-SIV.\n",
    "    Use K1 to genrate ctxt C using simon_encrypt.\n",
    "    Use K2 to generate tag T using CWMAC function.\n",
    "    return pair of ctxt, tag (C,T) in bytes format.\n",
    "    \"\"\"\n",
    "    T = b\"\"\n",
    "    C = b\"\"\n",
    "    # YOUR CODE HERE\n",
    "    C=simon_encrypt(K1, N, M)  #ptxt is encrypted with Simon 64/128 CTR mode\n",
    "    T=CWMAC(K2, N, A, M) #generate tag\n",
    "    return (C, T)\n",
    "# 5 points\n",
    "def gcm_decrypt(K1: int, K2: int, N: int, A: bytes, C: bytes, T: bytes) -> (bytes,bool):\n",
    "    \"\"\"\n",
    "    Implement the decryption function of GCM-SIV. \n",
    "    Use K1 to generate tag T_prime using CWMAC function.\n",
    "    Use K2 to genrate ptxt M using simon_decrypt.\n",
    "    If T_prime equals to T, reutrn (M,True) if not return (b\"\",False).\n",
    "    \"\"\"\n",
    "    verified = True\n",
    "    M = b\"\"\n",
    "    \n",
    "    # YOUR CODE HERE\n",
    "    M = simon_decrypt(K1, N, C) # decrypt message\n",
    "    T_prime = CWMAC(K2, N, A, M) # compute T_prime\n",
    "    if T_prime != T:\n",
    "        return (b\"\", False)\n",
    "    \n",
    "    return (M,verified)"
   ]
  },
  {
   "cell_type": "code",
   "execution_count": 97,
   "id": "38bd733e",
   "metadata": {
    "deletable": false,
    "editable": false,
    "nbgrader": {
     "cell_type": "code",
     "checksum": "451e93b83ecd2bbfc78d5ff128e38111",
     "grade": true,
     "grade_id": "cell-252a4074467ccf5e",
     "locked": true,
     "points": 5,
     "schema_version": 3,
     "solution": false,
     "task": false
    }
   },
   "outputs": [],
   "source": [
    "M = b\"I'm a good student that createsptxtsize of more than 16\"\n",
    "A = b\"extra data\"\n",
    "N = 471552568800831418\n",
    "K1 = 272968999337452403437395976493262077421\n",
    "K2 = 98065785485843554162410036472004181817\n",
    "\n",
    "C , T = gcm_encrypt(K1, K2, N, A, M)\n",
    "assert C == b'\\xf8i\\x9e}@\\xe0\\\\A\\xcd\\xc5\\x81\\xf4K\\x05L\\xc2\\x07h&\\x9f\\xeab\\x9dqz\\xa9\\xd4q\\xefA\\x12\\xafg\\xd3\\x91\\xec\\x05>\\xbc\\xf2\\x11\\x90\\xd9W \\xd7\\xe4\\xca|\\x01]Zh\\xe1\\xf2\\x8b'\n",
    "assert T == b'Z&\\xe8 ,9i\\x1e'"
   ]
  },
  {
   "cell_type": "code",
   "execution_count": 98,
   "id": "ca0c0cee",
   "metadata": {
    "deletable": false,
    "editable": false,
    "nbgrader": {
     "cell_type": "code",
     "checksum": "7c0a1003c6c703139085b53c04639e02",
     "grade": true,
     "grade_id": "cell-f1b6677f834b3ddd",
     "locked": true,
     "points": 5,
     "schema_version": 3,
     "solution": false,
     "task": false
    }
   },
   "outputs": [
    {
     "ename": "AssertionError",
     "evalue": "",
     "output_type": "error",
     "traceback": [
      "\u001b[1;31m---------------------------------------------------------------------------\u001b[0m",
      "\u001b[1;31mAssertionError\u001b[0m                            Traceback (most recent call last)",
      "\u001b[1;32m~\\AppData\\Local\\Temp\\ipykernel_12396\\490713778.py\u001b[0m in \u001b[0;36m<module>\u001b[1;34m\u001b[0m\n\u001b[0;32m      6\u001b[0m \u001b[0mC\u001b[0m \u001b[1;33m,\u001b[0m \u001b[0mT\u001b[0m \u001b[1;33m=\u001b[0m \u001b[0mgcm_encrypt\u001b[0m\u001b[1;33m(\u001b[0m\u001b[0mK1\u001b[0m\u001b[1;33m,\u001b[0m \u001b[0mK2\u001b[0m\u001b[1;33m,\u001b[0m \u001b[0mN\u001b[0m\u001b[1;33m,\u001b[0m \u001b[0mA\u001b[0m\u001b[1;33m,\u001b[0m \u001b[0mM\u001b[0m\u001b[1;33m)\u001b[0m\u001b[1;33m\u001b[0m\u001b[1;33m\u001b[0m\u001b[0m\n\u001b[0;32m      7\u001b[0m \u001b[0mM_decrypt\u001b[0m \u001b[1;33m,\u001b[0m \u001b[0mverified\u001b[0m \u001b[1;33m=\u001b[0m \u001b[0mgcm_decrypt\u001b[0m\u001b[1;33m(\u001b[0m\u001b[0mK1\u001b[0m\u001b[1;33m,\u001b[0m \u001b[0mK2\u001b[0m\u001b[1;33m,\u001b[0m \u001b[0mN\u001b[0m\u001b[1;33m,\u001b[0m \u001b[0mA\u001b[0m\u001b[1;33m,\u001b[0m \u001b[0mC\u001b[0m\u001b[1;33m,\u001b[0m \u001b[0mT\u001b[0m\u001b[1;33m)\u001b[0m\u001b[1;33m\u001b[0m\u001b[1;33m\u001b[0m\u001b[0m\n\u001b[1;32m----> 8\u001b[1;33m \u001b[1;32massert\u001b[0m \u001b[0mM_decrypt\u001b[0m \u001b[1;33m==\u001b[0m \u001b[0mM\u001b[0m\u001b[1;33m\u001b[0m\u001b[1;33m\u001b[0m\u001b[0m\n\u001b[0m\u001b[0;32m      9\u001b[0m \u001b[1;32massert\u001b[0m \u001b[0mverified\u001b[0m \u001b[1;33m==\u001b[0m \u001b[1;32mTrue\u001b[0m\u001b[1;33m\u001b[0m\u001b[1;33m\u001b[0m\u001b[0m\n",
      "\u001b[1;31mAssertionError\u001b[0m: "
     ]
    }
   ],
   "source": [
    "M = b\"I'm a good student that createsptxtsize of more than 16\"\n",
    "A = b\"extra data\"\n",
    "N = 471552568800831418\n",
    "K1 = 272968999337452403437395976493262077421\n",
    "K2 = 98065785485843554162410036472004181817\n",
    "C , T = gcm_encrypt(K1, K2, N, A, M)\n",
    "M_decrypt , verified = gcm_decrypt(K1, K2, N, A, C, T)\n",
    "assert M_decrypt == M\n",
    "assert verified == True "
   ]
  },
  {
   "cell_type": "code",
   "execution_count": null,
   "id": "57d74eb2",
   "metadata": {},
   "outputs": [],
   "source": []
  },
  {
   "cell_type": "code",
   "execution_count": null,
   "id": "f92c2a42",
   "metadata": {},
   "outputs": [],
   "source": []
  }
 ],
 "metadata": {
  "kernelspec": {
   "display_name": "Python 3 (ipykernel)",
   "language": "python",
   "name": "python3"
  },
  "language_info": {
   "codemirror_mode": {
    "name": "ipython",
    "version": 3
   },
   "file_extension": ".py",
   "mimetype": "text/x-python",
   "name": "python",
   "nbconvert_exporter": "python",
   "pygments_lexer": "ipython3",
   "version": "3.9.13"
  }
 },
 "nbformat": 4,
 "nbformat_minor": 5
}
