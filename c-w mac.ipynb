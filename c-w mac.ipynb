{
 "cells": [
  {
   "cell_type": "markdown",
   "id": "4b95415e",
   "metadata": {},
   "source": [
    "**Show all your work for full credit. Each source code you submit should include detailed comments and instructions on how to run it in order to confirm that it works as expected. If the program that does not run or throws runtime errors, it cannot be graded. You can refer to the programming guidelines from the TAs here: https://tinyurl.com/CPEG-472-672-Programming-Guide/**\n",
    "\n",
    "**This is an individual assignment and each student should work on their own. Ensure you don't share any code online or with others (note, using Replit, GitHub and similar online platforms can make your code accessible to others).**\n",
    "\n",
    "**To submit the assignment, you need to use Jupyter Notebook with the provided cell blocks and follow the naming conventions and instructions posted here: https://tinyurl.com/CPEG-472-672-Programming-Guide/**"
   ]
  },
  {
   "cell_type": "markdown",
   "id": "a66a22ae",
   "metadata": {},
   "source": [
    "Before you turn this problem in, make sure everything runs as expected. First, **restart the kernel** (in the menubar, select Kernel $\\rightarrow$ Restart) and then **run all cells** (in the menubar, select Cell $\\rightarrow$ Run All).\n",
    "\n",
    "Make sure you fill in any place that says `YOUR CODE HERE` or \"YOUR ANSWER HERE\", as well as your name and section below:"
   ]
  },
  {
   "cell_type": "code",
   "execution_count": null,
   "id": "314a25a0",
   "metadata": {},
   "outputs": [],
   "source": [
    "NAME = \"Shruthilaya Arun\"\n",
    "#SECTION = \"472\"\n",
    "SECTION = \"672\""
   ]
  },
  {
   "cell_type": "markdown",
   "id": "aa8ab97d",
   "metadata": {},
   "source": [
    "---"
   ]
  },
  {
   "cell_type": "markdown",
   "id": "0a7a11cd-0238-49fa-a34b-58945a484369",
   "metadata": {
    "deletable": false,
    "editable": false,
    "nbgrader": {
     "cell_type": "markdown",
     "checksum": "a83b3b9103f55a9a02375ed708d8b7ed",
     "grade": false,
     "grade_id": "cell-5420a5112a74d607",
     "locked": true,
     "schema_version": 3,
     "solution": false,
     "task": false
    }
   },
   "source": [
    "## <font color='blue'> Q3 [15 points total] </font>"
   ]
  },
  {
   "cell_type": "markdown",
   "id": "89dfde3e-b358-49b3-ae60-862662b84f4f",
   "metadata": {
    "deletable": false,
    "editable": false,
    "nbgrader": {
     "cell_type": "markdown",
     "checksum": "7982662626ad75ff6c6675589fc04ede",
     "grade": false,
     "grade_id": "cell-d3332e29e4ce330d",
     "locked": true,
     "schema_version": 3,
     "solution": false,
     "task": false
    }
   },
   "source": [
    "### <font color='blue'> Implement a C-W MAC based on a block cipher B and a UH P based on a polynomial modulo the prime number (2^66)-5. Use XOR to combine B and P in the C-W construction. For B use the Speck cipher with a 64-bit block size and a 128-bit key size (example library implementation https://pypi.org/project/simonspeckciphers). For P, the n-th block of the message is multiplied with the n-th power of K; you may use Horner's rule to compute the polynomial iteratively and reduce to prime (2^66)-5 in each iteration to avoid operations over very large values. Showcase your program by computing the C-W MAC of message \"The Carter and Wegman MAC combines a universal hash with a PRF\"."
   ]
  },
  {
   "cell_type": "code",
   "execution_count": 1,
   "id": "e51f59f8-1346-48af-b31e-48d5fdb195fa",
   "metadata": {
    "deletable": false,
    "editable": false,
    "nbgrader": {
     "cell_type": "code",
     "checksum": "8f0561730b790ecb4284bc1086154236",
     "grade": false,
     "grade_id": "cell-ab4f8200cccfde34",
     "locked": true,
     "schema_version": 3,
     "solution": false,
     "task": false
    }
   },
   "outputs": [],
   "source": [
    "# !pip install simonspeckciphers\n",
    "from secrets import token_bytes\n",
    "from speck import SpeckCipher"
   ]
  },
  {
   "cell_type": "code",
   "execution_count": 2,
   "id": "eae5dfb1-e069-4ad5-b785-858bd86d52fa",
   "metadata": {
    "deletable": false,
    "editable": false,
    "nbgrader": {
     "cell_type": "code",
     "checksum": "eb0c326a2260a1320e6c8825cd548d2d",
     "grade": false,
     "grade_id": "cell-eb58f0cf716db6fe",
     "locked": true,
     "schema_version": 3,
     "solution": false,
     "task": false
    }
   },
   "outputs": [],
   "source": [
    "PRIME_MODULUS = (2 ** 66) - 5\n",
    "HASH_SIZE = (66-1)//8 + 1\n",
    "BLOCK_SIZE = 16"
   ]
  },
  {
   "cell_type": "code",
   "execution_count": 4,
   "id": "56fce0b7-954c-46ae-a0c3-5b42424b49aa",
   "metadata": {
    "deletable": false,
    "nbgrader": {
     "cell_type": "code",
     "checksum": "567725a85a42af565e056817334e1a90",
     "grade": false,
     "grade_id": "cell-745c5398619987f3",
     "locked": false,
     "schema_version": 3,
     "solution": true,
     "task": false
    }
   },
   "outputs": [],
   "source": [
    "# 2 points\n",
    "def bytes_to_int(b : bytes) -> int:\n",
    "    \"\"\" Use little endian when converting bytes to ints \"\"\"\n",
    "    assert len(b) <= BLOCK_SIZE\n",
    "    retval = 0\n",
    "    # YOUR CODE HERE\n",
    "    retval=int.from_bytes(b,'little') # bytes to int\n",
    "\n",
    "    return retval\n",
    "    \n",
    "# 2 points\n",
    "def bytes_to_int_blocks(msg: bytes) -> list[int]:\n",
    "    \"\"\" Convert the message into an array of intgers in the \"result\" variable \"\"\"\n",
    "    \"\"\" For padding, call the byte_to_int method on the remaining message data \"\"\"\n",
    "    num_blocks = len(msg) // 16 #blocks\n",
    "    remainder = len(msg)%BLOCK_SIZE # remaining block\n",
    "    result = [0]*(num_blocks+int(remainder!=0))\n",
    "    # YOUR CODE HERE\n",
    "    result = [bytes_to_int(msg[i * BLOCK_SIZE:(i + 1) * BLOCK_SIZE]) for i in range(num_blocks)] # convert to int\n",
    "    if remainder:\n",
    "        last_block=msg[num_blocks*BLOCK_SIZE:]\n",
    "        result.append(bytes_to_int(last_block))\n",
    "    \n",
    "    return result\n",
    "\n",
    "# 2 points\n",
    "def p_function(msg: list[int], num_blocks: int, key1: int) -> int:\n",
    "    \"\"\" Implement P such that the n-th block of the message is multiplied with the n-th power of K\"\"\"\n",
    "    \"\"\"    result = msg[3]*key ^ 3 + msg[2]*key ^ 2 + msg[1]*key ^ 1 + msg[0]*key ^ 0 MODULO (2**66-5) \"\"\"\n",
    "    result = 0\n",
    "    # YOUR CODE HERE\n",
    "    for i in range(num_blocks):\n",
    "        result=(result + (msg[i]*pow(key1,i,PRIME_MODULUS)))%PRIME_MODULUS \n",
    "\n",
    "    return result\n",
    "\n",
    "# Function shouldn't be modified. Use this function in cw_mac().\n",
    "# 4 points to test the correctness of previous functions.\n",
    "def universal_hash(k1: bytes, msg: bytes):\n",
    "    \"\"\" Universal hash implementation, using the P function \"\"\"\n",
    "    k1_int = bytes_to_int(k1)\n",
    "    msg_int_blocks = bytes_to_int_blocks(msg)\n",
    "    retval = p_function(msg_int_blocks, len(msg_int_blocks), k1_int)\n",
    "    return retval\n",
    "    \n",
    "# 5 points\n",
    "def cw_mac(k1: bytes, k2: bytes, nonce: bytes, message: bytes) -> str:\n",
    "    \"\"\" Using the universal_hash() function and the SpeckCipher library,\n",
    "    build the carter wegmans hash. Output should be in hex \n",
    "    string format.\"\"\"\n",
    "    result = 0\n",
    "    assert len(k1) == 16\n",
    "    assert len(k2) == 16\n",
    "    # YOUR CODE HERE\n",
    "    hash_value = universal_hash(k1, message) # hash\n",
    "    cipher = SpeckCipher(bytes_to_int(k2), 128, 64) # initiliase cipher\n",
    "    nonce_int = bytes_to_int(nonce) # nonce to int\n",
    "    encrypted_nonce = cipher.encrypt(nonce_int) # encrypt nonce\n",
    "    result = (hash_value + encrypted_nonce)%PRIME_MODULUS # combine with hash\n",
    "    return result.to_bytes(HASH_SIZE, 'little').hex()"
   ]
  },
  {
   "cell_type": "code",
   "execution_count": 5,
   "id": "2c38391f-5cf1-40aa-bd82-ed6db9b972eb",
   "metadata": {
    "deletable": false,
    "editable": false,
    "nbgrader": {
     "cell_type": "code",
     "checksum": "1844186de76ce2dd74ffb74f678268b3",
     "grade": true,
     "grade_id": "cell-d4fdac1276b1a2ee",
     "locked": true,
     "points": 1,
     "schema_version": 3,
     "solution": false,
     "task": false
    }
   },
   "outputs": [],
   "source": [
    "val_bytes = b\"CryptoWorld!!!!!\"\n",
    "val_int = bytes_to_int(val_bytes)\n",
    "assert val_int == 44036541601614566626012098531396514371"
   ]
  },
  {
   "cell_type": "code",
   "execution_count": 6,
   "id": "0323148f-e2a9-43f5-a934-098ffda6172d",
   "metadata": {
    "deletable": false,
    "editable": false,
    "nbgrader": {
     "cell_type": "code",
     "checksum": "775e08b5e946abd432504d0133795c4a",
     "grade": true,
     "grade_id": "cell-28dcb53fdbd59753",
     "locked": true,
     "points": 1,
     "schema_version": 3,
     "solution": false,
     "task": false
    }
   },
   "outputs": [],
   "source": [
    "val_bytes = b\"CryptoWorld!\"\n",
    "val_int = bytes_to_int(val_bytes)\n",
    "assert val_int == 10334410032597828317038080579"
   ]
  },
  {
   "cell_type": "code",
   "execution_count": 7,
   "id": "17689abb-bc8d-482e-b661-ff6bb15ca99e",
   "metadata": {
    "deletable": false,
    "editable": false,
    "nbgrader": {
     "cell_type": "code",
     "checksum": "b6692c4912fec124dcaf380ebf91f88a",
     "grade": true,
     "grade_id": "cell-5e63db7c10c861a8",
     "locked": true,
     "points": 1,
     "schema_version": 3,
     "solution": false,
     "task": false
    }
   },
   "outputs": [],
   "source": [
    "msg = b\"PitPendulumColumnatedRuinsDomino\"\n",
    "msg_int_arr = bytes_to_int_blocks(msg)\n",
    "assert len(msg_int_arr) == 2\n",
    "assert msg_int_arr[0] == 145495549588435461532754274102847760720\n",
    "assert msg_int_arr[1] == 148117598509878178566457796511998959982"
   ]
  },
  {
   "cell_type": "code",
   "execution_count": 8,
   "id": "bf8c5b11-96c9-4bef-8fea-9384dade6006",
   "metadata": {
    "deletable": false,
    "editable": false,
    "nbgrader": {
     "cell_type": "code",
     "checksum": "80055443c43a1c7a94fb5a8072229c58",
     "grade": true,
     "grade_id": "cell-39958e21671bdb26",
     "locked": true,
     "points": 1,
     "schema_version": 3,
     "solution": false,
     "task": false
    }
   },
   "outputs": [],
   "source": [
    "msg = b\"PitPendulumColumnatedRuinsDomino!\"\n",
    "msg_int_arr = bytes_to_int_blocks(msg)\n",
    "assert len(msg_int_arr) == 3\n",
    "assert msg_int_arr[0] == 145495549588435461532754274102847760720\n",
    "assert msg_int_arr[1] == 148117598509878178566457796511998959982\n",
    "assert msg_int_arr[2] == 33"
   ]
  },
  {
   "cell_type": "code",
   "execution_count": 9,
   "id": "a2b64df8-6d67-4219-90a6-b17cd7e7f871",
   "metadata": {
    "deletable": false,
    "editable": false,
    "nbgrader": {
     "cell_type": "code",
     "checksum": "b442188f28d79c805b87a9b964de26bb",
     "grade": true,
     "grade_id": "cell-9a6f7eb32643bcf2",
     "locked": true,
     "points": 2,
     "schema_version": 3,
     "solution": false,
     "task": false
    }
   },
   "outputs": [],
   "source": [
    "msg_int_blocks = [145495549588435461532754274102847760720, 148117598509878178566457796511998959982, 33]\n",
    "k1_int = 123456789\n",
    "pf_val = p_function(msg_int_blocks, len(msg_int_blocks), k1_int)\n",
    "assert pf_val == 58747883318317996999"
   ]
  },
  {
   "cell_type": "code",
   "execution_count": 10,
   "id": "11e63a43-da70-40c4-81ed-dbae727f02e2",
   "metadata": {
    "deletable": false,
    "editable": false,
    "nbgrader": {
     "cell_type": "code",
     "checksum": "c2e01f01fbf6bfb994918dca7d330a16",
     "grade": true,
     "grade_id": "cell-f918cb9986867c26",
     "locked": true,
     "points": 2,
     "schema_version": 3,
     "solution": false,
     "task": false
    }
   },
   "outputs": [],
   "source": [
    "key1 = b\"This is a secret\"\n",
    "val_bytes = b\"CryptoWorld!!!!!\"\n",
    "uh_val = universal_hash(key1, val_bytes)\n",
    "assert uh_val == 47900524084073003471"
   ]
  },
  {
   "cell_type": "code",
   "execution_count": 11,
   "id": "ea96fbc0-c481-4927-95c6-c19f155bc4bc",
   "metadata": {
    "deletable": false,
    "editable": false,
    "nbgrader": {
     "cell_type": "code",
     "checksum": "a79233a26d6b94d41d667516f9633bc5",
     "grade": true,
     "grade_id": "cell-d8ad8c62b42712f2",
     "locked": true,
     "points": 2,
     "schema_version": 3,
     "solution": false,
     "task": false
    }
   },
   "outputs": [],
   "source": [
    "key1 = b\"This is a secret\"\n",
    "val_bytes = b\"PitPendulumColumnatedRuinsDomino!\"\n",
    "uh_val = universal_hash(key1, val_bytes)\n",
    "assert uh_val == 63427684064651328874"
   ]
  },
  {
   "cell_type": "code",
   "execution_count": 12,
   "id": "712599e7-5899-449b-a862-682aebac9929",
   "metadata": {
    "deletable": false,
    "editable": false,
    "nbgrader": {
     "cell_type": "code",
     "checksum": "574ddec77dff07ea7b5312f7b1d58502",
     "grade": true,
     "grade_id": "cell-d3b81c1aad4c5f88",
     "locked": true,
     "points": 5,
     "schema_version": 3,
     "solution": false,
     "task": false
    }
   },
   "outputs": [],
   "source": [
    "key1 = b\"This is a secret\"\n",
    "key2 =  b\"Is this a secret\"\n",
    "msg = b\"The Carter and Wegman MAC combines a universal hash with a PRF\"\n",
    "nonce = b\"This is a nonce\"\n",
    "hashval = cw_mac(key1, key2, nonce, msg)\n",
    "assert hashval == \"b41d21b4c968c88f01\""
   ]
  }
 ],
 "metadata": {
  "kernelspec": {
   "display_name": "Python 3 (ipykernel)",
   "language": "python",
   "name": "python3"
  },
  "language_info": {
   "codemirror_mode": {
    "name": "ipython",
    "version": 3
   },
   "file_extension": ".py",
   "mimetype": "text/x-python",
   "name": "python",
   "nbconvert_exporter": "python",
   "pygments_lexer": "ipython3",
   "version": "3.9.13"
  }
 },
 "nbformat": 4,
 "nbformat_minor": 5
}
