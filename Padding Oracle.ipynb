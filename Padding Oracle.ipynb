{
 "cells": [
  {
   "cell_type": "markdown",
   "id": "c85c80b2",
   "metadata": {},
   "source": [
    "**Show all your work for full credit. Each source code you submit should include detailed comments and instructions on how to run it in order to confirm that it works as expected. If the program that does not run or throws runtime errors, it cannot be graded. You can refer to the programming guidelines from the TAs here: https://tinyurl.com/CPEG-472-672-Programming-Guide/**\n",
    "\n",
    "**This is an individual assignment and each student should work on their own. Ensure you don't share any code online or with others (note, using Replit, GitHub and similar online platforms can make your code accessible to others).**\n",
    "\n",
    "**To submit the assignment, you need to use Jupyter Notebook with the provided cell blocks and follow the naming conventions and instructions posted here: https://tinyurl.com/CPEG-472-672-Programming-Guide/**"
   ]
  },
  {
   "cell_type": "markdown",
   "id": "70d6aec1",
   "metadata": {},
   "source": [
    "Before you turn this problem in, make sure everything runs as expected. First, **restart the kernel** (in the menubar, select Kernel $\\rightarrow$ Restart) and then **run all cells** (in the menubar, select Cell $\\rightarrow$ Run All).\n",
    "\n",
    "Make sure you fill in any place that says `YOUR CODE HERE` or \"YOUR ANSWER HERE\", as well as your name and section below:"
   ]
  },
  {
   "cell_type": "code",
   "execution_count": 6,
   "id": "b963177c",
   "metadata": {},
   "outputs": [],
   "source": [
    "NAME = \"Shruthilaya Arun\"\n",
    "#SECTION = \"472\"\n",
    "SECTION = \"672\""
   ]
  },
  {
   "cell_type": "markdown",
   "id": "2ea684a2",
   "metadata": {},
   "source": [
    "---"
   ]
  },
  {
   "cell_type": "markdown",
   "id": "6c87ad0b-1140-4597-8c47-5b57ac4e533d",
   "metadata": {
    "deletable": false,
    "editable": false,
    "nbgrader": {
     "cell_type": "markdown",
     "checksum": "b6e27328217392909e358e1f6a82e9d1",
     "grade": false,
     "grade_id": "cell-87ea2e86d08e67fd",
     "locked": true,
     "schema_version": 3,
     "solution": false,
     "task": false
    }
   },
   "source": [
    "## <font color='blue'> Q4 [25 points total - answer all parts] </font>\n",
    "\n",
    "## <font color='blue'> To protect your e-banking passwords, a friend has developed a password manager that uses an encrypted database to store your credentials for each bank account. To unlock the password manager and access your credentials you must know the correct 16-byte passphrase. The password manager program keeps a local .txt file containing the hex-encoded encrypted copy of the correct passphrase using AES-128 encryption (i.e., encrypted_passphrase = convert_to_hex(AES-128(aes_key, plaintext_passphrase)). Moreover, the password manager uses AES-128 in CBC mode with the correct “aes_key” to decrypt the ciphertexts of the e-banking credentials stored in the password database. Notably, since these credentials can have an arbitrary length in bytes, the CBC decryption checks if the padding after decryption is correct. </font>\n",
    "\n",
    "## <font color='blue'> Unfortunately, you forgot your passphrase for the password manager so you can no longer access your e-banking credentials in the encrypted database. Your only hope is to decrypt the local copy of the encrypted passphrase, but you don’t know what is the random AES key used (i.e., you don’t know “aes_key” above). Even though the password manager has a function called “call_olivia(ctxt, iv)” that decrypts AES-CBC ciphertexts and checks if the padding is correct, it only returns True (i.e., no error) or False (there was an error).</font>\n",
    "\n",
    "## <font color='blue'> You are given black-box access to the call_olivia(ctxt, iv) function binary and the hex-encoded AES-128 ciphertext of your passphrase. </font>"
   ]
  },
  {
   "cell_type": "markdown",
   "id": "a76f94c2-caf6-446f-b8ed-cca894b2cd1f",
   "metadata": {
    "deletable": false,
    "editable": false,
    "nbgrader": {
     "cell_type": "markdown",
     "checksum": "57e27d1b8f243f6ae00f80e0f4e59379",
     "grade": false,
     "grade_id": "cell-7e8ff2a156a5304d",
     "locked": true,
     "schema_version": 3,
     "solution": false,
     "task": false
    }
   },
   "source": [
    "### <font color='blue'> Q4-a: [5 points] Explain what steps you need to follow in order to recover your passphrase. What exactly needs to be done in each step?  </font>"
   ]
  },
  {
   "cell_type": "markdown",
   "id": "ab1bab05",
   "metadata": {
    "deletable": false,
    "nbgrader": {
     "cell_type": "markdown",
     "checksum": "dfd69a328b1c5822172555cc4f33cd03",
     "grade": true,
     "grade_id": "cell-2180d173efa11321",
     "locked": false,
     "points": 5,
     "schema_version": 3,
     "solution": true,
     "task": false
    }
   },
   "source": [
    "The ciphertext is split into 16-byte blocks , I'll modify the last block of the ciphertext and check if the padding is valid using the call_olivia function. I will iterate through all the possible byte values till the padding is valid using which I can find the last byte of the decrypted ciphertext.I will repeat this for the entire block. After decrypting the entire block, I will strip the padding and recover the passphrase.\n"
   ]
  },
  {
   "cell_type": "markdown",
   "id": "bd61f663-b75b-412c-b2ac-bd0caf237b98",
   "metadata": {
    "deletable": false,
    "editable": false,
    "nbgrader": {
     "cell_type": "markdown",
     "checksum": "ed5b1642047762c9073b49db50416121",
     "grade": false,
     "grade_id": "cell-efb28ea18fa49756",
     "locked": true,
     "schema_version": 3,
     "solution": false,
     "task": false
    }
   },
   "source": [
    "### <font color='blue'> Q4-b: [20 points] Correctly Implement function get_passphrase(ctxt) below that can recover the passphrase plaintext by invoking call_olivia(). The hex-encoded password is ctxt = \"a70adfcef4e67f1bdfcabbb8d1878947\". What is the passphrase returned by your program?</font>"
   ]
  },
  {
   "cell_type": "code",
   "execution_count": 1,
   "id": "4ba72ad1-60e6-42a0-9df8-9bc85ca0149a",
   "metadata": {
    "deletable": false,
    "editable": false,
    "nbgrader": {
     "cell_type": "code",
     "checksum": "1389b0063a1f450b8b7d47f1dfd09205",
     "grade": false,
     "grade_id": "cell-e7c716363021f1a8",
     "locked": true,
     "schema_version": 3,
     "solution": false,
     "task": false
    }
   },
   "outputs": [],
   "source": [
    "import socket\n",
    "import time\n",
    "\n",
    "def olivia_init():\n",
    "    global s\n",
    "    server_address = '3.142.243.61'\n",
    "    server_port = 12345\n",
    "\n",
    "    # Create the socket\n",
    "    s = socket.socket(socket.AF_INET, socket.SOCK_STREAM)\n",
    "    \n",
    "    # Setup the connection\n",
    "    try:\n",
    "        # Setup the connection\n",
    "        s.connect((server_address, server_port))\n",
    "        print(\"Connection established.\")\n",
    "    except Exception as e:\n",
    "        print(f\"Error establishing connection: {e}\")\n",
    "        s = None\n",
    "\n",
    "def olivia_close():\n",
    "    global s\n",
    "    if s:\n",
    "        s.close()\n",
    "        print(\"connection closed.\")\n",
    "        s = None\n",
    "\n",
    "def call_olivia(ctxt: str, iv: str):\n",
    "    global s\n",
    "    \n",
    "    if s is None:\n",
    "        raise ConnectionError(\"Socket is not initialized. Call olivia_init first.\")\n",
    "\n",
    "    message = f'--iv {iv} --ctxt {ctxt}\\n'\n",
    "    \n",
    "    # Send the message\n",
    "    try:\n",
    "        s.sendall(message.encode())\n",
    "    except Exception as e:\n",
    "        print(\"no message\", e)\n",
    "    \n",
    "    try:\n",
    "        response = s.recv(1024)\n",
    "    except Exception as e:\n",
    "        print(\"no recv\", e)\n",
    "        return False\n",
    "\n",
    "    \n",
    "    # Decode the response\n",
    "    tmp = response.decode()\n",
    "    if \"False\" in tmp:\n",
    "        return False\n",
    "    return True\n",
    "\n",
    "    \n",
    "\n",
    "def xor(x,y):\n",
    "    if x == \"\" or y == \"\":\n",
    "        return \"\"\n",
    "    x = int(x,16)\n",
    "    y = int(y,16)\n",
    "    z = x ^ y\n",
    "    return hex(z)[2:].zfill(2)\n"
   ]
  },
  {
   "cell_type": "code",
   "execution_count": 2,
   "id": "57d7bccb",
   "metadata": {
    "deletable": false,
    "nbgrader": {
     "cell_type": "code",
     "checksum": "2eabf539d39314e89ec156e1c9858943",
     "grade": false,
     "grade_id": "cell-48d4c596efc9eae3",
     "locked": false,
     "schema_version": 3,
     "solution": true,
     "task": false
    }
   },
   "outputs": [],
   "source": [
    "# 5 points\n",
    "def create_iv_tail(ptxt: str, i: int) -> str:\n",
    "    \"\"\"\n",
    "    Input is ptxt in hex string format, and i is the number of padding bytes needed.\n",
    "    create the iv_tail that will lead to the correct padding generation in the ptxt.\n",
    "    \"\"\"\n",
    "\n",
    "    padding = {1: '01', 2: '02', 3: '03', 4: '04', 5: '05', 6: '06', 7: '07', 8: '08', 9: '09', 10: '0a', 11: '0b', 12: '0c', 13: '0d', 14: '0e', 15: '0f', 16: '10', 17: '011'}\n",
    "    \n",
    "    iv_tail = \"\"\n",
    "\n",
    "    # YOUR CODE HERE\n",
    "    if not ptxt:\n",
    "        return iv_tail\n",
    "    ptxt_bytes=bytes.fromhex(ptxt) # convert otxt to bytes\n",
    "    padding_value=int(padding[i],16) # convert value to int\n",
    "    for j in ptxt_bytes:\n",
    "        padded_byte=j^padding_value # xor ptxt and padding_value\n",
    "        iv_tail += hex(padded_byte)[2:].zfill(2) # add padded_byte to iv_tail\n",
    "    #raise NotImplementedError()\n",
    "\n",
    "    return iv_tail"
   ]
  },
  {
   "cell_type": "code",
   "execution_count": 3,
   "id": "3509d706",
   "metadata": {
    "deletable": false,
    "editable": false,
    "nbgrader": {
     "cell_type": "code",
     "checksum": "c54d13d28f521b10bdc54e51d450e28c",
     "grade": true,
     "grade_id": "cell-d605db62a827958e",
     "locked": true,
     "points": 4,
     "schema_version": 3,
     "solution": false,
     "task": false
    }
   },
   "outputs": [],
   "source": [
    "assert create_iv_tail(\"\" , 1) == \"\"\n",
    "assert create_iv_tail(\"76\" , 2) == \"74\"\n",
    "assert create_iv_tail(\"1234\" , 3) == \"1137\"\n",
    "assert create_iv_tail(\"12334adf32fd\" , 5) == \"17364fda37f8\"\n"
   ]
  },
  {
   "cell_type": "code",
   "execution_count": 4,
   "id": "6525f627",
   "metadata": {
    "deletable": false,
    "editable": false,
    "nbgrader": {
     "cell_type": "code",
     "checksum": "72072de483e1be96e73b2ede702e50f4",
     "grade": true,
     "grade_id": "cell-1be056c853ea196a",
     "locked": true,
     "points": 1,
     "schema_version": 3,
     "solution": false,
     "task": false
    }
   },
   "outputs": [],
   "source": [
    "# hidden test cases"
   ]
  },
  {
   "cell_type": "code",
   "execution_count": 7,
   "id": "4405473e-7be5-4454-b846-3083e78d1390",
   "metadata": {
    "deletable": false,
    "nbgrader": {
     "cell_type": "code",
     "checksum": "61f84abbecb3d72cafbbedf7825a140e",
     "grade": false,
     "grade_id": "cell-00bcc0b5eba6baf0",
     "locked": false,
     "schema_version": 3,
     "solution": true,
     "task": false
    }
   },
   "outputs": [],
   "source": [
    "# worth 5 points\n",
    "def find_correct_byte(ctxt: str , iv_tail: str) -> str:\n",
    "    \"\"\"\n",
    "    Given the ctxt and the iv_tail from the previous step, test each possible iv using the iv_tail to find the correct_byte.\n",
    "    You should return the byte in hex format. Use the call_olivia(ctxt, iv) function, and find the iv that matches the ctxt.\n",
    "    iv should be hex string of size 32. The correct_byte should be returned in hex string format.\n",
    "    \n",
    "    \"\"\"\n",
    "        \n",
    "\n",
    "    correct_byte = \"\"\n",
    "    # YOUR CODE HERE\n",
    "    for i in range(256):\n",
    "        current_byte=format(i,'02x') \n",
    "        zero_padding_length = (16 - len(iv_tail) // 2 - 1)  # length of the iv_tail+current_byte \n",
    "        zero_padding = '00' * max(zero_padding_length, 0)  # length of iv\n",
    "        iv = zero_padding  + current_byte + iv_tail # initialise iv\n",
    "        if len(iv) != 32:\n",
    "            continue\n",
    "        if call_olivia(ctxt, iv):\n",
    "            return current_byte  \n",
    "    return None \n",
    "    #raise NotImplementedError()\n",
    "\n",
    "    return correct_byte\n"
   ]
  },
  {
   "cell_type": "code",
   "execution_count": 8,
   "id": "b09a6bfb-d516-43de-ae02-198e8027e27f",
   "metadata": {
    "deletable": false,
    "editable": false,
    "nbgrader": {
     "cell_type": "code",
     "checksum": "bdc8443ccbf078bc3290455a64ab5cc9",
     "grade": true,
     "grade_id": "cell-8385bcbb794888f3",
     "locked": true,
     "points": 4,
     "schema_version": 3,
     "solution": false,
     "task": false
    }
   },
   "outputs": [
    {
     "name": "stdout",
     "output_type": "stream",
     "text": [
      "Connection established.\n",
      "connection closed.\n"
     ]
    }
   ],
   "source": [
    "olivia_init()\n",
    "\n",
    "ctxt = \"a70adfcef4e67f1bdfcabbb8d1878947\"\n",
    "correct_byte = find_correct_byte(ctxt,\"\")\n",
    "assert correct_byte == \"76\"\n",
    "\n",
    "ctxt = \"a70adfcef4e67f1bdfcabbb8d1878947\"\n",
    "correct_byte = find_correct_byte(ctxt,\"75\")\n",
    "assert correct_byte == \"72\"\n",
    "\n",
    "ctxt = \"a70adfcef4e67f1bdfcabbb8d1878947\"\n",
    "correct_byte = find_correct_byte(ctxt,\"7374\")\n",
    "assert correct_byte == \"5c\"\n",
    "\n",
    "olivia_close()"
   ]
  },
  {
   "cell_type": "code",
   "execution_count": 9,
   "id": "7ecea05e",
   "metadata": {
    "deletable": false,
    "editable": false,
    "nbgrader": {
     "cell_type": "code",
     "checksum": "de0d9f5893f8ca92d58dfa7013461194",
     "grade": true,
     "grade_id": "cell-cd88fe3779839ade",
     "locked": true,
     "points": 1,
     "schema_version": 3,
     "solution": false,
     "task": false
    }
   },
   "outputs": [],
   "source": [
    "# hidden test cases"
   ]
  },
  {
   "cell_type": "code",
   "execution_count": 21,
   "id": "7dbac67f-0223-4d81-a2b9-e74595fc67b0",
   "metadata": {
    "deletable": false,
    "nbgrader": {
     "cell_type": "code",
     "checksum": "aed491ec087ea2c12bbb49a547d2edaf",
     "grade": false,
     "grade_id": "cell-71086120eb7c067a",
     "locked": false,
     "schema_version": 3,
     "solution": true,
     "task": false
    }
   },
   "outputs": [],
   "source": [
    "# worth 10 points\n",
    "def get_passphrase(ctxt: str) -> str:\n",
    "    \"\"\"\n",
    "    Your function should use the call_olivia function to do a padding oracle attack on the ctxt = a70adfcef4e67f1bdfcabbb8d1878947\n",
    "    and return it's plaintext in string format.\n",
    "    At each padding step, use the create_iv_tail function to create the end of the iv, and then call the find_correct_byte function\n",
    "    to bruteforce the correct byte, then use the byte to find it's plaintext. Add all the bytes in plaintext then decode and \n",
    "    return it.\n",
    "    \"\"\"\n",
    "\n",
    "    \n",
    "    padding = {1: '01', 2: '02', 3: '03', 4: '04', 5: '05', 6: '06', 7: '07', 8: '08', 9: '09', 10: '0a', 11: '0b', 12: '0c', 13: '0d', 14: '0e', 15: '0f', 16: '10'}\n",
    "    ptxt = \"\"\n",
    "    # YOUR CODE HERE\n",
    "    #raise NotImplementedError()\n",
    "    iv_tail = \"\"\n",
    "    \n",
    "    \n",
    "    for i in range(1, 17):\n",
    "        iv_tail = create_iv_tail(ptxt, i) # create iv tail\n",
    "        correct_byte = find_correct_byte(ctxt, iv_tail) # find valid byte\n",
    "        ptxt += correct_byte #form ptxt\n",
    "    passphrase = bytes.fromhex(ptxt).decode('iso-8859-1')\n",
    "    return passphrase\n"
   ]
  },
  {
   "cell_type": "code",
   "execution_count": 22,
   "id": "b61ab366-4340-4540-9ac6-5842cd6000ab",
   "metadata": {
    "deletable": false,
    "editable": false,
    "nbgrader": {
     "cell_type": "code",
     "checksum": "f4c1d47fd0a174e7a24ab3f15881ca08",
     "grade": false,
     "grade_id": "cell-f841d90885625b37",
     "locked": true,
     "schema_version": 3,
     "solution": false,
     "task": false
    }
   },
   "outputs": [
    {
     "name": "stdout",
     "output_type": "stream",
     "text": [
      "Connection established.\n"
     ]
    },
    {
     "ename": "TypeError",
     "evalue": "can only concatenate str (not \"NoneType\") to str",
     "output_type": "error",
     "traceback": [
      "\u001b[1;31m---------------------------------------------------------------------------\u001b[0m",
      "\u001b[1;31mTypeError\u001b[0m                                 Traceback (most recent call last)",
      "\u001b[1;32m~\\AppData\\Local\\Temp\\ipykernel_22724\\3104361815.py\u001b[0m in \u001b[0;36m<module>\u001b[1;34m\u001b[0m\n\u001b[0;32m      1\u001b[0m \u001b[0molivia_init\u001b[0m\u001b[1;33m(\u001b[0m\u001b[1;33m)\u001b[0m\u001b[1;33m\u001b[0m\u001b[1;33m\u001b[0m\u001b[0m\n\u001b[0;32m      2\u001b[0m \u001b[0mctxt\u001b[0m \u001b[1;33m=\u001b[0m \u001b[1;34m\"a70adfcef4e67f1bdfcabbb8d1878947\"\u001b[0m\u001b[1;33m\u001b[0m\u001b[1;33m\u001b[0m\u001b[0m\n\u001b[1;32m----> 3\u001b[1;33m \u001b[0mptxt\u001b[0m \u001b[1;33m=\u001b[0m \u001b[0mget_passphrase\u001b[0m\u001b[1;33m(\u001b[0m\u001b[0mctxt\u001b[0m\u001b[1;33m)\u001b[0m\u001b[1;33m\u001b[0m\u001b[1;33m\u001b[0m\u001b[0m\n\u001b[0m\u001b[0;32m      4\u001b[0m \u001b[0mprint\u001b[0m\u001b[1;33m(\u001b[0m\u001b[1;34m\"ptxt is: \"\u001b[0m\u001b[1;33m,\u001b[0m \u001b[0mptxt\u001b[0m\u001b[1;33m)\u001b[0m\u001b[1;33m\u001b[0m\u001b[1;33m\u001b[0m\u001b[0m\n\u001b[0;32m      5\u001b[0m \u001b[0molivia_close\u001b[0m\u001b[1;33m(\u001b[0m\u001b[1;33m)\u001b[0m\u001b[1;33m\u001b[0m\u001b[1;33m\u001b[0m\u001b[0m\n",
      "\u001b[1;32m~\\AppData\\Local\\Temp\\ipykernel_22724\\3227834677.py\u001b[0m in \u001b[0;36mget_passphrase\u001b[1;34m(ctxt)\u001b[0m\n\u001b[0;32m     20\u001b[0m         \u001b[0miv_tail\u001b[0m \u001b[1;33m=\u001b[0m \u001b[0mcreate_iv_tail\u001b[0m\u001b[1;33m(\u001b[0m\u001b[0mptxt\u001b[0m\u001b[1;33m,\u001b[0m \u001b[0mi\u001b[0m\u001b[1;33m)\u001b[0m \u001b[1;31m# create iv tail\u001b[0m\u001b[1;33m\u001b[0m\u001b[1;33m\u001b[0m\u001b[0m\n\u001b[0;32m     21\u001b[0m         \u001b[0mcorrect_byte\u001b[0m \u001b[1;33m=\u001b[0m \u001b[0mfind_correct_byte\u001b[0m\u001b[1;33m(\u001b[0m\u001b[0mctxt\u001b[0m\u001b[1;33m,\u001b[0m \u001b[0miv_tail\u001b[0m\u001b[1;33m)\u001b[0m \u001b[1;31m# find valid byte\u001b[0m\u001b[1;33m\u001b[0m\u001b[1;33m\u001b[0m\u001b[0m\n\u001b[1;32m---> 22\u001b[1;33m         \u001b[0mptxt\u001b[0m \u001b[1;33m+=\u001b[0m \u001b[0mcorrect_byte\u001b[0m\u001b[1;33m\u001b[0m\u001b[1;33m\u001b[0m\u001b[0m\n\u001b[0m\u001b[0;32m     23\u001b[0m     \u001b[0mpassphrase\u001b[0m \u001b[1;33m=\u001b[0m \u001b[0mbytes\u001b[0m\u001b[1;33m.\u001b[0m\u001b[0mfromhex\u001b[0m\u001b[1;33m(\u001b[0m\u001b[0mptxt\u001b[0m\u001b[1;33m)\u001b[0m\u001b[1;33m.\u001b[0m\u001b[0mdecode\u001b[0m\u001b[1;33m(\u001b[0m\u001b[1;34m'iso-8859-1'\u001b[0m\u001b[1;33m)\u001b[0m\u001b[1;33m\u001b[0m\u001b[1;33m\u001b[0m\u001b[0m\n\u001b[0;32m     24\u001b[0m     \u001b[1;32mreturn\u001b[0m \u001b[0mpassphrase\u001b[0m\u001b[1;33m\u001b[0m\u001b[1;33m\u001b[0m\u001b[0m\n",
      "\u001b[1;31mTypeError\u001b[0m: can only concatenate str (not \"NoneType\") to str"
     ]
    }
   ],
   "source": [
    "olivia_init()\n",
    "ctxt = \"a70adfcef4e67f1bdfcabbb8d1878947\"\n",
    "ptxt = get_passphrase(ctxt)\n",
    "print(\"ptxt is: \", ptxt)\n",
    "olivia_close()\n",
    "with open(\"pass_phrase.txt\",\"w\") as file:\n",
    "    file.write(ptxt)\n"
   ]
  },
  {
   "cell_type": "code",
   "execution_count": null,
   "id": "f82f2f7c-bbbc-4272-85d0-f9909a2147fc",
   "metadata": {
    "deletable": false,
    "editable": false,
    "nbgrader": {
     "cell_type": "code",
     "checksum": "52309be3e90ce2f1cbd7dece436fe3c9",
     "grade": true,
     "grade_id": "cell-e04f3bde1b071720",
     "locked": true,
     "points": 10,
     "schema_version": 3,
     "solution": false,
     "task": false
    }
   },
   "outputs": [],
   "source": [
    "# hidden test"
   ]
  },
  {
   "cell_type": "code",
   "execution_count": null,
   "id": "1e5ff8d6-6381-4bdf-9a50-7483e3215ee2",
   "metadata": {},
   "outputs": [],
   "source": []
  }
 ],
 "metadata": {
  "kernelspec": {
   "display_name": "Python 3 (ipykernel)",
   "language": "python",
   "name": "python3"
  },
  "language_info": {
   "codemirror_mode": {
    "name": "ipython",
    "version": 3
   },
   "file_extension": ".py",
   "mimetype": "text/x-python",
   "name": "python",
   "nbconvert_exporter": "python",
   "pygments_lexer": "ipython3",
   "version": "3.9.13"
  }
 },
 "nbformat": 4,
 "nbformat_minor": 5
}
