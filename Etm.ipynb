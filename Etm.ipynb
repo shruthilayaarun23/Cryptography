{
 "cells": [
  {
   "cell_type": "markdown",
   "id": "14ba7fb7",
   "metadata": {},
   "source": [
    "**Show all your work for full credit. Each source code you submit should include detailed comments and instructions on how to run it in order to confirm that it works as expected. If the program that does not run or throws runtime errors, it cannot be graded. You can refer to the programming guidelines from the TAs here: https://tinyurl.com/CPEG-472-672-Programming-Guide/**\n",
    "\n",
    "**This is an individual assignment and each student should work on their own. Ensure you don't share any code online or with others (note, using Replit, GitHub and similar online platforms can make your code accessible to others).**\n",
    "\n",
    "**To submit the assignment, you need to use Jupyter Notebook with the provided cell blocks and follow the naming conventions and instructions posted here: https://tinyurl.com/CPEG-472-672-Programming-Guide/**"
   ]
  },
  {
   "cell_type": "markdown",
   "id": "eef31c73",
   "metadata": {},
   "source": [
    "Before you turn this problem in, make sure everything runs as expected. First, **restart the kernel** (in the menubar, select Kernel $\\rightarrow$ Restart) and then **run all cells** (in the menubar, select Cell $\\rightarrow$ Run All).\n",
    "\n",
    "Make sure you fill in any place that says `YOUR CODE HERE` or \"YOUR ANSWER HERE\", as well as your name and section below:\n",
    "\n",
    "<font color='red' size=\"4\">Import any additional libraries you need in the same code block that you use it.</font>"
   ]
  },
  {
   "cell_type": "code",
   "execution_count": null,
   "id": "319871fa",
   "metadata": {},
   "outputs": [],
   "source": [
    "NAME = \"Shruthilaya Arun\"\n",
    "#SECTION = \"472\"\n",
    "SECTION = \"672\""
   ]
  },
  {
   "cell_type": "markdown",
   "id": "993726a1",
   "metadata": {},
   "source": [
    "---"
   ]
  },
  {
   "cell_type": "markdown",
   "id": "c5e53a64-14c2-4515-a195-25bc61e97b7f",
   "metadata": {
    "deletable": false,
    "editable": false,
    "nbgrader": {
     "cell_type": "markdown",
     "checksum": "d680281fa8a31e8533ffb03d47f114d0",
     "grade": false,
     "grade_id": "cell-6d8136741baac0cc",
     "locked": true,
     "schema_version": 3,
     "solution": false,
     "task": false
    }
   },
   "source": [
    "## Question 1c - Review the relevant code samples provided on Canvas. Note: SimonX/Y indicates block size X and key size Y. The same applies to SpeckX/Y. Then, using Python crypto libraries in a secure way, implement the following:"
   ]
  },
  {
   "cell_type": "code",
   "execution_count": null,
   "id": "fce1403b-5b7d-45af-87b1-96ee4eed863a",
   "metadata": {
    "deletable": false,
    "editable": false,
    "nbgrader": {
     "cell_type": "code",
     "checksum": "0c8f28337ba0d954d0579cda199fd05d",
     "grade": false,
     "grade_id": "cell-d45b229f2a4ae9d9",
     "locked": true,
     "schema_version": 3,
     "solution": false,
     "task": false
    }
   },
   "outputs": [],
   "source": [
    "#! pip install SimonSpeck\n",
    "#! pip install pycryptodome\n",
    "\n",
    "from Crypto.Cipher import AES\n",
    "from Crypto.Hash import CMAC\n",
    "from simon import SimonCipher\n",
    "from Crypto.Random import get_random_bytes\n",
    "from Crypto.Util.number import bytes_to_long , long_to_bytes\n",
    "import hmac\n",
    "import secrets"
   ]
  },
  {
   "cell_type": "code",
   "execution_count": 5,
   "id": "0ff8fa5e",
   "metadata": {},
   "outputs": [],
   "source": [
    "from Cryptodome.Cipher import AES\n",
    "from Cryptodome.Hash import CMAC\n",
    "from simon import SimonCipher\n",
    "from Cryptodome.Random import get_random_bytes\n",
    "from Cryptodome.Util.number import bytes_to_long , long_to_bytes\n",
    "import hmac\n",
    "import secrets"
   ]
  },
  {
   "cell_type": "markdown",
   "id": "562aca69-c1e9-44f2-9fa5-e53d74241162",
   "metadata": {
    "deletable": false,
    "editable": false,
    "nbgrader": {
     "cell_type": "markdown",
     "checksum": "9bc487fd2e73b57e5cef5ecb8b0d2a38",
     "grade": false,
     "grade_id": "cell-d81cfa21c55188b6",
     "locked": true,
     "schema_version": 3,
     "solution": false,
     "task": false
    }
   },
   "source": [
    "### Q1c [15 points] Implement EtM using Simon128/256-CTR as the cipher and AES-CMAC as the MAC. Your implementation should support multiple plaintext blocks, and include decryption & mac verification support."
   ]
  },
  {
   "cell_type": "code",
   "execution_count": 6,
   "id": "9e1677d2-04e6-45b0-a87b-f0a061eaf09f",
   "metadata": {
    "deletable": false,
    "nbgrader": {
     "cell_type": "code",
     "checksum": "70360e03b81757b74a528064ba5a9096",
     "grade": false,
     "grade_id": "cell-3c01e42db502b79d",
     "locked": false,
     "schema_version": 3,
     "solution": true,
     "task": false
    }
   },
   "outputs": [],
   "source": [
    "# 5 points for this code block\n",
    "from cryptography.hazmat.primitives import cmac\n",
    "from cryptography.hazmat.primitives.ciphers import algorithms\n",
    "from cryptography.exceptions import InvalidSignature\n",
    "\n",
    "def cmac_aes(ctxt: bytes, key: bytes) -> bytes:\n",
    "    \"\"\"\n",
    "    Generate the AES-CMAC tag from the ctxt,\n",
    "    using the CMAC and AES libraries.\n",
    "    Return tag as bytes.\n",
    "    \"\"\"\n",
    "    tag = b\"\" \n",
    "    # YOUR CODE HERE\n",
    "    cmac_obj=cmac.CMAC(algorithms.AES(key)) # cmac initialise\n",
    "    cmac_obj.update(ctxt) # add ctxt\n",
    "    tag=cmac_obj.finalize() # get tag\n",
    "    return tag\n",
    "\n",
    "def cmac_aes_verify(tag: bytes, ctxt: bytes, key: bytes) -> bytes:\n",
    "    \"\"\"\n",
    "    Verify the AES-CMAC tag using the CMAC and AES libraries.\n",
    "    Return True if the tag matches, else false\n",
    "    Hint: Use try except block to handle errors\n",
    "    \"\"\"\n",
    "    # YOUR CODE HERE\n",
    "    cmac_obj=cmac.CMAC(algorithms.AES(key))\n",
    "    cmac_obj.update(ctxt)\n",
    "    try:\n",
    "        cmac_obj.verify(tag) # verify tag\n",
    "        return True\n",
    "    except InvalidSignature:\n",
    "        return False  \n"
   ]
  },
  {
   "cell_type": "code",
   "execution_count": 7,
   "id": "19a92ccb-370c-4657-a2bc-e66dde659beb",
   "metadata": {
    "deletable": false,
    "editable": false,
    "nbgrader": {
     "cell_type": "code",
     "checksum": "7c6be38d81ac3e5be5e9ffacde3006f1",
     "grade": true,
     "grade_id": "cell-c8a040de5a43e718",
     "locked": true,
     "points": 3,
     "schema_version": 3,
     "solution": false,
     "task": false
    }
   },
   "outputs": [],
   "source": [
    "ptxt = b\"this  a random message that is sufficiently long\"\n",
    "key = b'\\x0f?\\xb9c1\\xb6\\x91\\xe8\\x8c\\xc2\\xbf\\x10\\xab\\x12b\\x98\\x82\\xf3h\\xaa\\x19! \\xb99\\x0fi1\\xdc3\\xb1\\xcf'\n",
    "tag = cmac_aes(ptxt, key)\n",
    "assert tag == b'\\xb2%\\xf5\\x1cV\\x94\\xe1\\xa3\\xf3\\x98\"3\\x08<\\xe5\\xe0'\n",
    "verify = cmac_aes_verify(tag, ptxt, key)\n",
    "assert verify == True"
   ]
  },
  {
   "cell_type": "code",
   "execution_count": 8,
   "id": "f232faf5-08e2-4d52-a5a5-58a6279db5f7",
   "metadata": {
    "deletable": false,
    "editable": false,
    "nbgrader": {
     "cell_type": "code",
     "checksum": "ac78172aeba3fdce6920add73b16424c",
     "grade": true,
     "grade_id": "cell-72b4a4d1e2cc49b7",
     "locked": true,
     "points": 2,
     "schema_version": 3,
     "solution": false,
     "task": false
    }
   },
   "outputs": [],
   "source": [
    "ptxt = b\"this  a random message that is sufficiently long\"\n",
    "key = b'\\x0f?\\xb9c1\\xb6\\x91\\xe8\\x8c\\xc2\\xbf\\x10\\xab\\x12b\\x98\\x82\\xf3h\\xaa\\x19! \\xb99\\x0fi1\\xdc3\\xb1\\xcf'\n",
    "tag = b'\\xb2%\\xf5\\x1cV\\x94\\xe1\\xa3\\xf3\\x98\"3\\x08<\\xe5\\xe1'\n",
    "verify = cmac_aes_verify(tag, ptxt, key)\n",
    "assert verify == False"
   ]
  },
  {
   "cell_type": "code",
   "execution_count": 9,
   "id": "3f845a46-0024-4244-b128-dd8c07e8c86c",
   "metadata": {
    "deletable": false,
    "nbgrader": {
     "cell_type": "code",
     "checksum": "97bc36db3eab98436ec65613350f7635",
     "grade": false,
     "grade_id": "cell-7abdb20d1c7b65fa",
     "locked": false,
     "schema_version": 3,
     "solution": true,
     "task": false
    }
   },
   "outputs": [],
   "source": [
    "# 5 points for encrypt/decrypt\n",
    "def encrypt_simon(ptxt: bytes, key: bytes) -> (bytes, bytes):\n",
    "    \"\"\"\n",
    "    Encrypt the ptxt using Simon128/256-CTR. Use the given key. \n",
    "    Return the ctxt and generated nonce as bytes.\n",
    "    Use long_to_bytes() and bytes_to_long() for bytes <-> int conversions.\n",
    "    Use default counter argument for Simon Cipher.\n",
    "    Simon Cipher should take nonce as an argument.\n",
    "    \"\"\"\n",
    "    ctxt = b\"\"\n",
    "    nonce = b\"\"\n",
    "    # YOUR CODE HERE \n",
    "    nonce=secrets.token_bytes(16) # generate nonce\n",
    "    cipher=SimonCipher(bytes_to_long(key), key_size=256, block_size=128, mode='CTR',init=bytes_to_long(nonce)) # simon 128/256 CTR\n",
    "    block_size=16 # block \n",
    "    padded_ptxt=ptxt + b'\\x00' * (block_size - len(ptxt) % block_size)  # add padding\n",
    "    for i in range(0, len(padded_ptxt), block_size):\n",
    "        block=padded_ptxt[i:i + block_size] # get block\n",
    "        ctxt+=long_to_bytes(cipher.encrypt(bytes_to_long(block))) \n",
    "    return ctxt,nonce\n",
    "\n",
    "    \n",
    "\n",
    "def decrypt_simon(ctxt: bytes, nonce: bytes, key: bytes) -> (bytes):\n",
    "    \"\"\"\n",
    "    Decrypt the ctxt using the Simon128/256-CTR. Use the given key and nonce. \n",
    "    Return the decrypted ptxt.\n",
    "    Use long_to_bytes() and bytes_to_long() for bytes <-> int conversions.\n",
    "    Use default counter argument for Simon Cipher.\n",
    "    Simon Cipher should take nonce as an argument.\n",
    "    \"\"\"\n",
    "    ptxt = b\"\"\n",
    "    # YOUR CODE HERE\n",
    "    cipher=SimonCipher(bytes_to_long(key),key_size=256,block_size=128,mode='CTR',init=bytes_to_long(nonce)) \n",
    "    block_size=16\n",
    "    for i in range(0,len(ctxt),block_size):\n",
    "        block=ctxt[i:i+block_size]\n",
    "        decrypted_block=long_to_bytes(cipher.decrypt(bytes_to_long(block)),block_size) # decrypt ptxt\n",
    "        ptxt+=decrypted_block\n",
    "    return ptxt.rstrip(b'x\\00') # remove zeros\n"
   ]
  },
  {
   "cell_type": "code",
   "execution_count": 10,
   "id": "e88ce596-ce87-4592-83fd-dfae2ce7b273",
   "metadata": {
    "deletable": false,
    "editable": false,
    "nbgrader": {
     "cell_type": "code",
     "checksum": "85be390713ffc21dc995ff53918010cc",
     "grade": true,
     "grade_id": "cell-8a479ecbe6098be6",
     "locked": true,
     "points": 2,
     "schema_version": 3,
     "solution": false,
     "task": false
    }
   },
   "outputs": [],
   "source": [
    "ptxt = b\"this  a random message that is sufficiently long\"\n",
    "key = b'\\x0f?\\xb9c1\\xb6\\x91\\xe8\\x8c\\xc2\\xbf\\x10\\xab\\x12b\\x98\\x82\\xf3h\\xaa\\x19! \\xb99\\x0fi1\\xdc3\\xb1\\xcf'\n",
    "ctxt = b'w\\x13\\xb6\\xb8q>!\\xf5\\x93dm5#\\x88\\x9d\\x8doTAts\\xbcN\\xc8\\xe0\\x19\\x01?]\\x82\\xfa\\xd1_\\xefm\\xa2\\x1c\\xf1\\xf1J\\xad\\xa2\\x17\\xde\\xa7\\xc8\\x98\\xbd' \n",
    "nonce = b'\\x89\\x0e\\xbc\\x9c\\xb8\\xc5Be\\x1b\\x9e\\xd8\\x86>\\xfd\\x97m\\xf8\\x0fB\\xfd\\x96\\xf4$\\x8a\\x1f\\x8d\\xc8G\\xda\\xb9/\\xd5\\xf0)hLD\\x89\\xe7\\x0c\\xf8\\x1cM)i+\\xad\\x05\\xfd\\xb7\\xa5\\xd0\\xac\\xe2\\xd2\\x00\\xa9,\\xec\\xea5\\xa7\\xd9\\x1a=G\\xdan\\\\!\\xff\\xe3\\xa6\\xd2\\x87\\x04aQ\\xe4\\x0f\\xf8\\x96\\xe2\\xb8,\\xf4\\x99\\x1c,\\x93\\xce\\xc0\\x91\\xcc1V\\x99\\xde\\xc0\\xe4m\\xed[\\x04\\xcb\\x10\\x12`\\x99\\x9c\\x89Ay\\x8d\\x04\\x13]\\xbb\\xa0\\xf1\\xe2\\x0f\\x941\\xb0\\x15\\xe4\\xa0'\n",
    "\n",
    "ptxt_decrypt = decrypt_simon(ctxt, nonce, key)\n",
    "assert ptxt_decrypt == ptxt"
   ]
  },
  {
   "cell_type": "code",
   "execution_count": 11,
   "id": "33311490-d33e-4155-b311-d1e8b67311ad",
   "metadata": {
    "deletable": false,
    "editable": false,
    "nbgrader": {
     "cell_type": "code",
     "checksum": "d0aa1e0d98dce8e204f754e3c4c6b4e4",
     "grade": true,
     "grade_id": "cell-5f03319bb4a0d281",
     "locked": true,
     "points": 3,
     "schema_version": 3,
     "solution": false,
     "task": false
    }
   },
   "outputs": [],
   "source": [
    "ptxt = b\"this  a random message that is sufficiently long\"\n",
    "key = b'\\x0f?\\xb9c1\\xb6\\x91\\xe8\\x8c\\xc2\\xbf\\x10\\xab\\x12b\\x98\\x82\\xf3h\\xaa\\x19! \\xb99\\x0fi1\\xdc3\\xb1\\xcf'\n",
    "\n",
    "ctxt, nonce = encrypt_simon(ptxt, key)\n",
    "ptxt_decrypt = decrypt_simon(ctxt, nonce, key)\n",
    "assert ptxt_decrypt == ptxt\n",
    "\n",
    "# Ensure we generate a new nonce\n",
    "ctxt_new, nonce_new = encrypt_simon(ptxt, key)\n",
    "assert nonce_new != nonce\n",
    "assert ctxt_new != ctxt"
   ]
  },
  {
   "cell_type": "code",
   "execution_count": 12,
   "id": "f28b8e47-cb04-4a58-b23e-5c0b0729a41f",
   "metadata": {
    "deletable": false,
    "editable": false,
    "nbgrader": {
     "cell_type": "code",
     "checksum": "b872ab51c64ea78c1eb94688deef3a73",
     "grade": false,
     "grade_id": "cell-d85dab422e788cd3",
     "locked": true,
     "schema_version": 3,
     "solution": false,
     "task": false
    }
   },
   "outputs": [],
   "source": [
    "# [3 points] Implement you own EtM_encrypt() function and implement an example to demonstrate its use.\n",
    "# You can have a hardcoded message, but the remaining elements must be securely generated.\n",
    "# Print the ciphertext and tag result in hex."
   ]
  },
  {
   "cell_type": "code",
   "execution_count": 23,
   "id": "48b19bb5-7e15-4965-882d-ec9efd33900b",
   "metadata": {
    "deletable": false,
    "nbgrader": {
     "cell_type": "code",
     "checksum": "6d0c26a155261a051560531375b71c4d",
     "grade": true,
     "grade_id": "cell-457aca2fb3b026b2",
     "locked": false,
     "points": 3,
     "schema_version": 3,
     "solution": true,
     "task": false
    }
   },
   "outputs": [],
   "source": [
    "# YOUR CODE HERE\n",
    "def EtM_encrypt(ptxt: bytes, enc_key: bytes,mac_key:bytes) -> (bytes, bytes, bytes):\n",
    "    \n",
    "    ctxt,nonce=encrypt_simon(ptxt,enc_key) # encrypt ptxt\n",
    "    tag=cmac_aes(ctxt, mac_key) # tag of ctxt\n",
    "    \n",
    "    return ctxt, nonce, tag\n",
    "\n"
   ]
  },
  {
   "cell_type": "code",
   "execution_count": 24,
   "id": "51ab4ff2",
   "metadata": {},
   "outputs": [
    {
     "name": "stdout",
     "output_type": "stream",
     "text": [
      "Ciphertext (hex): ad2dc82df4044eb855f7b8dd85a726dd165447022b20eb26f552917b1be55fb3\n",
      "Nonce (hex): 6322c115dcbac8af73986647fb33beb6\n",
      "CMAC Tag (hex): b73b59358c0762b8a790bb1dbf7575b5\n"
     ]
    }
   ],
   "source": [
    "ptxt = b\"This is a secret message\"\n",
    "enc_key = secrets.token_bytes(32)  # encryption key\n",
    "mac_key=secrets.token_bytes(32) # mac key\n",
    "ctxt, nonce, tag = EtM_encrypt(ptxt, enc_key,mac_key)\n",
    "print(\"Ciphertext:\", ctxt.hex())\n",
    "print(\"Tag:\", tag.hex())"
   ]
  },
  {
   "cell_type": "code",
   "execution_count": 25,
   "id": "41051d51-8257-46aa-a230-e36d12ffe2ed",
   "metadata": {
    "deletable": false,
    "editable": false,
    "nbgrader": {
     "cell_type": "code",
     "checksum": "48dc228143132e5472f1b2e49af820be",
     "grade": true,
     "grade_id": "cell-a8f4f4919c33e342",
     "locked": true,
     "points": 0,
     "schema_version": 3,
     "solution": false,
     "task": false
    }
   },
   "outputs": [],
   "source": [
    "# hidden test cases"
   ]
  },
  {
   "cell_type": "code",
   "execution_count": 26,
   "id": "be1e512c-4676-4d05-b8c9-c6207bed9da4",
   "metadata": {
    "deletable": false,
    "editable": false,
    "nbgrader": {
     "cell_type": "code",
     "checksum": "ae5b72aa7afea3bb1b5b83962229a7c6",
     "grade": false,
     "grade_id": "cell-04ad6e5163a5090b",
     "locked": true,
     "schema_version": 3,
     "solution": false,
     "task": false
    }
   },
   "outputs": [],
   "source": [
    "# [2 points] Implement you own EtM_decrypt() function. \n",
    "# Demostrate its use by decrypting and verifying the EaM_encrypt result above. \n",
    "# Print the plaintext as a byte string and tag result."
   ]
  },
  {
   "cell_type": "code",
   "execution_count": 27,
   "id": "c6dd767d-0d25-41d4-b30a-363737cd46da",
   "metadata": {
    "deletable": false,
    "nbgrader": {
     "cell_type": "code",
     "checksum": "2cc70aa33b350d43d99bb85ceac8c238",
     "grade": true,
     "grade_id": "cell-e84c78cf84819f62",
     "locked": false,
     "points": 2,
     "schema_version": 3,
     "solution": true,
     "task": false
    }
   },
   "outputs": [],
   "source": [
    "# YOUR CODE HERE\n",
    "def EtM_decrypt(ctxt: bytes, nonce: bytes, tag: bytes, enc_key: bytes,mac_key:bytes) -> bytes:\n",
    "    if not cmac_aes_verify(tag, ctxt, mac_key):\n",
    "            raise ValueError(\"Invalid MAC\") # verify mac\n",
    "    return decrypt_simon(ctxt, nonce, enc_key)"
   ]
  },
  {
   "cell_type": "code",
   "execution_count": 28,
   "id": "a7b0f09b",
   "metadata": {},
   "outputs": [
    {
     "name": "stdout",
     "output_type": "stream",
     "text": [
      "Decrypted Plaintext: b'This is a secret message'\n",
      "MAC Tag Verified: 1279a1c91ff1c92626ef1c953b82eb4f\n"
     ]
    }
   ],
   "source": [
    "ptxt = b\"This is a secret message\"\n",
    "enc_key = secrets.token_bytes(32)  # encryption key\n",
    "mac_key=secrets.token_bytes(32) # mac key\n",
    "ctxt, nonce, tag = EtM_encrypt(ptxt, enc_key,mac_key) # etm encrypt\n",
    "try:\n",
    "        decrypted_ptxt = EtM_decrypt(ctxt, nonce, tag, enc_key,mac_key) # etm decrypt\n",
    "        print(\"Decrypted Plaintext:\", decrypted_ptxt)\n",
    "        print(\"MAC Tag Verified:\", tag.hex())\n",
    "except ValueError as e:\n",
    "        print(\"Decryption failed:\", str(e))"
   ]
  },
  {
   "cell_type": "code",
   "execution_count": null,
   "id": "a26a317b-4e97-402b-93a7-08d8be91ef8d",
   "metadata": {
    "deletable": false,
    "editable": false,
    "nbgrader": {
     "cell_type": "code",
     "checksum": "84720a2a8394bd81fb772b8f5e956578",
     "grade": true,
     "grade_id": "cell-38340672b3001960",
     "locked": true,
     "points": 0,
     "schema_version": 3,
     "solution": false,
     "task": false
    }
   },
   "outputs": [],
   "source": [
    "# hidden test cases"
   ]
  }
 ],
 "metadata": {
  "kernelspec": {
   "display_name": "Python 3 (ipykernel)",
   "language": "python",
   "name": "python3"
  },
  "language_info": {
   "codemirror_mode": {
    "name": "ipython",
    "version": 3
   },
   "file_extension": ".py",
   "mimetype": "text/x-python",
   "name": "python",
   "nbconvert_exporter": "python",
   "pygments_lexer": "ipython3",
   "version": "3.9.13"
  }
 },
 "nbformat": 4,
 "nbformat_minor": 5
}
