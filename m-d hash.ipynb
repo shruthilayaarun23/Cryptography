{
 "cells": [
  {
   "cell_type": "markdown",
   "id": "49409608",
   "metadata": {},
   "source": [
    "**Show all your work for full credit. Each source code you submit should include detailed comments and instructions on how to run it in order to confirm that it works as expected. If the program that does not run or throws runtime errors, it cannot be graded. You can refer to the programming guidelines from the TAs here: https://tinyurl.com/CPEG-472-672-Programming-Guide/**\n",
    "\n",
    "**This is an individual assignment and each student should work on their own. Ensure you don't share any code online or with others (note, using Replit, GitHub and similar online platforms can make your code accessible to others).**\n",
    "\n",
    "**To submit the assignment, you need to use Jupyter Notebook with the provided cell blocks and follow the naming conventions and instructions posted here: https://tinyurl.com/CPEG-472-672-Programming-Guide/**"
   ]
  },
  {
   "cell_type": "markdown",
   "id": "5b79b100",
   "metadata": {},
   "source": [
    "Before you turn this problem in, make sure everything runs as expected. First, **restart the kernel** (in the menubar, select Kernel $\\rightarrow$ Restart) and then **run all cells** (in the menubar, select Cell $\\rightarrow$ Run All).\n",
    "\n",
    "Make sure you fill in any place that says `YOUR CODE HERE` or \"YOUR ANSWER HERE\", as well as your name and section below:"
   ]
  },
  {
   "cell_type": "code",
   "execution_count": 1,
   "id": "709de937",
   "metadata": {},
   "outputs": [],
   "source": [
    "NAME = \"Shruthilaya Arun\"\n",
    "#SECTION = \"472\"\n",
    "SECTION = \"672\""
   ]
  },
  {
   "cell_type": "markdown",
   "id": "c5ec8e96",
   "metadata": {},
   "source": [
    "---"
   ]
  },
  {
   "cell_type": "markdown",
   "id": "82a57cb4-477a-44cb-ac3e-41a5089ea8d7",
   "metadata": {
    "deletable": false,
    "editable": false,
    "nbgrader": {
     "cell_type": "markdown",
     "checksum": "e670212dedd4a73ee730a7c39108492e",
     "grade": false,
     "grade_id": "cell-0c9a7d12a4bf62d4",
     "locked": true,
     "schema_version": 3,
     "solution": false,
     "task": false
    }
   },
   "source": [
    "## <font color='blue'> Question 4 [25 points total - answer all parts] "
   ]
  },
  {
   "cell_type": "code",
   "execution_count": 2,
   "id": "43292aac",
   "metadata": {},
   "outputs": [
    {
     "name": "stdout",
     "output_type": "stream",
     "text": [
      "Requirement already satisfied: simonspeckciphers in c:\\users\\shrut\\anaconda3\\lib\\site-packages (1.0.0)\n"
     ]
    }
   ],
   "source": [
    " !pip install simonspeckciphers"
   ]
  },
  {
   "cell_type": "code",
   "execution_count": 3,
   "id": "47b1e85d-5b89-478a-9829-939d2996c635",
   "metadata": {
    "deletable": false,
    "editable": false,
    "nbgrader": {
     "cell_type": "code",
     "checksum": "a05496d7b56396e3750003296c3d28ba",
     "grade": false,
     "grade_id": "cell-720ad7988c94d763",
     "locked": true,
     "schema_version": 3,
     "solution": false,
     "task": false
    }
   },
   "outputs": [],
   "source": [
    "# !pip install simonspeckciphers\n",
    "from simon import SimonCipher"
   ]
  },
  {
   "cell_type": "markdown",
   "id": "d8d79483-99ba-440c-913b-27a2aed47e4e",
   "metadata": {
    "deletable": false,
    "editable": false,
    "nbgrader": {
     "cell_type": "markdown",
     "checksum": "b00cd4108a94b3e12eb1d7e3e434c9cc",
     "grade": false,
     "grade_id": "cell-c8f7a139da1c5ae3",
     "locked": true,
     "schema_version": 3,
     "solution": false,
     "task": false
    }
   },
   "source": [
    "## <font color='blue'>(a) [10 points] Implement a M-D hash H based on the D-M compression that uses the Simon128/128 block cipher (example library implementation https://pypi.org/project/simonspeckciphers/). The M-D hash should be able to access blocks of arbitrary length and use proper padding.</font>"
   ]
  },
  {
   "cell_type": "code",
   "execution_count": 5,
   "id": "5a48107f-908b-42c7-84fd-6de09a998171",
   "metadata": {
    "deletable": false,
    "nbgrader": {
     "cell_type": "code",
     "checksum": "007411272c22a25e1963e759c621cf7b",
     "grade": false,
     "grade_id": "cell-fd93c378eda9d27b",
     "locked": false,
     "schema_version": 3,
     "solution": true,
     "task": false
    }
   },
   "outputs": [],
   "source": [
    "\n",
    "# 3 points\n",
    "def padding(ptxt: bytes) -> bytes:\n",
    "    \"\"\"\n",
    "    You must padd the ptxt to a multiple of 16, based on \n",
    "    the padding blueprint asked in the question. return the padded ptxt in\n",
    "    bytes format.\n",
    "    \"\"\"\n",
    "    \n",
    "    padded_ptxt = b\"\"\n",
    "    # YOUR CODE HERE\n",
    "    if len(ptxt) % 16 == 0:\n",
    "        return ptxt\n",
    "    padded_ptxt = ptxt + b'\\x80' # add 1\n",
    "    pad_len = (16 - (len(padded_ptxt) % 16)) -1 #get length\n",
    "    padded_ptxt += b'\\x00' * pad_len # add zeros\n",
    "    original_length = len(ptxt).to_bytes(1, byteorder='big')  # get actual length\n",
    "    padded_ptxt += original_length\n",
    "\n",
    "    return padded_ptxt\n",
    "# 3 points\n",
    "def compression(ptxt: int, key: int) -> int:\n",
    "    \"\"\" \n",
    "    Implement the D-M compression using the Simon encryption. The output hash h \n",
    "    should be an integer.\n",
    "    \"\"\"\n",
    "    h = 0\n",
    "    # YOUR CODE HERE\n",
    "    cipher = SimonCipher(key) # initialise key\n",
    "    encryption= cipher.encrypt(ptxt) # encrypt ptxt\n",
    "    h=ptxt^encryption # xor ptxt and encrypted ptxt\n",
    "    return h\n",
    "# 4 points\n",
    "def merkel_damgard(ptxt: bytes) -> str:\n",
    "    \"\"\"\n",
    "    input is ptxt in bytes format. Implement the merkel_damgard hash that uses padding\n",
    "    function to pad the ptxt, and uses compression function as it's D-M compression.\n",
    "    You should return the digest in hex string format.\n",
    "    \"\"\"\n",
    "    digest = \"\" #hex string\n",
    "    # YOUR CODE HERE\n",
    "    padded_ptxt = padding(ptxt)\n",
    "    h=0\n",
    "    for i in range(0, len(padded_ptxt), 16):\n",
    "        block = int.from_bytes(padded_ptxt[i:i + 16], byteorder='big')  # get block of ptxt\n",
    "        h = compression(h , block)  # compression\n",
    "    digest=hex(h) # convert to hex \n",
    "    return digest[2:] # remove 0x prefix"
   ]
  },
  {
   "cell_type": "code",
   "execution_count": 6,
   "id": "1ff84758",
   "metadata": {
    "deletable": false,
    "editable": false,
    "nbgrader": {
     "cell_type": "code",
     "checksum": "15de625b425342d559f4501779ee4840",
     "grade": true,
     "grade_id": "cell-fba4b7b55f7f615f",
     "locked": true,
     "points": 3,
     "schema_version": 3,
     "solution": false,
     "task": false
    }
   },
   "outputs": [],
   "source": [
    "ptxt1 = b\"fourfourfourfour\"\n",
    "padded_ptxt1 = padding(ptxt1)\n",
    "assert type(padded_ptxt1) == bytes\n",
    "assert padded_ptxt1 == b'fourfourfourfour'\n",
    "\n",
    "ptxt2 = b\"thisis a long random string that you need to pad try\"\n",
    "padded_ptxt2 = padding(ptxt2)\n",
    "assert type(padded_ptxt2) == bytes\n",
    "assert padded_ptxt2 == b'thisis a long random string that you need to pad try\\x80\\x00\\x00\\x00\\x00\\x00\\x00\\x00\\x00\\x00\\x004'"
   ]
  },
  {
   "cell_type": "code",
   "execution_count": 7,
   "id": "2a52935f",
   "metadata": {},
   "outputs": [],
   "source": [
    "ptxt3 = b\"thisismyplace\"\n",
    "padded_ptxt3 = padding(ptxt3)\n",
    "assert type(padded_ptxt3) == bytes\n",
    "assert padded_ptxt3 == b'thisismyplace\\x80\\x00\\r'"
   ]
  },
  {
   "cell_type": "code",
   "execution_count": 8,
   "id": "da75a03c",
   "metadata": {
    "deletable": false,
    "editable": false,
    "nbgrader": {
     "cell_type": "code",
     "checksum": "8b147016a2baf2046466126a95303588",
     "grade": true,
     "grade_id": "cell-ef927e2b49cac992",
     "locked": true,
     "points": 3,
     "schema_version": 3,
     "solution": false,
     "task": false
    }
   },
   "outputs": [],
   "source": [
    "ptxt1 = 254525115973874115874502719046257766467\n",
    "key1 = 75587892947578446201832214508467310358\n",
    "h1 = compression(ptxt1,key1)\n",
    "assert type(h1) == int\n",
    "assert h1 == 319822978455615316176439425277408331349\n",
    "\n",
    "ptxt2 = 101762340182218496348316498306555754546\n",
    "key2 = 31343182667721937931820629963621645992\n",
    "h2 = compression(ptxt2,key2)\n",
    "assert type(h2) == int\n",
    "assert h2 == 11086398588071857704075469178241880169"
   ]
  },
  {
   "cell_type": "code",
   "execution_count": 9,
   "id": "b833a367",
   "metadata": {},
   "outputs": [],
   "source": [
    "ptxt3 = 0x0000000000000000\n",
    "key3 = 154732585181220405374602665520340664333\n",
    "h2 = compression(ptxt3, key3)\n",
    "assert h2 == 306284589063070061155210186206098569823\n"
   ]
  },
  {
   "cell_type": "code",
   "execution_count": 10,
   "id": "e0cd9f90",
   "metadata": {
    "deletable": false,
    "editable": false,
    "nbgrader": {
     "cell_type": "code",
     "checksum": "0363e6b3045fe80260fa21d6673a5713",
     "grade": true,
     "grade_id": "cell-d4e5025d2f2a1869",
     "locked": true,
     "points": 4,
     "schema_version": 3,
     "solution": false,
     "task": false
    }
   },
   "outputs": [],
   "source": [
    "digest1 = merkel_damgard(b\"thisismyplace\")\n",
    "assert type(digest1) == str\n",
    "assert len(digest1) == 32\n",
    "assert digest1 == \"e66c4422efc6a7678bcfde4e6add3a5f\"\n",
    "\n",
    "digest1 = merkel_damgard(b\"justaranodmstringlielijfle\")\n",
    "assert type(digest1) == str\n",
    "assert len(digest1) == 32\n",
    "assert digest1 == \"184e29e1c7affead1f3f9f6be97acc9d\""
   ]
  },
  {
   "cell_type": "markdown",
   "id": "2baf390c",
   "metadata": {
    "deletable": false,
    "editable": false,
    "nbgrader": {
     "cell_type": "markdown",
     "checksum": "cbfec7a5e4ae4dd6ed129a80c9fc598d",
     "grade": false,
     "grade_id": "cell-4ea9a0c75fe20f85",
     "locked": true,
     "schema_version": 3,
     "solution": false,
     "task": false
    }
   },
   "source": [
    "## <font color='blue'> (b) [15 points] Implement a secret-prefix MAC based on H from the previous step as illustrated in the reading and the lecture slides. Then, given a valid MAC T1 of a message M1 under a secret key K, implement a program that generates a valid forgery T2 for message M2 under the same key; in this case, M1 is the leftmost substring of M2 (i.e., M2 begins with the same bytes as M1, and M2 is longer than M1). Assume the MAC key K, and messages M1 and M2 have a bitsize that is an exact multiple of the block size of H. Demonstrate correctness by showing you can generate a valid pair (T2,M2) without knowing K, given M1, M2 and (T1,M1).</font>"
   ]
  },
  {
   "cell_type": "code",
   "execution_count": 11,
   "id": "adf012f9",
   "metadata": {
    "deletable": false,
    "nbgrader": {
     "cell_type": "code",
     "checksum": "ae7c897b4ce459ef1520eb09ad9a27b8",
     "grade": false,
     "grade_id": "cell-bbd755650075e223",
     "locked": false,
     "schema_version": 3,
     "solution": true,
     "task": false
    }
   },
   "outputs": [],
   "source": [
    "# 5 points\n",
    "def prefix_MAC(key: bytes, M1: bytes) -> str:\n",
    "    \"\"\" \n",
    "    Implement a secret-prefix MAC using hash function implemented in part a.\n",
    "    inputs are in bytes. Return tag T1 of message key+M1 in hex string format.\n",
    "    \"\"\" \n",
    "    T1 = \"\"\n",
    "    # YOUR CODE HERE\n",
    "    combined = key + M1 # message\n",
    "    T1 = merkel_damgard(combined)  #tag\n",
    "    \n",
    "    return T1\n",
    "    \n",
    "# 10 points\n",
    "def forgery(T1: str, M2:bytes) -> str:\n",
    "    \"\"\"\n",
    "    Given a valid MAC tag T1 of a message M1, and a message M2, can you forge\n",
    "    a new valid tag for message M1+M2? T1 is in hex string format and M2 is bytes.\n",
    "    Return the new tag in hex string format.\n",
    "    \"\"\"\n",
    "    T2 = \"\"\n",
    "    # YOUR CODE HERE\n",
    "    T1_int = int(T1,16) # convert to int\n",
    "    M2_int=int.from_bytes(M2,'big') # from bytes to int\n",
    "    T2_int=compression(T1_int,M2_int) #compression \n",
    "    T2=hex(T2_int)\n",
    "    return T2[2:]"
   ]
  },
  {
   "cell_type": "code",
   "execution_count": 12,
   "id": "365c5270",
   "metadata": {
    "deletable": false,
    "editable": false,
    "nbgrader": {
     "cell_type": "code",
     "checksum": "c8ffc6c371baa1864cec0eebb829a8ed",
     "grade": true,
     "grade_id": "cell-196e37e7a1ca11c3",
     "locked": true,
     "points": 5,
     "schema_version": 3,
     "solution": false,
     "task": false
    }
   },
   "outputs": [],
   "source": [
    "key = b\"\\xc6\\x80\\x08\\xdb\\x8c\\x06'\\nB\\x84\\x15,\\xf0\\xd7i:\"\n",
    "M1 = b'\\xe8\\xf5\\x99\\xaa\\xaf\\xe4b\\x83y\\x9a,l\\x9b\\xfb\\xe6\\xeb'\n",
    "T1 = prefix_MAC(key, M1)\n",
    "assert T1 == \"73b2bd3d98ccca2c0ba8e5c4589709b2\""
   ]
  },
  {
   "cell_type": "code",
   "execution_count": 13,
   "id": "f41dbee5",
   "metadata": {
    "deletable": false,
    "editable": false,
    "nbgrader": {
     "cell_type": "code",
     "checksum": "15d0a74aea8f453b36a7f563a1257a23",
     "grade": true,
     "grade_id": "cell-6171d68ddae4cf4f",
     "locked": true,
     "points": 5,
     "schema_version": 3,
     "solution": false,
     "task": false
    }
   },
   "outputs": [],
   "source": [
    "T1 = \"5961a52451d35761f6a68ca9142c9a43\"\n",
    "M2 = b'!)\\xe4\\xcd\\xd1@@\\xb2d\\xd6\\x18\\xc7?\\xa6=m'\n",
    "T2 = forgery(T1,M2)\n",
    "assert T2 == \"15b89ee0658205e22146306df98a1eab\""
   ]
  },
  {
   "cell_type": "code",
   "execution_count": 14,
   "id": "33beca6a",
   "metadata": {
    "deletable": false,
    "editable": false,
    "nbgrader": {
     "cell_type": "code",
     "checksum": "2616446c98b252169dc15abc993f59fb",
     "grade": true,
     "grade_id": "cell-6e9e9d3d8740536f",
     "locked": true,
     "points": 5,
     "schema_version": 3,
     "solution": false,
     "task": false
    }
   },
   "outputs": [],
   "source": [
    "# hidden tests"
   ]
  },
  {
   "cell_type": "code",
   "execution_count": null,
   "id": "691cf2c4",
   "metadata": {},
   "outputs": [],
   "source": []
  }
 ],
 "metadata": {
  "kernelspec": {
   "display_name": "Python 3 (ipykernel)",
   "language": "python",
   "name": "python3"
  },
  "language_info": {
   "codemirror_mode": {
    "name": "ipython",
    "version": 3
   },
   "file_extension": ".py",
   "mimetype": "text/x-python",
   "name": "python",
   "nbconvert_exporter": "python",
   "pygments_lexer": "ipython3",
   "version": "3.9.13"
  }
 },
 "nbformat": 4,
 "nbformat_minor": 5
}
