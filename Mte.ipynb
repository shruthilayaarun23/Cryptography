{
 "cells": [
  {
   "cell_type": "markdown",
   "id": "0748f1cd",
   "metadata": {},
   "source": [
    "**Show all your work for full credit. Each source code you submit should include detailed comments and instructions on how to run it in order to confirm that it works as expected. If the program that does not run or throws runtime errors, it cannot be graded. You can refer to the programming guidelines from the TAs here: https://tinyurl.com/CPEG-472-672-Programming-Guide/**\n",
    "\n",
    "**This is an individual assignment and each student should work on their own. Ensure you don't share any code online or with others (note, using Replit, GitHub and similar online platforms can make your code accessible to others).**\n",
    "\n",
    "**To submit the assignment, you need to use Jupyter Notebook with the provided cell blocks and follow the naming conventions and instructions posted here: https://tinyurl.com/CPEG-472-672-Programming-Guide/**"
   ]
  },
  {
   "cell_type": "markdown",
   "id": "cdcbd168",
   "metadata": {},
   "source": [
    "Before you turn this problem in, make sure everything runs as expected. First, **restart the kernel** (in the menubar, select Kernel $\\rightarrow$ Restart) and then **run all cells** (in the menubar, select Cell $\\rightarrow$ Run All).\n",
    "\n",
    "Make sure you fill in any place that says `YOUR CODE HERE` or \"YOUR ANSWER HERE\", as well as your name and section below:\n",
    "\n",
    "<font color='red' size=\"4\">Import any additional libraries you need in the same code block that you use it.</font>"
   ]
  },
  {
   "cell_type": "code",
   "execution_count": null,
   "id": "62e584dc",
   "metadata": {},
   "outputs": [],
   "source": [
    "NAME = \"Shruthilaya Arun\"\n",
    "#SECTION = \"472\"\n",
    "SECTION = \"672\""
   ]
  },
  {
   "cell_type": "markdown",
   "id": "ad1a1111",
   "metadata": {},
   "source": [
    "---"
   ]
  },
  {
   "cell_type": "markdown",
   "id": "5f52df85-e938-4a53-8452-c53e20f43eb7",
   "metadata": {
    "deletable": false,
    "editable": false,
    "nbgrader": {
     "cell_type": "markdown",
     "checksum": "5d856cc299bb95071744ae15db7f8d50",
     "grade": false,
     "grade_id": "cell-548dea426e277f28",
     "locked": true,
     "schema_version": 3,
     "solution": false,
     "task": false
    }
   },
   "source": [
    "## Question 1b - Review the relevant code samples provided on Canvas. Note: SimonX/Y indicates block size X and key size Y. The same applies to SpeckX/Y. Then, using Python crypto libraries in a secure way, implement the following:"
   ]
  },
  {
   "cell_type": "code",
   "execution_count": null,
   "id": "34b35643-4f13-458b-96c3-aab87944a0eb",
   "metadata": {
    "deletable": false,
    "editable": false,
    "nbgrader": {
     "cell_type": "code",
     "checksum": "014e3a5cce6fcbd57b600b2327821651",
     "grade": false,
     "grade_id": "cell-ed3c74a2c1251c9d",
     "locked": true,
     "schema_version": 3,
     "solution": false,
     "task": false
    }
   },
   "outputs": [],
   "source": [
    "#! pip install SimonSpeck\n",
    "#! pip install pycryptodome\n",
    "\n",
    "from Crypto.Cipher import AES\n",
    "from Crypto.Hash import SHA256, CMAC\n",
    "from speck import SpeckCipher\n",
    "from Crypto.Random import get_random_bytes\n",
    "from Crypto.Util.number import bytes_to_long , long_to_bytes\n",
    "import hmac\n",
    "import secrets"
   ]
  },
  {
   "cell_type": "code",
   "execution_count": 41,
   "id": "d55f1c82",
   "metadata": {},
   "outputs": [],
   "source": [
    "from Cryptodome.Cipher import AES\n",
    "from Cryptodome.Hash import SHA256, CMAC\n",
    "from speck import SpeckCipher\n",
    "from Cryptodome.Random import get_random_bytes\n",
    "from Cryptodome.Util.number import bytes_to_long , long_to_bytes\n",
    "import hmac\n",
    "import secrets"
   ]
  },
  {
   "cell_type": "markdown",
   "id": "fceeafc0-3bb5-4d42-8864-5b0ddc5199a5",
   "metadata": {
    "deletable": false,
    "editable": false,
    "nbgrader": {
     "cell_type": "markdown",
     "checksum": "cd7c7cef9a60c53c334d102c25a1079a",
     "grade": false,
     "grade_id": "cell-48945c712cd8e489",
     "locked": true,
     "schema_version": 3,
     "solution": false,
     "task": false
    }
   },
   "source": [
    "### Q1b [15 points] Implement MtE using Speck128/128-CBC (with a random IV) as the cipher and HMAC-SHA-256 as the MAC. Your implementation should support multiple plaintext blocks, and include decryption & mac verification support."
   ]
  },
  {
   "cell_type": "code",
   "execution_count": 42,
   "id": "208d956a-15f0-41c8-8cb8-3795b6962455",
   "metadata": {
    "deletable": false,
    "nbgrader": {
     "cell_type": "code",
     "checksum": "b0c4b6644c73f8fdfba0762667bbe72b",
     "grade": false,
     "grade_id": "cell-484eb4eb894c189f",
     "locked": false,
     "schema_version": 3,
     "solution": true,
     "task": false
    }
   },
   "outputs": [],
   "source": [
    "# 5 points for tag generation/verification\n",
    "\n",
    "def mac_hmacsha(message: bytes, key: bytes) -> bytes:\n",
    "    \"\"\" \n",
    "    Securely generate the HMAC-SHA256 Tag with the hmac builtin function using the\n",
    "    SHA256 hash library. Return the tag in bytes\n",
    "    \"\"\"\n",
    "    tag = b\"\"\n",
    "    # YOUR CODE HERE\n",
    "    tag=hmac.new(key,message,SHA256).digest() # tag \n",
    "    return tag\n",
    "\n",
    "def mac_hmacsha_verify(tag: bytes, message: bytes, key: bytes) -> bool:\n",
    "    \"\"\" \n",
    "    Securely verify the HMAC-SHA256 Tag with the hmac builtin function using the\n",
    "    SHA256 hash library. Return True if MAC is valid, else return False. \n",
    "    \"\"\"\n",
    "    # YOUR CODE HERE\n",
    "    calculated_tag=hmac.new(key,message,SHA256).digest()\n",
    "    return hmac.compare_digest(calculated_tag,tag)# verify tag"
   ]
  },
  {
   "cell_type": "code",
   "execution_count": 43,
   "id": "49d16154",
   "metadata": {
    "deletable": false,
    "editable": false,
    "nbgrader": {
     "cell_type": "code",
     "checksum": "8b065a7aced9695d09f7e3ef97b7cd5b",
     "grade": true,
     "grade_id": "cell-d1140a24a6ea10a7",
     "locked": true,
     "points": 3,
     "schema_version": 3,
     "solution": false,
     "task": false
    }
   },
   "outputs": [],
   "source": [
    "ptxt = b\"this  a random message that is sufficiently long\"\n",
    "key = b'\\x0f?\\xb9c1\\xb6\\x91\\xe8\\x8c\\xc2\\xbf\\x10\\xab\\x12b\\x98\\x82\\xf3h\\xaa\\x19! \\xb99\\x0fi1\\xdc3\\xb1\\xcf'\n",
    "tag = mac_hmacsha(ptxt, key)\n",
    "assert tag == b'E\\xd7\\n\\x16U\\xca\\x13\\xbcz\\x9a\\x93z\\x7f\\x7f\\xf3\\xe3\\x8f\\x1b<.\\xc7j\\r\\xfb\\xbe\\xf1\\xd2)\\xc7\\xd6\\x08\\x8f'\n",
    "verify = mac_hmacsha_verify(tag, ptxt, key)\n",
    "assert verify == True"
   ]
  },
  {
   "cell_type": "code",
   "execution_count": 44,
   "id": "7d1e9ec0",
   "metadata": {
    "deletable": false,
    "editable": false,
    "nbgrader": {
     "cell_type": "code",
     "checksum": "055d501f6bf2a22b65407a98aceeb8b2",
     "grade": true,
     "grade_id": "cell-f2b6c93f0458cd14",
     "locked": true,
     "points": 2,
     "schema_version": 3,
     "solution": false,
     "task": false
    }
   },
   "outputs": [],
   "source": [
    "ptxt = b\"this  a random message that is sufficiently long\"\n",
    "key = b'\\x0f?\\xb9c1\\xb6\\x91\\xe8\\x8c\\xc2\\xbf\\x10\\xab\\x12b\\x98\\x82\\xf3h\\xaa\\x19! \\xb99\\x0fi1\\xdc3\\xb1\\xcf'\n",
    "tag = b'E\\xd7\\n\\x16U\\xaa\\x13\\xbcz\\x9a\\x93z\\x7f\\x7f\\xf3\\xe3\\x8f\\x1b<.\\xc7j\\r\\xfb\\xbe\\xf1\\xd2)\\xc7\\xd6\\x08\\x8f'\n",
    "verify = mac_hmacsha_verify(tag, ptxt, key)\n",
    "assert verify == False"
   ]
  },
  {
   "cell_type": "code",
   "execution_count": 45,
   "id": "0c950257-ebfe-4756-900a-aab7b40abebe",
   "metadata": {
    "deletable": false,
    "nbgrader": {
     "cell_type": "code",
     "checksum": "ccd0c28ef005c474ac8a5265a48717ec",
     "grade": false,
     "grade_id": "cell-7db543f949ad2132",
     "locked": false,
     "schema_version": 3,
     "solution": true,
     "task": false
    }
   },
   "outputs": [],
   "source": [
    "# 5 points for encryption/decryption\n",
    "\n",
    "def encrypt_speck(ptxt: bytes, key: bytes) -> (bytes, bytes):\n",
    "    \"\"\" \n",
    "    Encrypt the ptxt using Speck128/128-CBC. Use the given key.\n",
    "    Return the ctxt and generated iv as bytes.\n",
    "    Use long_to_bytes() and bytes_to_long() for bytes <-> int conversions\n",
    "    \"\"\"\n",
    "    ctxt= b\"\"\n",
    "    iv = b\"\"\n",
    "    # YOUR CODE HERE\n",
    "    iv=secrets.token_bytes(16)  # generate iv\n",
    "    cipher=SpeckCipher(bytes_to_long(key), key_size=128, block_size=128, mode='CBC', init=bytes_to_long(iv)) # initialise speck cipher \n",
    "    block_size=16 # block size\n",
    "    padded_ptxt=ptxt + b'\\x00' * (block_size - len(ptxt) % block_size)  # add padding\n",
    "    for i in range(0, len(padded_ptxt), block_size):\n",
    "        block=padded_ptxt[i:i + block_size] # get block\n",
    "        ctxt+=long_to_bytes(cipher.encrypt(bytes_to_long(block)))\n",
    "\n",
    "    return (ctxt, iv)\n",
    "def decrypt_speck(ctxt: bytes, iv: bytes, key: bytes) -> bytes:\n",
    "    \"\"\" \n",
    "    Decrypt the ctxt using Speck128/128-CBC. Use the given key and iv. \n",
    "    Return the decrypted ptxt.\n",
    "    Use long_to_bytes() and bytes_to_long() for bytes <-> int conversions\n",
    "    \"\"\"\n",
    "    ptxt = b\"\"\n",
    "    # YOUR CODE HERE\n",
    "    cipher=SpeckCipher(bytes_to_long(key), key_size=128, block_size=128, mode='CBC', init=bytes_to_long(iv)) # speck cipher\n",
    "    block_size=16 # block size\n",
    "\n",
    "    for i in range(0, len(ctxt), block_size):\n",
    "        block=ctxt[i:i + block_size] # get block\n",
    "        ptxt+=long_to_bytes(cipher.decrypt(bytes_to_long(block))) # decrypt ctxt\n",
    "\n",
    "    return ptxt.rstrip(b'\\x00') # remove zeros\n"
   ]
  },
  {
   "cell_type": "code",
   "execution_count": 46,
   "id": "c994bd04",
   "metadata": {
    "deletable": false,
    "editable": false,
    "nbgrader": {
     "cell_type": "code",
     "checksum": "abdf921ab63bc7cab7c6c3e349e42cc9",
     "grade": true,
     "grade_id": "cell-2a26fef06f255f1f",
     "locked": true,
     "points": 2,
     "schema_version": 3,
     "solution": false,
     "task": false
    }
   },
   "outputs": [],
   "source": [
    "ptxt = b\"this  a random message that is sufficiently long\"\n",
    "key = b'\\x0f?\\xb9c1\\xb6\\x91\\xe8\\x8c\\xc2\\xbf\\x10\\xab\\x12b\\x98\\x82\\xf3h\\xaa\\x19! \\xb99\\x0fi1\\xdc3\\xb1\\xcf'\n",
    "ctxt = b'/\\xd6\\xa5\\x93$\\xdf\\x14\\xa2\\x9f\\xf6\\x90\\xd6,\\xa0\\xc1SK\\x84\\xc9\\x7f\\xab\\xdco\\xd0C\\xfd\\x1a\\xae\\xcf\\xdb\\xddy3+\\x0b\\x8b\\xa37\\x8a\\xf8\\t\\x1f\\x16\\\\\\x7fs\\x1b\\xca'\n",
    "iv = b'\\x92\\xd1\\xcfx\\x0f\\x8f\\x99PBr\\xe3.\\xd5H\\x164\\xe8\"\\xd52g>\\x885\\x01\\x83\\x0b\\xb0\\x1c\\xf9\\x81\\xd6\\xe7\\xa9\\xbf\\xfcB7D\\x13\\xbd\\x97m\\x10\\xd9\\x10l\\x8c\\xfa\\x19\\xf7JNq\\x95\\x06O\\xb6S\\x84\\x96U:\\xfc\\xc4H\\xea\\xa8\\xa6\\x8d\\xcf\\x90=yH\\x03\\xf5\\xc7\\xff\\x16/Q\\x11\\x8bT\\x16\\xf1R\\xbe\\xe0\\xceG2_/\\x91\\xcb\\xf1i\\x89\\xb5B\\x012\\xdf\\xc2\\xb8j\\xe4\\x0e;\\x96ag\\x82\\tg\\xd4#\\xa6\\x01hRD|\\xa5\\xbei'\n",
    "\n",
    "ptxt_decrypt = decrypt_speck(ctxt, iv, key)\n",
    "assert ptxt_decrypt == ptxt"
   ]
  },
  {
   "cell_type": "code",
   "execution_count": 47,
   "id": "18292253-acf4-46b5-ac94-83b711b1b64f",
   "metadata": {
    "deletable": false,
    "editable": false,
    "nbgrader": {
     "cell_type": "code",
     "checksum": "e2482eb050ee961f39b402a5661e62c1",
     "grade": true,
     "grade_id": "cell-5aaea2cf87932949",
     "locked": true,
     "points": 3,
     "schema_version": 3,
     "solution": false,
     "task": false
    }
   },
   "outputs": [],
   "source": [
    "ptxt = b\"this  a random message that is sufficiently long\"\n",
    "key = b'\\x0f?\\xb9c1\\xb6\\x91\\xe8\\x8c\\xc2\\xbf\\x10\\xab\\x12b\\x98\\x82\\xf3h\\xaa\\x19! \\xb99\\x0fi1\\xdc3\\xb1\\xcf'\n",
    "\n",
    "ctxt, iv = encrypt_speck(ptxt, key)\n",
    "ptxt_decrypt = decrypt_speck(ctxt, iv, key)\n",
    "assert ptxt_decrypt == ptxt\n",
    "\n",
    "# Ensure we generate a new iv\n",
    "ctxt_new, iv_new = encrypt_speck(ptxt, key)\n",
    "assert iv_new != iv\n",
    "assert ctxt_new != ctxt"
   ]
  },
  {
   "cell_type": "code",
   "execution_count": 48,
   "id": "bb308203-88a3-4da7-a630-da63e931a68f",
   "metadata": {
    "deletable": false,
    "editable": false,
    "nbgrader": {
     "cell_type": "code",
     "checksum": "c05e2aacad9d0359657d9e87050088fe",
     "grade": false,
     "grade_id": "cell-2c9a0d7838a13ef3",
     "locked": true,
     "schema_version": 3,
     "solution": false,
     "task": false
    }
   },
   "outputs": [],
   "source": [
    "#[3 points] Implement you own MtE_encrypt() function and implement an example to demonstrate its use.\n",
    "#You can have a hardcoded message, but the remaining elements must be securely generated.\n",
    "#Print the ciphertext and tag result in hex."
   ]
  },
  {
   "cell_type": "code",
   "execution_count": 49,
   "id": "b06b328a-0d1e-49db-903f-2bdfe0766780",
   "metadata": {
    "deletable": false,
    "nbgrader": {
     "cell_type": "code",
     "checksum": "8c41dbc85137884f6376cf34f4d5fd5c",
     "grade": true,
     "grade_id": "cell-14b714b5290a4ae0",
     "locked": false,
     "points": 3,
     "schema_version": 3,
     "solution": true,
     "task": false
    }
   },
   "outputs": [],
   "source": [
    "# YOUR CODE HERE\n",
    "def MtE_encrypt(message:bytes,enc_key:bytes,mac_key:bytes) -> (bytes,bytes,bytes,bytes):\n",
    "    iv=secrets.token_bytes(16) # generate iv\n",
    "    tag=mac_hmacsha(message,mac_key) # get tag\n",
    "    ciphertext,iv=encrypt_speck(message+tag,enc_key) #encrypt message+tag\n",
    "    return ciphertext,tag,iv"
   ]
  },
  {
   "cell_type": "code",
   "execution_count": 50,
   "id": "10edc882",
   "metadata": {},
   "outputs": [
    {
     "name": "stdout",
     "output_type": "stream",
     "text": [
      "Ciphertext: f45293f450b0596046bec33738ebb4b8b70b1dbe369826bd9b1264abdfc8ff57714e9f177c0a1486a669f08bacb13bd3523c4a435003b06d2b2fd2a180973528\n",
      "Tag: d45aa163ed207fc4c6746a2498c841f1caa6de7c18bd1b8363f2c18f8bc0fa51\n"
     ]
    }
   ],
   "source": [
    "enc_key=secrets.token_bytes(16) # generate key\n",
    "mac_key=secrets.token_bytes(16) # generate mac key\n",
    "message = b\"This is a secret message\"\n",
    "ciphertext, tag ,iv= MtE_encrypt(message,enc_key,mac_key)\n",
    "print(\"Ciphertext:\",ciphertext.hex())\n",
    "print(\"Tag:\",tag.hex())\n"
   ]
  },
  {
   "cell_type": "code",
   "execution_count": 51,
   "id": "702e2710-e8fd-44f3-8a94-74c3d239b872",
   "metadata": {
    "deletable": false,
    "editable": false,
    "nbgrader": {
     "cell_type": "code",
     "checksum": "ed06ec4d3e9dd8be5bab2bcc7973e8c1",
     "grade": true,
     "grade_id": "cell-2eae86f579d2b76f",
     "locked": true,
     "points": 0,
     "schema_version": 3,
     "solution": false,
     "task": false
    }
   },
   "outputs": [],
   "source": [
    "# hidden test cases"
   ]
  },
  {
   "cell_type": "code",
   "execution_count": 52,
   "id": "3b4c126e-ff4c-4b72-b3f1-7e7f6bf46529",
   "metadata": {
    "deletable": false,
    "editable": false,
    "nbgrader": {
     "cell_type": "code",
     "checksum": "843edd1320ef49127d88cc865528d7f0",
     "grade": false,
     "grade_id": "cell-776e976491ebdbdb",
     "locked": true,
     "schema_version": 3,
     "solution": false,
     "task": false
    }
   },
   "outputs": [],
   "source": [
    "# [2 points] Implement you own MtE_decrypt() function. \n",
    "# Demostrate its use by decrypting and verifying the EaM_encrypt result above. \n",
    "# Print the plaintext as a byte string and tag result."
   ]
  },
  {
   "cell_type": "code",
   "execution_count": 55,
   "id": "663f5d73-6427-402d-a60e-f13171e35c03",
   "metadata": {
    "deletable": false,
    "nbgrader": {
     "cell_type": "code",
     "checksum": "ccd5a73ff303d7d383d41d56aaf5e04e",
     "grade": true,
     "grade_id": "cell-7b0ae3d546c6a1fc",
     "locked": false,
     "points": 2,
     "schema_version": 3,
     "solution": true,
     "task": false
    }
   },
   "outputs": [],
   "source": [
    "# YOUR CODE HERE\n",
    "def MtE_decrypt(ciphertext: bytes, iv: bytes, enc_key: bytes, tag: bytes,mac_key:bytes) -> bytes:\n",
    "    decrypted_data = decrypt_speck(ciphertext, iv, enc_key) # decrypt ciphertext\n",
    "    message, tag = decrypted_data[:-32], decrypted_data[-32:] # split tag and ptxt\n",
    "    if not mac_hmacsha_verify(tag, message, mac_key):\n",
    "        raise ValueError(\"Invalid Tag!\") # verify tag\n",
    "    return message"
   ]
  },
  {
   "cell_type": "code",
   "execution_count": 58,
   "id": "254e23da",
   "metadata": {},
   "outputs": [
    {
     "name": "stdout",
     "output_type": "stream",
     "text": [
      "Plaintext: b'This is a secret message'\n",
      "Tag: b'\\xb3\\xb7\\xf29V\\xb8\\xb4\\x94tz\\rI\\xbe\\xe5\\x96\\x01%\\x92\\xd9\\x85\\xd0\\xfa\\xda\\xb3v\\xaaZ\\x19@\\x87\\xff\\xad'\n"
     ]
    }
   ],
   "source": [
    "enc_key=secrets.token_bytes(16) # generate key\n",
    "mac_key=secrets.token_bytes(16) # generate mac key\n",
    "message = b\"This is a secret message\"\n",
    "ciphertext, tag,iv,enc_key,mac_key = MtE_encrypt(message,enc_key,mac_key) # mte encrypt\n",
    "try:\n",
    "        ptxt = MtE_decrypt(ciphertext, iv, enc_key,tag,mac_key) # mte decrypt\n",
    "        print(\"Plaintext:\",ptxt)\n",
    "        print(\"Tag:\",tag)\n",
    "except ValueError as e:\n",
    "        print(e)"
   ]
  },
  {
   "cell_type": "code",
   "execution_count": 15,
   "id": "6aa82c85-b57e-47a8-a7ae-0f1d24218037",
   "metadata": {
    "deletable": false,
    "editable": false,
    "nbgrader": {
     "cell_type": "code",
     "checksum": "e013384f15f098cbf626eec3421d55da",
     "grade": true,
     "grade_id": "cell-3576b9769b1a315a",
     "locked": true,
     "points": 0,
     "schema_version": 3,
     "solution": false,
     "task": false
    }
   },
   "outputs": [],
   "source": [
    "# hidden test cases"
   ]
  },
  {
   "cell_type": "code",
   "execution_count": null,
   "id": "6d580d1f",
   "metadata": {},
   "outputs": [],
   "source": []
  }
 ],
 "metadata": {
  "kernelspec": {
   "display_name": "Python 3 (ipykernel)",
   "language": "python",
   "name": "python3"
  },
  "language_info": {
   "codemirror_mode": {
    "name": "ipython",
    "version": 3
   },
   "file_extension": ".py",
   "mimetype": "text/x-python",
   "name": "python",
   "nbconvert_exporter": "python",
   "pygments_lexer": "ipython3",
   "version": "3.9.13"
  }
 },
 "nbformat": 4,
 "nbformat_minor": 5
}
