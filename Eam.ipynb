{
 "cells": [
  {
   "cell_type": "markdown",
   "id": "2fa0a2b1",
   "metadata": {},
   "source": [
    "**Show all your work for full credit. Each source code you submit should include detailed comments and instructions on how to run it in order to confirm that it works as expected. If the program that does not run or throws runtime errors, it cannot be graded. You can refer to the programming guidelines from the TAs here: https://tinyurl.com/CPEG-472-672-Programming-Guide/**\n",
    "\n",
    "**This is an individual assignment and each student should work on their own. Ensure you don't share any code online or with others (note, using Replit, GitHub and similar online platforms can make your code accessible to others).**\n",
    "\n",
    "**To submit the assignment, you need to use Jupyter Notebook with the provided cell blocks and follow the naming conventions and instructions posted here: https://tinyurl.com/CPEG-472-672-Programming-Guide/**"
   ]
  },
  {
   "cell_type": "markdown",
   "id": "77a400a1",
   "metadata": {},
   "source": [
    "Before you turn this problem in, make sure everything runs as expected. First, **restart the kernel** (in the menubar, select Kernel $\\rightarrow$ Restart) and then **run all cells** (in the menubar, select Cell $\\rightarrow$ Run All).\n",
    "\n",
    "Make sure you fill in any place that says `YOUR CODE HERE` or \"YOUR ANSWER HERE\", as well as your name and section below:\n",
    "\n",
    "<font color='red' size=\"4\">Import any additional libraries you need in the same code block that you use it.</font>"
   ]
  },
  {
   "cell_type": "code",
   "execution_count": null,
   "id": "2e0f5d1f",
   "metadata": {},
   "outputs": [],
   "source": [
    "NAME = \"Shruthilaya Arun\"\n",
    "#SECTION = \"472\"\n",
    "SECTION = \"672\""
   ]
  },
  {
   "cell_type": "markdown",
   "id": "348d8da7",
   "metadata": {},
   "source": [
    "---"
   ]
  },
  {
   "cell_type": "markdown",
   "id": "5f52df85-e938-4a53-8452-c53e20f43eb7",
   "metadata": {
    "deletable": false,
    "editable": false,
    "nbgrader": {
     "cell_type": "markdown",
     "checksum": "d3add6e2a6137c47c99e727a34e95909",
     "grade": false,
     "grade_id": "cell-149f9dc67dce98d4",
     "locked": true,
     "schema_version": 3,
     "solution": false,
     "task": false
    }
   },
   "source": [
    "## Question 1a - Review the relevant code samples provided on Canvas. Note: SimonX/Y indicates block size X and key size Y. The same applies to SpeckX/Y. Then, using Python crypto libraries in a secure way, implement the following:"
   ]
  },
  {
   "cell_type": "code",
   "execution_count": 1,
   "id": "34b35643-4f13-458b-96c3-aab87944a0eb",
   "metadata": {
    "deletable": false,
    "editable": false,
    "nbgrader": {
     "cell_type": "code",
     "checksum": "724a066898a1a57b2d7906c8ed0bd12f",
     "grade": false,
     "grade_id": "cell-829874422eb0ced0",
     "locked": true,
     "schema_version": 3,
     "solution": false,
     "task": false
    }
   },
   "outputs": [
    {
     "ename": "ModuleNotFoundError",
     "evalue": "No module named 'Crypto'",
     "output_type": "error",
     "traceback": [
      "\u001b[1;31m---------------------------------------------------------------------------\u001b[0m",
      "\u001b[1;31mModuleNotFoundError\u001b[0m                       Traceback (most recent call last)",
      "\u001b[1;32m~\\AppData\\Local\\Temp\\ipykernel_9584\\1560856122.py\u001b[0m in \u001b[0;36m<module>\u001b[1;34m\u001b[0m\n\u001b[0;32m      1\u001b[0m \u001b[1;31m#! pip install SimonSpeck\u001b[0m\u001b[1;33m\u001b[0m\u001b[1;33m\u001b[0m\u001b[0m\n\u001b[0;32m      2\u001b[0m \u001b[1;31m#! pip install pycryptodome\u001b[0m\u001b[1;33m\u001b[0m\u001b[1;33m\u001b[0m\u001b[0m\n\u001b[1;32m----> 3\u001b[1;33m \u001b[1;32mfrom\u001b[0m \u001b[0mCrypto\u001b[0m\u001b[1;33m.\u001b[0m\u001b[0mCipher\u001b[0m \u001b[1;32mimport\u001b[0m \u001b[0mAES\u001b[0m\u001b[1;33m\u001b[0m\u001b[1;33m\u001b[0m\u001b[0m\n\u001b[0m\u001b[0;32m      4\u001b[0m \u001b[1;32mfrom\u001b[0m \u001b[0mCrypto\u001b[0m\u001b[1;33m.\u001b[0m\u001b[0mHash\u001b[0m \u001b[1;32mimport\u001b[0m \u001b[0mPoly1305\u001b[0m\u001b[1;33m\u001b[0m\u001b[1;33m\u001b[0m\u001b[0m\n\u001b[0;32m      5\u001b[0m \u001b[1;32mfrom\u001b[0m \u001b[0msimon\u001b[0m \u001b[1;32mimport\u001b[0m \u001b[0mSimonCipher\u001b[0m\u001b[1;33m\u001b[0m\u001b[1;33m\u001b[0m\u001b[0m\n",
      "\u001b[1;31mModuleNotFoundError\u001b[0m: No module named 'Crypto'"
     ]
    }
   ],
   "source": [
    "#! pip install SimonSpeck\n",
    "#! pip install pycryptodome\n",
    "from Crypto.Cipher import AES\n",
    "from Crypto.Hash import Poly1305\n",
    "from simon import SimonCipher\n",
    "from Crypto.Random import get_random_bytes\n",
    "from Crypto.Util.number import bytes_to_long , long_to_bytes\n",
    "import secrets"
   ]
  },
  {
   "cell_type": "code",
   "execution_count": 1,
   "id": "afcceb98",
   "metadata": {},
   "outputs": [],
   "source": [
    "#! pip install SimonSpeck\n",
    "#! pip install pycryptodome\n",
    "from Cryptodome.Cipher import AES\n",
    "from Cryptodome.Hash import Poly1305\n",
    "from simon import SimonCipher\n",
    "from Cryptodome.Random import get_random_bytes\n",
    "from Cryptodome.Util.number import bytes_to_long , long_to_bytes\n",
    "import secrets"
   ]
  },
  {
   "cell_type": "markdown",
   "id": "fceeafc0-3bb5-4d42-8864-5b0ddc5199a5",
   "metadata": {
    "deletable": false,
    "editable": false,
    "nbgrader": {
     "cell_type": "markdown",
     "checksum": "a874f98a11b96079f93248802c93b9fa",
     "grade": false,
     "grade_id": "cell-b0cc0c8ddecba9b4",
     "locked": true,
     "schema_version": 3,
     "solution": false,
     "task": false
    }
   },
   "source": [
    "### Q1a (a) [20 points] Implement EaM using Simon128/128-CTR as the cipher and Poly1305-AES as the MAC. Your implementation should support multiple plaintext blocks, and include decryption & mac verification support. "
   ]
  },
  {
   "cell_type": "code",
   "execution_count": 2,
   "id": "6728e899-18d1-4c81-bb72-ab2399612af2",
   "metadata": {
    "deletable": false,
    "nbgrader": {
     "cell_type": "code",
     "checksum": "6efd3dc88d6f2c05cafe997cd09b1f74",
     "grade": false,
     "grade_id": "cell-9dea908da6c71736",
     "locked": false,
     "schema_version": 3,
     "solution": true,
     "task": false
    }
   },
   "outputs": [],
   "source": [
    "# 6 points for tag generation/verification\n",
    "def mac_poly1305(message: bytes, key: bytes) -> (bytes, bytes):\n",
    "    \"\"\" \n",
    "    Securely generate the Poly1305-AES MAC Tag with the builtin Poly1305 library functions.\n",
    "    Return the tag and secure nonce as bytes.\n",
    "    \"\"\"\n",
    "    tag = b\"\"\n",
    "    nonce = b\"\"\n",
    "    \n",
    "    # YOUR CODE HERE\n",
    "    mac = Poly1305.new(key=key,cipher=AES) # initialise poly1305\n",
    "    mac.update(message) # add message\n",
    "    nonce=mac.nonce # get nonce\n",
    "    tag=mac.digest() # get tag\n",
    "    return (tag,nonce)\n",
    "\n",
    "def mac_poly1305_verify(tag: bytes, message: bytes, key: bytes, nonce: bytes) -> bool:\n",
    "    \"\"\" \n",
    "    Securely verify the Poly1305-AES MAC with the builtin Poly1305 library functions.\n",
    "    Return True if MAC is valid, else return False. \n",
    "    Hint: Use try/except to catch any errors.\n",
    "    \"\"\"\n",
    "    # YOUR CODE HERE\n",
    "    mac = Poly1305.new(key=key, nonce=nonce, cipher=AES, data=message) \n",
    "    try:\n",
    "        mac.verify(tag) # verify tag\n",
    "        return True\n",
    "    except:\n",
    "        return False"
   ]
  },
  {
   "cell_type": "code",
   "execution_count": 3,
   "id": "efc53080-7e80-4da9-a984-3abde31f5d28",
   "metadata": {
    "deletable": false,
    "editable": false,
    "nbgrader": {
     "cell_type": "code",
     "checksum": "6ed1a4a1cc3478b22f1e0e38976a2cdb",
     "grade": true,
     "grade_id": "cell-e25fcb9e76d70480",
     "locked": true,
     "points": 2,
     "schema_version": 3,
     "solution": false,
     "task": false
    }
   },
   "outputs": [],
   "source": [
    "ptxt = b\"this  a random message that is sufficiently long\"\n",
    "key = b'UR=\\x13\\x00\\x01=\\x9cQ[[\\xfc<F{`^\\xb9\\x0bS<\\x956\\x13\\x7f-\\xe1b\\x95\\x92\\xee@'\n",
    "tag_verify = b'\\x18n\\xc4\\xb49k\\r*~\\xd5\\x01\\xe02\\xce\\xf6-'\n",
    "nonce_verify = b'{\\x1f\\t:\\x15?\\x9b\\xe4\\x7f\\xc0\\x17T\\xd6\\x90`h'\n",
    "verify = mac_poly1305_verify(tag_verify, ptxt, key, nonce_verify)\n",
    "assert verify == True"
   ]
  },
  {
   "cell_type": "code",
   "execution_count": 4,
   "id": "98ce5094",
   "metadata": {
    "deletable": false,
    "editable": false,
    "nbgrader": {
     "cell_type": "code",
     "checksum": "dea6f81e55abcb582f98e60a92fdc060",
     "grade": true,
     "grade_id": "cell-fd6cf1a0f11445de",
     "locked": true,
     "points": 2,
     "schema_version": 3,
     "solution": false,
     "task": false
    }
   },
   "outputs": [],
   "source": [
    "ptxt = b\"this  a random message that is sufficiently long\"\n",
    "key = b'UR=\\x13\\x00\\x01=\\x9cQ[[\\xfc<F{`^\\xb9\\x0bS<\\x956\\x13\\x7f-\\xe1b\\x95\\x92\\xee@'\n",
    "tag , nonce = mac_poly1305(ptxt, key)\n",
    "verify = mac_poly1305_verify(tag, ptxt, key, nonce)\n",
    "assert verify == True\n",
    "new_tag , new_nonce = mac_poly1305(ptxt, key)\n",
    "assert new_nonce != nonce\n",
    "assert new_tag != tag"
   ]
  },
  {
   "cell_type": "code",
   "execution_count": 5,
   "id": "3680fc03",
   "metadata": {
    "deletable": false,
    "editable": false,
    "nbgrader": {
     "cell_type": "code",
     "checksum": "2fff5cdbe59e6287e2d3eeda65aef03b",
     "grade": true,
     "grade_id": "cell-f9464d3e795b7e55",
     "locked": true,
     "points": 2,
     "schema_version": 3,
     "solution": false,
     "task": false
    }
   },
   "outputs": [],
   "source": [
    "ptxt = b\"this  a random message that is sufficiently long\"\n",
    "key = b'UR=\\x13\\x00\\x01=\\x9cQ[[\\xfc<F{`^\\xb9\\x0bS<\\x956\\x13\\x7f-\\xe1b\\x95\\x92\\xee@'\n",
    "wrong_nonce = b'\\xa3*\\xdf<\\xf3v@{U\\xb8\\xb6z\\xa3(&\\xe3'\n",
    "verify = mac_poly1305_verify(tag, ptxt, key, wrong_nonce)\n",
    "assert verify == False"
   ]
  },
  {
   "cell_type": "code",
   "execution_count": 6,
   "id": "0c950257-ebfe-4756-900a-aab7b40abebe",
   "metadata": {
    "deletable": false,
    "nbgrader": {
     "cell_type": "code",
     "checksum": "1e711ba435b3d91f131bfdddce1e58da",
     "grade": false,
     "grade_id": "cell-16f5bcfd4abca879",
     "locked": false,
     "schema_version": 3,
     "solution": true,
     "task": false
    }
   },
   "outputs": [],
   "source": [
    "# 8 points for encryption/decryption\n",
    "\n",
    "def encrypt_simon(message: bytes, key: bytes) -> (bytes, bytes):\n",
    "    \"\"\" \n",
    "    Encrypt the message using Simon 128/128-CTR. Use the given key. \n",
    "    Return the ctxt and securely generated nonce as bytes.\n",
    "    Hint: Use bytes_to_long(msg_block) to convert data to long int, \n",
    "    and long_to_bytes(big_int) to convert data back to bytes.\n",
    "    Use the default counter argument for Simon Cipher.\n",
    "    Simon Cipher should take nonce as an argument.\n",
    "    \"\"\"\n",
    "    ctxt= b\"\"\n",
    "    nonce = b\"\"\n",
    "    \n",
    "    # YOUR CODE HERE\n",
    "    nonce=secrets.token_bytes(16) # generate nonce\n",
    "    cipher=SimonCipher(bytes_to_long(key), key_size=128, block_size=128, mode='CTR',init=bytes_to_long(nonce)) # simon 128/128 CTR MODE\n",
    "    block_size=16 #block size\n",
    "    padded_ptxt=ptxt+b'\\x00'*(block_size-len(ptxt)%block_size)#add zeros for padding\n",
    "    for i in range(0,len(padded_ptxt),block_size):\n",
    "        block=padded_ptxt[i:i+block_size] # get block\n",
    "        ctxt+=long_to_bytes(cipher.encrypt(bytes_to_long(block))) # encrypt and add to ctxt\n",
    "    return ctxt,nonce\n",
    "\n",
    "\n",
    "def decrypt_simon(ctxt: bytes, key: bytes, nonce: bytes) -> bytes:\n",
    "    \"\"\" \n",
    "    Decrypt the message using Simon 128/128-CTR. Use the given key and nonce. \n",
    "    Return the plaintext message.\n",
    "    Hint: Use bytes_to_long(msg_block) to convert data to long int, \n",
    "    and long_to_bytes(big_int) to convert data back to bytes.\n",
    "    Use the default counter argument for Simon Cipher.\n",
    "    Simon Cipher should take nonce as an argument.\n",
    "    \"\"\"\n",
    "    ptxt = b\"\"\n",
    "    # YOUR CODE HERE\n",
    "    cipher=SimonCipher(bytes_to_long(key),key_size=128,block_size=128,mode='CTR',init=bytes_to_long(nonce)) # simon 128/128 CTR\n",
    "    block_size=16 # block size\n",
    "    for i in range(0,len(ctxt),block_size):\n",
    "        block=ctxt[i:i+block_size] # get block\n",
    "        decrypted_block=long_to_bytes(cipher.decrypt(bytes_to_long(block)),block_size) # decrypt block and add to ptxt\n",
    "        ptxt+=decrypted_block\n",
    "    return ptxt.rstrip(b'x\\00') # remove zeros\n"
   ]
  },
  {
   "cell_type": "code",
   "execution_count": 7,
   "id": "bf622bfa",
   "metadata": {
    "deletable": false,
    "editable": false,
    "nbgrader": {
     "cell_type": "code",
     "checksum": "b20821c02e0a63ab22e3137f4c708601",
     "grade": true,
     "grade_id": "cell-22f85ed13ecda1a1",
     "locked": true,
     "points": 4,
     "schema_version": 3,
     "solution": false,
     "task": false
    }
   },
   "outputs": [],
   "source": [
    "nonce = b'\\x03\\xf9\\x02Kp\\xcc\\x00\\xc1\\xe6\\xea\\xabo\\xc9c9\\xe9'\n",
    "key = b'Bv\\xc1.Xs\\xa0\\x0c\\xabt\\x8b\\xe0Cs\\xc0\\x15'\n",
    "ctxt = b'\\xdb\\xa2@\\x91\\x9e4\\xd6Z\\x8b_\\x9e\\x90Iz\\x92`'\n",
    "\n",
    "ptxt = decrypt_simon(ctxt, key, nonce)\n",
    "assert ptxt == b\"\\x8c\\xf2'1\\x10\\x89s\\xbe;{\\x18S\\xac\\x0e\\x17\\xd9\""
   ]
  },
  {
   "cell_type": "code",
   "execution_count": 8,
   "id": "694af10b",
   "metadata": {
    "deletable": false,
    "editable": false,
    "nbgrader": {
     "cell_type": "code",
     "checksum": "da86229deed8076ed0d5961e52e20fea",
     "grade": true,
     "grade_id": "cell-aba92ffefa587c0f",
     "locked": true,
     "points": 4,
     "schema_version": 3,
     "solution": false,
     "task": false
    }
   },
   "outputs": [],
   "source": [
    "ptxt = b\"this  a random message that is sufficiently long\"\n",
    "key = b'Bv\\xc1.Xs\\xa0\\x0c\\xabt\\x8b\\xe0Cs\\xc0\\x15'\n",
    "ctxt , nonce = encrypt_simon(ptxt, key)\n",
    "new_ptxt = decrypt_simon(ctxt, key, nonce)\n",
    "assert new_ptxt == ptxt\n",
    "# test unique nonce\n",
    "ctxt_new , nonce_new = encrypt_simon(ptxt, key)\n",
    "assert nonce_new != nonce\n",
    "assert ctxt_new != ctxt"
   ]
  },
  {
   "cell_type": "code",
   "execution_count": 9,
   "id": "2bc42f4e-4a6c-490d-ac2e-7f5740002567",
   "metadata": {
    "deletable": false,
    "editable": false,
    "nbgrader": {
     "cell_type": "code",
     "checksum": "df479a185508f69a5c6e4558636089b3",
     "grade": false,
     "grade_id": "cell-d8d2c8950560b3e2",
     "locked": true,
     "schema_version": 3,
     "solution": false,
     "task": false
    }
   },
   "outputs": [],
   "source": [
    "# [4 points] Implement you own EaM_encrypt() function and implement an example to demonstrate its use.\n",
    "# You can have a hardcoded message, but the remaining elements must be securely generated.\n",
    "# Print the ciphertext and tag result in hex.\n"
   ]
  },
  {
   "cell_type": "code",
   "execution_count": 30,
   "id": "b06b328a-0d1e-49db-903f-2bdfe0766780",
   "metadata": {
    "deletable": false,
    "nbgrader": {
     "cell_type": "code",
     "checksum": "adadff3d95c1f8a3640cb1643013ce16",
     "grade": true,
     "grade_id": "cell-4c2b77ba956343be",
     "locked": false,
     "points": 4,
     "schema_version": 3,
     "solution": true,
     "task": false
    }
   },
   "outputs": [],
   "source": [
    "# YOUR CODE HERE\n",
    "def EaM_encrypt(message: bytes, enc_key: bytes, mac_key: bytes) -> (bytes, bytes, bytes, bytes):\n",
    "    ctxt, enc_nonce=encrypt_simon(message, enc_key) # encrypt ptxt\n",
    "    tag, mac_nonce=mac_poly1305(message, mac_key) # get tag\n",
    "    return ctxt, tag, enc_nonce, mac_nonce\n",
    "\n"
   ]
  },
  {
   "cell_type": "code",
   "execution_count": 31,
   "id": "0bd32842",
   "metadata": {},
   "outputs": [
    {
     "name": "stdout",
     "output_type": "stream",
     "text": [
      "Ciphertext : cd846396eda52821526e5b65cdfd89b387d9958f42b872fdd7bca8650e824b0c21f044e9b0da2148785e1fb84b7576cc\n",
      "Tag : 44955cf5089e16fd2aff5542847f57f6\n"
     ]
    }
   ],
   "source": [
    "ptxt=b\"This is a sample message for Encrypt-and-MAC.\"\n",
    "enc_key=get_random_bytes(16)  \n",
    "mac_key=get_random_bytes(32)  \n",
    "\n",
    "ctxt, tag, nonce_enc, nonce_mac=EaM_encrypt(ptxt, enc_key, mac_key)\n",
    "\n",
    "print(\"Ciphertext :\", ctxt.hex())\n",
    "print(\"Tag :\", tag.hex())"
   ]
  },
  {
   "cell_type": "code",
   "execution_count": 32,
   "id": "6f34e235-2484-4c77-9cff-9c2d3f39a7f0",
   "metadata": {
    "deletable": false,
    "editable": false,
    "nbgrader": {
     "cell_type": "code",
     "checksum": "9b652c628591cd04089b904687db3e6b",
     "grade": true,
     "grade_id": "cell-c8b9ad2dab89e51e",
     "locked": true,
     "points": 0,
     "schema_version": 3,
     "solution": false,
     "task": false
    }
   },
   "outputs": [],
   "source": [
    "# hidden test cases"
   ]
  },
  {
   "cell_type": "code",
   "execution_count": 33,
   "id": "e32f6f42-a029-4c93-a778-cf6f443e83cf",
   "metadata": {
    "deletable": false,
    "editable": false,
    "nbgrader": {
     "cell_type": "code",
     "checksum": "12f5b75533f442bef4c1e73999748f36",
     "grade": false,
     "grade_id": "cell-666dc45589ced9d0",
     "locked": true,
     "schema_version": 3,
     "solution": false,
     "task": false
    }
   },
   "outputs": [],
   "source": [
    "#[2 points] Implement you own EaM_decrypt() function. \n",
    "#Demostrate its use by decrypting and verifying the EaM_encrypt result above. \n",
    "#Print the plaintext as a byte string and tag result."
   ]
  },
  {
   "cell_type": "code",
   "execution_count": 34,
   "id": "663f5d73-6427-402d-a60e-f13171e35c03",
   "metadata": {
    "deletable": false,
    "nbgrader": {
     "cell_type": "code",
     "checksum": "e1cef6eb2ba66fdd78e79e10d47c9243",
     "grade": true,
     "grade_id": "cell-2b49a6e914492871",
     "locked": false,
     "points": 2,
     "schema_version": 3,
     "solution": true,
     "task": false
    }
   },
   "outputs": [],
   "source": [
    "# YOUR CODE HERE\n",
    "def EaM_decrypt(ciphertext: bytes, tag: bytes, enc_nonce: bytes, mac_nonce: bytes, enc_key: bytes, mac_key: bytes) -> bytes:\n",
    "    if not mac_poly1305_verify(tag, ciphertext, mac_key, mac_nonce):\n",
    "        raise ValueError(\"MAC verification failed.\") # verify tag\n",
    "    ptxt = decrypt_simon(ciphertext, enc_key, enc_nonce) # decrypt ptxt \n",
    "    return ptxt\n"
   ]
  },
  {
   "cell_type": "code",
   "execution_count": 35,
   "id": "2ba25a07",
   "metadata": {},
   "outputs": [
    {
     "name": "stdout",
     "output_type": "stream",
     "text": [
      "Ciphertext (hex): 05dee926eaa884086f1478611af697ee9cb76aa05834e73ff150c1229bb3cc45\n",
      "Tag (hex): e1a92a619a96568369912d4c45a9fa2b\n",
      "Decrypted plaintext: b'This is a secret message'\n"
     ]
    }
   ],
   "source": [
    "ptxt=b\"This is a secret message\"\n",
    "enc_key=get_random_bytes(16)  # encryption key\n",
    "mac_key=get_random_bytes(32)  # mac key\n",
    "ctxt, tag, nonce_enc, nonce_mac=EaM_encrypt(ptxt, enc_key, mac_key) # encrypt and mac \n",
    "print(\"Ciphertext:\", ctxt.hex())\n",
    "print(\"Tag (hex):\", tag.hex())\n",
    "try:\n",
    "    decrypted_ptxt=EaM_decrypt(ctxt, tag, nonce_enc, nonce_mac, enc_key, mac_key) # decryption of encrypt and mac\n",
    "    print(\"Decrypted plaintext:\", decrypted_ptxt)\n",
    "except ValueError as e:\n",
    "    print(\"Verification failed:\", e)"
   ]
  },
  {
   "cell_type": "code",
   "execution_count": 75,
   "id": "51e86228-1472-4956-8707-27c623850914",
   "metadata": {
    "deletable": false,
    "editable": false,
    "nbgrader": {
     "cell_type": "code",
     "checksum": "1003917c18df8d649e53c279721608f2",
     "grade": true,
     "grade_id": "cell-548b55dd42d8db8e",
     "locked": true,
     "points": 0,
     "schema_version": 3,
     "solution": false,
     "task": false
    }
   },
   "outputs": [],
   "source": [
    "# hidden test cases"
   ]
  },
  {
   "cell_type": "code",
   "execution_count": null,
   "id": "d80f5a56",
   "metadata": {},
   "outputs": [],
   "source": []
  }
 ],
 "metadata": {
  "kernelspec": {
   "display_name": "Python 3 (ipykernel)",
   "language": "python",
   "name": "python3"
  },
  "language_info": {
   "codemirror_mode": {
    "name": "ipython",
    "version": 3
   },
   "file_extension": ".py",
   "mimetype": "text/x-python",
   "name": "python",
   "nbconvert_exporter": "python",
   "pygments_lexer": "ipython3",
   "version": "3.9.13"
  }
 },
 "nbformat": 4,
 "nbformat_minor": 5
}
